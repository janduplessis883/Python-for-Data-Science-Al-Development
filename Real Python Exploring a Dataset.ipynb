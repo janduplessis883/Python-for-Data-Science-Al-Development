{
 "cells": [
  {
   "cell_type": "markdown",
   "source": "# Real Python - Exploring a Dataset ",
   "metadata": {
    "cell_id": "d9a825f6fb7d4be39188750c22270846",
    "tags": [],
    "is_collapsed": false,
    "formattedRanges": [],
    "owner_user_id": "fca6ac9c-3d25-4a6d-be0f-278b66795d95",
    "deepnote_app_coordinates": {
     "x": 0,
     "y": 1,
     "w": 12,
     "h": 5
    },
    "deepnote_cell_type": "text-cell-h1"
   }
  },
  {
   "cell_type": "markdown",
   "source": "https://realpython.com/pandas-python-explore-dataset/",
   "metadata": {
    "cell_id": "ece81e60e1c544648b4155b7338dd25f",
    "tags": [],
    "is_collapsed": false,
    "formattedRanges": [],
    "deepnote_cell_type": "text-cell-p"
   }
  },
  {
   "cell_type": "code",
   "source": "import pandas as pd\nnba = pd.read_csv('/work/nba_all_elo.csv')",
   "metadata": {
    "cell_id": "7d91bb697747421889cb06b797302e4d",
    "tags": [],
    "deepnote_to_be_reexecuted": false,
    "source_hash": "a440c72",
    "execution_start": 1656252415305,
    "execution_millis": 769,
    "deepnote_cell_type": "code",
    "deepnote_cell_height": 99
   },
   "outputs": [],
   "execution_count": 1
  },
  {
   "cell_type": "markdown",
   "source": "### df.shape",
   "metadata": {
    "cell_id": "c6a61e73828041ef8b6816929616f5df",
    "tags": [],
    "is_collapsed": false,
    "formattedRanges": [],
    "deepnote_cell_type": "text-cell-h3"
   }
  },
  {
   "cell_type": "code",
   "source": "nba.shape",
   "metadata": {
    "cell_id": "962decc5ed794c2daa4b5de0d8e61cb1",
    "tags": [],
    "deepnote_to_be_reexecuted": false,
    "source_hash": "bee358f7",
    "execution_start": 1656252416080,
    "execution_millis": 22,
    "deepnote_cell_type": "code",
    "deepnote_cell_height": 118,
    "deepnote_output_heights": [
     21
    ]
   },
   "outputs": [
    {
     "output_type": "execute_result",
     "execution_count": 2,
     "data": {
      "text/plain": "(126314, 23)"
     },
     "metadata": {}
    }
   ],
   "execution_count": 2
  },
  {
   "cell_type": "markdown",
   "source": "You use the Python built-in function&nbsp;len()&nbsp;to determine the number of rows. You also use the&nbsp;.shape&nbsp;attribute of the&nbsp;DataFrame&nbsp;to see its&nbsp;dimensionality. The result is a tuple containing the number of rows and columns.",
   "metadata": {
    "cell_id": "c03868a3dae34ab5a0ec709f55adc948",
    "tags": [],
    "is_collapsed": false,
    "formattedRanges": [],
    "deepnote_cell_type": "text-cell-p"
   }
  },
  {
   "cell_type": "markdown",
   "source": "### df.head()",
   "metadata": {
    "cell_id": "cd7ddd4274ad4100a0d766db2e5dcc83",
    "tags": [],
    "is_collapsed": false,
    "formattedRanges": [],
    "deepnote_cell_type": "text-cell-h3"
   }
  },
  {
   "cell_type": "code",
   "source": "nba.head()",
   "metadata": {
    "cell_id": "7610184907dc4c91b5c6ce25dc986b32",
    "tags": [],
    "deepnote_to_be_reexecuted": false,
    "source_hash": "e1002b1e",
    "execution_start": 1656252416108,
    "execution_millis": 110,
    "deepnote_cell_type": "code",
    "deepnote_cell_height": 410
   },
   "outputs": [
    {
     "output_type": "execute_result",
     "execution_count": 3,
     "data": {
      "application/vnd.deepnote.dataframe.v3+json": {
       "column_count": 23,
       "row_count": 5,
       "columns": [
        {
         "name": "gameorder",
         "dtype": "int64",
         "stats": {
          "unique_count": 3,
          "nan_count": 0,
          "min": "1",
          "max": "3",
          "histogram": [
           {
            "bin_start": 1,
            "bin_end": 1.2,
            "count": 2
           },
           {
            "bin_start": 1.2,
            "bin_end": 1.4,
            "count": 0
           },
           {
            "bin_start": 1.4,
            "bin_end": 1.6,
            "count": 0
           },
           {
            "bin_start": 1.6,
            "bin_end": 1.8,
            "count": 0
           },
           {
            "bin_start": 1.8,
            "bin_end": 2,
            "count": 0
           },
           {
            "bin_start": 2,
            "bin_end": 2.2,
            "count": 2
           },
           {
            "bin_start": 2.2,
            "bin_end": 2.4000000000000004,
            "count": 0
           },
           {
            "bin_start": 2.4000000000000004,
            "bin_end": 2.6,
            "count": 0
           },
           {
            "bin_start": 2.6,
            "bin_end": 2.8,
            "count": 0
           },
           {
            "bin_start": 2.8,
            "bin_end": 3,
            "count": 1
           }
          ]
         }
        },
        {
         "name": "game_id",
         "dtype": "object",
         "stats": {
          "unique_count": 3,
          "nan_count": 0,
          "categories": [
           {
            "name": "194611010TRH",
            "count": 2
           },
           {
            "name": "194611020CHS",
            "count": 2
           },
           {
            "name": "194611020DTF",
            "count": 1
           }
          ]
         }
        },
        {
         "name": "lg_id",
         "dtype": "object",
         "stats": {
          "unique_count": 1,
          "nan_count": 0,
          "categories": [
           {
            "name": "NBA",
            "count": 5
           }
          ]
         }
        },
        {
         "name": "_iscopy",
         "dtype": "int64",
         "stats": {
          "unique_count": 2,
          "nan_count": 0,
          "min": "0",
          "max": "1",
          "histogram": [
           {
            "bin_start": 0,
            "bin_end": 0.1,
            "count": 3
           },
           {
            "bin_start": 0.1,
            "bin_end": 0.2,
            "count": 0
           },
           {
            "bin_start": 0.2,
            "bin_end": 0.30000000000000004,
            "count": 0
           },
           {
            "bin_start": 0.30000000000000004,
            "bin_end": 0.4,
            "count": 0
           },
           {
            "bin_start": 0.4,
            "bin_end": 0.5,
            "count": 0
           },
           {
            "bin_start": 0.5,
            "bin_end": 0.6000000000000001,
            "count": 0
           },
           {
            "bin_start": 0.6000000000000001,
            "bin_end": 0.7000000000000001,
            "count": 0
           },
           {
            "bin_start": 0.7000000000000001,
            "bin_end": 0.8,
            "count": 0
           },
           {
            "bin_start": 0.8,
            "bin_end": 0.9,
            "count": 0
           },
           {
            "bin_start": 0.9,
            "bin_end": 1,
            "count": 2
           }
          ]
         }
        },
        {
         "name": "year_id",
         "dtype": "int64",
         "stats": {
          "unique_count": 1,
          "nan_count": 0,
          "min": "1947",
          "max": "1947",
          "histogram": [
           {
            "bin_start": 1946.5,
            "bin_end": 1946.6,
            "count": 0
           },
           {
            "bin_start": 1946.6,
            "bin_end": 1946.7,
            "count": 0
           },
           {
            "bin_start": 1946.7,
            "bin_end": 1946.8,
            "count": 0
           },
           {
            "bin_start": 1946.8,
            "bin_end": 1946.9,
            "count": 0
           },
           {
            "bin_start": 1946.9,
            "bin_end": 1947,
            "count": 0
           },
           {
            "bin_start": 1947,
            "bin_end": 1947.1,
            "count": 5
           },
           {
            "bin_start": 1947.1,
            "bin_end": 1947.2,
            "count": 0
           },
           {
            "bin_start": 1947.2,
            "bin_end": 1947.3,
            "count": 0
           },
           {
            "bin_start": 1947.3,
            "bin_end": 1947.4,
            "count": 0
           },
           {
            "bin_start": 1947.4,
            "bin_end": 1947.5,
            "count": 0
           }
          ]
         }
        },
        {
         "name": "date_game",
         "dtype": "object",
         "stats": {
          "unique_count": 2,
          "nan_count": 0,
          "categories": [
           {
            "name": "11/2/1946",
            "count": 3
           },
           {
            "name": "11/1/1946",
            "count": 2
           }
          ]
         }
        },
        {
         "name": "seasongame",
         "dtype": "int64",
         "stats": {
          "unique_count": 2,
          "nan_count": 0,
          "min": "1",
          "max": "2",
          "histogram": [
           {
            "bin_start": 1,
            "bin_end": 1.1,
            "count": 4
           },
           {
            "bin_start": 1.1,
            "bin_end": 1.2,
            "count": 0
           },
           {
            "bin_start": 1.2,
            "bin_end": 1.3,
            "count": 0
           },
           {
            "bin_start": 1.3,
            "bin_end": 1.4,
            "count": 0
           },
           {
            "bin_start": 1.4,
            "bin_end": 1.5,
            "count": 0
           },
           {
            "bin_start": 1.5,
            "bin_end": 1.6,
            "count": 0
           },
           {
            "bin_start": 1.6,
            "bin_end": 1.7000000000000002,
            "count": 0
           },
           {
            "bin_start": 1.7000000000000002,
            "bin_end": 1.8,
            "count": 0
           },
           {
            "bin_start": 1.8,
            "bin_end": 1.9,
            "count": 0
           },
           {
            "bin_start": 1.9,
            "bin_end": 2,
            "count": 1
           }
          ]
         }
        },
        {
         "name": "is_playoffs",
         "dtype": "int64",
         "stats": {
          "unique_count": 1,
          "nan_count": 0,
          "min": "0",
          "max": "0",
          "histogram": [
           {
            "bin_start": -0.5,
            "bin_end": -0.4,
            "count": 0
           },
           {
            "bin_start": -0.4,
            "bin_end": -0.3,
            "count": 0
           },
           {
            "bin_start": -0.3,
            "bin_end": -0.19999999999999996,
            "count": 0
           },
           {
            "bin_start": -0.19999999999999996,
            "bin_end": -0.09999999999999998,
            "count": 0
           },
           {
            "bin_start": -0.09999999999999998,
            "bin_end": 0,
            "count": 0
           },
           {
            "bin_start": 0,
            "bin_end": 0.10000000000000009,
            "count": 5
           },
           {
            "bin_start": 0.10000000000000009,
            "bin_end": 0.20000000000000007,
            "count": 0
           },
           {
            "bin_start": 0.20000000000000007,
            "bin_end": 0.30000000000000004,
            "count": 0
           },
           {
            "bin_start": 0.30000000000000004,
            "bin_end": 0.4,
            "count": 0
           },
           {
            "bin_start": 0.4,
            "bin_end": 0.5,
            "count": 0
           }
          ]
         }
        },
        {
         "name": "team_id",
         "dtype": "object",
         "stats": {
          "unique_count": 4,
          "nan_count": 0,
          "categories": [
           {
            "name": "NYK",
            "count": 2
           },
           {
            "name": "TRH",
            "count": 1
           },
           {
            "name": "2 others",
            "count": 2
           }
          ]
         }
        },
        {
         "name": "fran_id",
         "dtype": "object",
         "stats": {
          "unique_count": 4,
          "nan_count": 0,
          "categories": [
           {
            "name": "Knicks",
            "count": 2
           },
           {
            "name": "Huskies",
            "count": 1
           },
           {
            "name": "2 others",
            "count": 2
           }
          ]
         }
        },
        {
         "name": "pts",
         "dtype": "int64",
         "stats": {
          "unique_count": 5,
          "nan_count": 0,
          "min": "33",
          "max": "68",
          "histogram": [
           {
            "bin_start": 33,
            "bin_end": 36.5,
            "count": 1
           },
           {
            "bin_start": 36.5,
            "bin_end": 40,
            "count": 0
           },
           {
            "bin_start": 40,
            "bin_end": 43.5,
            "count": 0
           },
           {
            "bin_start": 43.5,
            "bin_end": 47,
            "count": 0
           },
           {
            "bin_start": 47,
            "bin_end": 50.5,
            "count": 1
           },
           {
            "bin_start": 50.5,
            "bin_end": 54,
            "count": 0
           },
           {
            "bin_start": 54,
            "bin_end": 57.5,
            "count": 0
           },
           {
            "bin_start": 57.5,
            "bin_end": 61,
            "count": 0
           },
           {
            "bin_start": 61,
            "bin_end": 64.5,
            "count": 1
           },
           {
            "bin_start": 64.5,
            "bin_end": 68,
            "count": 2
           }
          ]
         }
        },
        {
         "name": "elo_i",
         "dtype": "float64",
         "stats": {
          "unique_count": 2,
          "nan_count": 0,
          "min": "1300.0",
          "max": "1306.7233",
          "histogram": [
           {
            "bin_start": 1300,
            "bin_end": 1300.67233,
            "count": 4
           },
           {
            "bin_start": 1300.67233,
            "bin_end": 1301.34466,
            "count": 0
           },
           {
            "bin_start": 1301.34466,
            "bin_end": 1302.01699,
            "count": 0
           },
           {
            "bin_start": 1302.01699,
            "bin_end": 1302.68932,
            "count": 0
           },
           {
            "bin_start": 1302.68932,
            "bin_end": 1303.36165,
            "count": 0
           },
           {
            "bin_start": 1303.36165,
            "bin_end": 1304.0339800000002,
            "count": 0
           },
           {
            "bin_start": 1304.0339800000002,
            "bin_end": 1304.70631,
            "count": 0
           },
           {
            "bin_start": 1304.70631,
            "bin_end": 1305.3786400000001,
            "count": 0
           },
           {
            "bin_start": 1305.3786400000001,
            "bin_end": 1306.05097,
            "count": 0
           },
           {
            "bin_start": 1306.05097,
            "bin_end": 1306.7233,
            "count": 1
           }
          ]
         }
        },
        {
         "name": "elo_n",
         "dtype": "float64",
         "stats": {
          "unique_count": 5,
          "nan_count": 0,
          "min": "1279.6189",
          "max": "1309.6521",
          "histogram": [
           {
            "bin_start": 1279.6189,
            "bin_end": 1282.62222,
            "count": 1
           },
           {
            "bin_start": 1282.62222,
            "bin_end": 1285.62554,
            "count": 0
           },
           {
            "bin_start": 1285.62554,
            "bin_end": 1288.62886,
            "count": 0
           },
           {
            "bin_start": 1288.62886,
            "bin_end": 1291.63218,
            "count": 0
           },
           {
            "bin_start": 1291.63218,
            "bin_end": 1294.6354999999999,
            "count": 1
           },
           {
            "bin_start": 1294.6354999999999,
            "bin_end": 1297.63882,
            "count": 1
           },
           {
            "bin_start": 1297.63882,
            "bin_end": 1300.64214,
            "count": 0
           },
           {
            "bin_start": 1300.64214,
            "bin_end": 1303.64546,
            "count": 0
           },
           {
            "bin_start": 1303.64546,
            "bin_end": 1306.64878,
            "count": 0
           },
           {
            "bin_start": 1306.64878,
            "bin_end": 1309.6521,
            "count": 2
           }
          ]
         }
        },
        {
         "name": "win_equiv",
         "dtype": "float64",
         "stats": {
          "unique_count": 5,
          "nan_count": 0,
          "min": "38.864048",
          "max": "42.012257",
          "histogram": [
           {
            "bin_start": 38.864048,
            "bin_end": 39.1788689,
            "count": 1
           },
           {
            "bin_start": 39.1788689,
            "bin_end": 39.4936898,
            "count": 0
           },
           {
            "bin_start": 39.4936898,
            "bin_end": 39.8085107,
            "count": 0
           },
           {
            "bin_start": 39.8085107,
            "bin_end": 40.1233316,
            "count": 0
           },
           {
            "bin_start": 40.1233316,
            "bin_end": 40.4381525,
            "count": 1
           },
           {
            "bin_start": 40.4381525,
            "bin_end": 40.752973399999995,
            "count": 1
           },
           {
            "bin_start": 40.752973399999995,
            "bin_end": 41.067794299999996,
            "count": 0
           },
           {
            "bin_start": 41.067794299999996,
            "bin_end": 41.3826152,
            "count": 0
           },
           {
            "bin_start": 41.3826152,
            "bin_end": 41.6974361,
            "count": 0
           },
           {
            "bin_start": 41.6974361,
            "bin_end": 42.012257,
            "count": 2
           }
          ]
         }
        },
        {
         "name": "opp_id",
         "dtype": "object",
         "stats": {
          "unique_count": 4,
          "nan_count": 0,
          "categories": [
           {
            "name": "NYK",
            "count": 2
           },
           {
            "name": "TRH",
            "count": 1
           },
           {
            "name": "2 others",
            "count": 2
           }
          ]
         }
        },
        {
         "name": "opp_fran",
         "dtype": "object",
         "stats": {
          "unique_count": 4,
          "nan_count": 0,
          "categories": [
           {
            "name": "Knicks",
            "count": 2
           },
           {
            "name": "Huskies",
            "count": 1
           },
           {
            "name": "2 others",
            "count": 2
           }
          ]
         }
        },
        {
         "name": "opp_pts",
         "dtype": "int64",
         "stats": {
          "unique_count": 5,
          "nan_count": 0,
          "min": "47",
          "max": "68",
          "histogram": [
           {
            "bin_start": 47,
            "bin_end": 49.1,
            "count": 1
           },
           {
            "bin_start": 49.1,
            "bin_end": 51.2,
            "count": 1
           },
           {
            "bin_start": 51.2,
            "bin_end": 53.3,
            "count": 0
           },
           {
            "bin_start": 53.3,
            "bin_end": 55.4,
            "count": 0
           },
           {
            "bin_start": 55.4,
            "bin_end": 57.5,
            "count": 0
           },
           {
            "bin_start": 57.5,
            "bin_end": 59.6,
            "count": 0
           },
           {
            "bin_start": 59.6,
            "bin_end": 61.7,
            "count": 0
           },
           {
            "bin_start": 61.7,
            "bin_end": 63.8,
            "count": 1
           },
           {
            "bin_start": 63.8,
            "bin_end": 65.9,
            "count": 0
           },
           {
            "bin_start": 65.9,
            "bin_end": 68,
            "count": 2
           }
          ]
         }
        },
        {
         "name": "opp_elo_i",
         "dtype": "float64",
         "stats": {
          "unique_count": 2,
          "nan_count": 0,
          "min": "1300.0",
          "max": "1306.7233",
          "histogram": [
           {
            "bin_start": 1300,
            "bin_end": 1300.67233,
            "count": 4
           },
           {
            "bin_start": 1300.67233,
            "bin_end": 1301.34466,
            "count": 0
           },
           {
            "bin_start": 1301.34466,
            "bin_end": 1302.01699,
            "count": 0
           },
           {
            "bin_start": 1302.01699,
            "bin_end": 1302.68932,
            "count": 0
           },
           {
            "bin_start": 1302.68932,
            "bin_end": 1303.36165,
            "count": 0
           },
           {
            "bin_start": 1303.36165,
            "bin_end": 1304.0339800000002,
            "count": 0
           },
           {
            "bin_start": 1304.0339800000002,
            "bin_end": 1304.70631,
            "count": 0
           },
           {
            "bin_start": 1304.70631,
            "bin_end": 1305.3786400000001,
            "count": 0
           },
           {
            "bin_start": 1305.3786400000001,
            "bin_end": 1306.05097,
            "count": 0
           },
           {
            "bin_start": 1306.05097,
            "bin_end": 1306.7233,
            "count": 1
           }
          ]
         }
        },
        {
         "name": "opp_elo_n",
         "dtype": "float64",
         "stats": {
          "unique_count": 5,
          "nan_count": 0,
          "min": "1293.2767",
          "max": "1320.3811",
          "histogram": [
           {
            "bin_start": 1293.2767,
            "bin_end": 1295.98714,
            "count": 1
           },
           {
            "bin_start": 1295.98714,
            "bin_end": 1298.69758,
            "count": 1
           },
           {
            "bin_start": 1298.69758,
            "bin_end": 1301.4080199999999,
            "count": 0
           },
           {
            "bin_start": 1301.4080199999999,
            "bin_end": 1304.11846,
            "count": 0
           },
           {
            "bin_start": 1304.11846,
            "bin_end": 1306.8289,
            "count": 1
           },
           {
            "bin_start": 1306.8289,
            "bin_end": 1309.53934,
            "count": 0
           },
           {
            "bin_start": 1309.53934,
            "bin_end": 1312.24978,
            "count": 1
           },
           {
            "bin_start": 1312.24978,
            "bin_end": 1314.96022,
            "count": 0
           },
           {
            "bin_start": 1314.96022,
            "bin_end": 1317.67066,
            "count": 0
           },
           {
            "bin_start": 1317.67066,
            "bin_end": 1320.3811,
            "count": 1
           }
          ]
         }
        },
        {
         "name": "game_location",
         "dtype": "object",
         "stats": {
          "unique_count": 2,
          "nan_count": 0,
          "categories": [
           {
            "name": "H",
            "count": 3
           },
           {
            "name": "A",
            "count": 2
           }
          ]
         }
        },
        {
         "name": "game_result",
         "dtype": "object",
         "stats": {
          "unique_count": 2,
          "nan_count": 0,
          "categories": [
           {
            "name": "L",
            "count": 3
           },
           {
            "name": "W",
            "count": 2
           }
          ]
         }
        },
        {
         "name": "forecast",
         "dtype": "float64",
         "stats": {
          "unique_count": 4,
          "nan_count": 0,
          "min": "0.35993499",
          "max": "0.64006501",
          "histogram": [
           {
            "bin_start": 0.35993499,
            "bin_end": 0.387947992,
            "count": 2
           },
           {
            "bin_start": 0.387947992,
            "bin_end": 0.41596099400000003,
            "count": 0
           },
           {
            "bin_start": 0.41596099400000003,
            "bin_end": 0.443973996,
            "count": 0
           },
           {
            "bin_start": 0.443973996,
            "bin_end": 0.471986998,
            "count": 0
           },
           {
            "bin_start": 0.471986998,
            "bin_end": 0.5,
            "count": 0
           },
           {
            "bin_start": 0.5,
            "bin_end": 0.528013002,
            "count": 0
           },
           {
            "bin_start": 0.528013002,
            "bin_end": 0.556026004,
            "count": 0
           },
           {
            "bin_start": 0.556026004,
            "bin_end": 0.584039006,
            "count": 0
           },
           {
            "bin_start": 0.584039006,
            "bin_end": 0.612052008,
            "count": 0
           },
           {
            "bin_start": 0.612052008,
            "bin_end": 0.64006501,
            "count": 3
           }
          ]
         }
        },
        {
         "name": "notes",
         "dtype": "object",
         "stats": {
          "unique_count": 0,
          "nan_count": 5,
          "categories": [
           {
            "name": "Missing",
            "count": 5
           }
          ]
         }
        },
        {
         "name": "_deepnote_index_column",
         "dtype": "int64"
        }
       ],
       "rows": [
        {
         "gameorder": 1,
         "game_id": "194611010TRH",
         "lg_id": "NBA",
         "_iscopy": 0,
         "year_id": 1947,
         "date_game": "11/1/1946",
         "seasongame": 1,
         "is_playoffs": 0,
         "team_id": "TRH",
         "fran_id": "Huskies",
         "pts": 66,
         "elo_i": 1300,
         "elo_n": 1293.2767,
         "win_equiv": 40.29483,
         "opp_id": "NYK",
         "opp_fran": "Knicks",
         "opp_pts": 68,
         "opp_elo_i": 1300,
         "opp_elo_n": 1306.7233,
         "game_location": "H",
         "game_result": "L",
         "forecast": 0.64006501,
         "notes": "nan",
         "_deepnote_index_column": 0
        },
        {
         "gameorder": 1,
         "game_id": "194611010TRH",
         "lg_id": "NBA",
         "_iscopy": 1,
         "year_id": 1947,
         "date_game": "11/1/1946",
         "seasongame": 1,
         "is_playoffs": 0,
         "team_id": "NYK",
         "fran_id": "Knicks",
         "pts": 68,
         "elo_i": 1300,
         "elo_n": 1306.7233,
         "win_equiv": 41.70517,
         "opp_id": "TRH",
         "opp_fran": "Huskies",
         "opp_pts": 66,
         "opp_elo_i": 1300,
         "opp_elo_n": 1293.2767,
         "game_location": "A",
         "game_result": "W",
         "forecast": 0.35993499,
         "notes": "nan",
         "_deepnote_index_column": 1
        },
        {
         "gameorder": 2,
         "game_id": "194611020CHS",
         "lg_id": "NBA",
         "_iscopy": 0,
         "year_id": 1947,
         "date_game": "11/2/1946",
         "seasongame": 1,
         "is_playoffs": 0,
         "team_id": "CHS",
         "fran_id": "Stags",
         "pts": 63,
         "elo_i": 1300,
         "elo_n": 1309.6521,
         "win_equiv": 42.012257,
         "opp_id": "NYK",
         "opp_fran": "Knicks",
         "opp_pts": 47,
         "opp_elo_i": 1306.7233,
         "opp_elo_n": 1297.0712,
         "game_location": "H",
         "game_result": "W",
         "forecast": 0.63110125,
         "notes": "nan",
         "_deepnote_index_column": 2
        },
        {
         "gameorder": 2,
         "game_id": "194611020CHS",
         "lg_id": "NBA",
         "_iscopy": 1,
         "year_id": 1947,
         "date_game": "11/2/1946",
         "seasongame": 2,
         "is_playoffs": 0,
         "team_id": "NYK",
         "fran_id": "Knicks",
         "pts": 47,
         "elo_i": 1306.7233,
         "elo_n": 1297.0712,
         "win_equiv": 40.692783,
         "opp_id": "CHS",
         "opp_fran": "Stags",
         "opp_pts": 63,
         "opp_elo_i": 1300,
         "opp_elo_n": 1309.6521,
         "game_location": "A",
         "game_result": "L",
         "forecast": 0.36889875,
         "notes": "nan",
         "_deepnote_index_column": 3
        },
        {
         "gameorder": 3,
         "game_id": "194611020DTF",
         "lg_id": "NBA",
         "_iscopy": 0,
         "year_id": 1947,
         "date_game": "11/2/1946",
         "seasongame": 1,
         "is_playoffs": 0,
         "team_id": "DTF",
         "fran_id": "Falcons",
         "pts": 33,
         "elo_i": 1300,
         "elo_n": 1279.6189,
         "win_equiv": 38.864048,
         "opp_id": "WSC",
         "opp_fran": "Capitols",
         "opp_pts": 50,
         "opp_elo_i": 1300,
         "opp_elo_n": 1320.3811,
         "game_location": "H",
         "game_result": "L",
         "forecast": 0.64006501,
         "notes": "nan",
         "_deepnote_index_column": 4
        }
       ]
      },
      "text/plain": "   gameorder       game_id lg_id  _iscopy  year_id  date_game  seasongame  \\\n0          1  194611010TRH   NBA        0     1947  11/1/1946           1   \n1          1  194611010TRH   NBA        1     1947  11/1/1946           1   \n2          2  194611020CHS   NBA        0     1947  11/2/1946           1   \n3          2  194611020CHS   NBA        1     1947  11/2/1946           2   \n4          3  194611020DTF   NBA        0     1947  11/2/1946           1   \n\n   is_playoffs team_id  fran_id  ...  win_equiv  opp_id  opp_fran  opp_pts  \\\n0            0     TRH  Huskies  ...  40.294830     NYK    Knicks       68   \n1            0     NYK   Knicks  ...  41.705170     TRH   Huskies       66   \n2            0     CHS    Stags  ...  42.012257     NYK    Knicks       47   \n3            0     NYK   Knicks  ...  40.692783     CHS     Stags       63   \n4            0     DTF  Falcons  ...  38.864048     WSC  Capitols       50   \n\n   opp_elo_i  opp_elo_n  game_location  game_result  forecast notes  \n0  1300.0000  1306.7233              H            L  0.640065   NaN  \n1  1300.0000  1293.2767              A            W  0.359935   NaN  \n2  1306.7233  1297.0712              H            W  0.631101   NaN  \n3  1300.0000  1309.6521              A            L  0.368899   NaN  \n4  1300.0000  1320.3811              H            L  0.640065   NaN  \n\n[5 rows x 23 columns]",
      "text/html": "<div>\n<style scoped>\n    .dataframe tbody tr th:only-of-type {\n        vertical-align: middle;\n    }\n\n    .dataframe tbody tr th {\n        vertical-align: top;\n    }\n\n    .dataframe thead th {\n        text-align: right;\n    }\n</style>\n<table border=\"1\" class=\"dataframe\">\n  <thead>\n    <tr style=\"text-align: right;\">\n      <th></th>\n      <th>gameorder</th>\n      <th>game_id</th>\n      <th>lg_id</th>\n      <th>_iscopy</th>\n      <th>year_id</th>\n      <th>date_game</th>\n      <th>seasongame</th>\n      <th>is_playoffs</th>\n      <th>team_id</th>\n      <th>fran_id</th>\n      <th>...</th>\n      <th>win_equiv</th>\n      <th>opp_id</th>\n      <th>opp_fran</th>\n      <th>opp_pts</th>\n      <th>opp_elo_i</th>\n      <th>opp_elo_n</th>\n      <th>game_location</th>\n      <th>game_result</th>\n      <th>forecast</th>\n      <th>notes</th>\n    </tr>\n  </thead>\n  <tbody>\n    <tr>\n      <th>0</th>\n      <td>1</td>\n      <td>194611010TRH</td>\n      <td>NBA</td>\n      <td>0</td>\n      <td>1947</td>\n      <td>11/1/1946</td>\n      <td>1</td>\n      <td>0</td>\n      <td>TRH</td>\n      <td>Huskies</td>\n      <td>...</td>\n      <td>40.294830</td>\n      <td>NYK</td>\n      <td>Knicks</td>\n      <td>68</td>\n      <td>1300.0000</td>\n      <td>1306.7233</td>\n      <td>H</td>\n      <td>L</td>\n      <td>0.640065</td>\n      <td>NaN</td>\n    </tr>\n    <tr>\n      <th>1</th>\n      <td>1</td>\n      <td>194611010TRH</td>\n      <td>NBA</td>\n      <td>1</td>\n      <td>1947</td>\n      <td>11/1/1946</td>\n      <td>1</td>\n      <td>0</td>\n      <td>NYK</td>\n      <td>Knicks</td>\n      <td>...</td>\n      <td>41.705170</td>\n      <td>TRH</td>\n      <td>Huskies</td>\n      <td>66</td>\n      <td>1300.0000</td>\n      <td>1293.2767</td>\n      <td>A</td>\n      <td>W</td>\n      <td>0.359935</td>\n      <td>NaN</td>\n    </tr>\n    <tr>\n      <th>2</th>\n      <td>2</td>\n      <td>194611020CHS</td>\n      <td>NBA</td>\n      <td>0</td>\n      <td>1947</td>\n      <td>11/2/1946</td>\n      <td>1</td>\n      <td>0</td>\n      <td>CHS</td>\n      <td>Stags</td>\n      <td>...</td>\n      <td>42.012257</td>\n      <td>NYK</td>\n      <td>Knicks</td>\n      <td>47</td>\n      <td>1306.7233</td>\n      <td>1297.0712</td>\n      <td>H</td>\n      <td>W</td>\n      <td>0.631101</td>\n      <td>NaN</td>\n    </tr>\n    <tr>\n      <th>3</th>\n      <td>2</td>\n      <td>194611020CHS</td>\n      <td>NBA</td>\n      <td>1</td>\n      <td>1947</td>\n      <td>11/2/1946</td>\n      <td>2</td>\n      <td>0</td>\n      <td>NYK</td>\n      <td>Knicks</td>\n      <td>...</td>\n      <td>40.692783</td>\n      <td>CHS</td>\n      <td>Stags</td>\n      <td>63</td>\n      <td>1300.0000</td>\n      <td>1309.6521</td>\n      <td>A</td>\n      <td>L</td>\n      <td>0.368899</td>\n      <td>NaN</td>\n    </tr>\n    <tr>\n      <th>4</th>\n      <td>3</td>\n      <td>194611020DTF</td>\n      <td>NBA</td>\n      <td>0</td>\n      <td>1947</td>\n      <td>11/2/1946</td>\n      <td>1</td>\n      <td>0</td>\n      <td>DTF</td>\n      <td>Falcons</td>\n      <td>...</td>\n      <td>38.864048</td>\n      <td>WSC</td>\n      <td>Capitols</td>\n      <td>50</td>\n      <td>1300.0000</td>\n      <td>1320.3811</td>\n      <td>H</td>\n      <td>L</td>\n      <td>0.640065</td>\n      <td>NaN</td>\n    </tr>\n  </tbody>\n</table>\n<p>5 rows × 23 columns</p>\n</div>"
     },
     "metadata": {}
    }
   ],
   "execution_count": 3
  },
  {
   "cell_type": "markdown",
   "source": "## Getting to Know Your Data",
   "metadata": {
    "cell_id": "c09b0b3e6bc14c10b09366c031183fcb",
    "tags": [],
    "is_collapsed": false,
    "formattedRanges": [],
    "deepnote_cell_type": "text-cell-h2"
   }
  },
  {
   "cell_type": "markdown",
   "source": "You’ve imported a CSV file with the Pandas Python library and had a first look at the contents of your dataset. nbaSo far, you’ve only seen the size of your dataset and its first and last few rows. Next, you’ll learn how to&nbsp;examine your data&nbsp;more systematically.Displaying Data TypesThe first step in getting to know your data is to discover the different&nbsp;data types&nbsp;it contains. While you can put anything into a list, the columns of a&nbsp;DataFrame&nbsp;contain values of a specific data type. When you compare Pandas and Python data structures, you’ll see that this behavior makes Pandas much faster!You can display all columns and their data types with&nbsp;.info():",
   "metadata": {
    "cell_id": "94c5673d2f5945ceb0c9b668235607e0",
    "tags": [],
    "is_collapsed": false,
    "formattedRanges": [],
    "deepnote_cell_type": "text-cell-p"
   }
  },
  {
   "cell_type": "code",
   "source": "nba.info()",
   "metadata": {
    "cell_id": "913995609a544416adc63f134cb3dfca",
    "tags": [],
    "deepnote_to_be_reexecuted": false,
    "source_hash": "2eee84b7",
    "execution_start": 1656252416221,
    "execution_millis": 113,
    "deepnote_cell_type": "code",
    "deepnote_cell_height": 692
   },
   "outputs": [
    {
     "name": "stdout",
     "text": "<class 'pandas.core.frame.DataFrame'>\nRangeIndex: 126314 entries, 0 to 126313\nData columns (total 23 columns):\n #   Column         Non-Null Count   Dtype  \n---  ------         --------------   -----  \n 0   gameorder      126314 non-null  int64  \n 1   game_id        126314 non-null  object \n 2   lg_id          126314 non-null  object \n 3   _iscopy        126314 non-null  int64  \n 4   year_id        126314 non-null  int64  \n 5   date_game      126314 non-null  object \n 6   seasongame     126314 non-null  int64  \n 7   is_playoffs    126314 non-null  int64  \n 8   team_id        126314 non-null  object \n 9   fran_id        126314 non-null  object \n 10  pts            126314 non-null  int64  \n 11  elo_i          126314 non-null  float64\n 12  elo_n          126314 non-null  float64\n 13  win_equiv      126314 non-null  float64\n 14  opp_id         126314 non-null  object \n 15  opp_fran       126314 non-null  object \n 16  opp_pts        126314 non-null  int64  \n 17  opp_elo_i      126314 non-null  float64\n 18  opp_elo_n      126314 non-null  float64\n 19  game_location  126314 non-null  object \n 20  game_result    126314 non-null  object \n 21  forecast       126314 non-null  float64\n 22  notes          5424 non-null    object \ndtypes: float64(6), int64(7), object(10)\nmemory usage: 22.2+ MB\n",
     "output_type": "stream"
    }
   ],
   "execution_count": 4
  },
  {
   "cell_type": "markdown",
   "source": "### Showing Basics Statistics",
   "metadata": {
    "cell_id": "fb00b336ecd74c8e9c08e8d435cd1904",
    "tags": [],
    "is_collapsed": false,
    "formattedRanges": [],
    "deepnote_cell_type": "text-cell-h3"
   }
  },
  {
   "cell_type": "markdown",
   "source": "This function shows you some basic descriptive statistics for all numeric columns:",
   "metadata": {
    "cell_id": "5abeb1bf85b845938e562f70b45e42cc",
    "tags": [],
    "is_collapsed": false,
    "formattedRanges": [],
    "deepnote_cell_type": "text-cell-p"
   }
  },
  {
   "cell_type": "code",
   "source": "nba.describe()",
   "metadata": {
    "cell_id": "7875b4f80a394c6497d2b62c2512abce",
    "tags": [],
    "deepnote_to_be_reexecuted": false,
    "source_hash": "dbfd1065",
    "execution_start": 1656252416336,
    "execution_millis": 195,
    "deepnote_cell_type": "code",
    "deepnote_cell_height": 533
   },
   "outputs": [
    {
     "output_type": "execute_result",
     "execution_count": 5,
     "data": {
      "application/vnd.deepnote.dataframe.v3+json": {
       "column_count": 13,
       "row_count": 8,
       "columns": [
        {
         "name": "gameorder",
         "dtype": "float64",
         "stats": {
          "unique_count": 7,
          "nan_count": 0,
          "min": "1.0",
          "max": "126314.0",
          "histogram": [
           {
            "bin_start": 1,
            "bin_end": 12632.3,
            "count": 1
           },
           {
            "bin_start": 12632.3,
            "bin_end": 25263.6,
            "count": 2
           },
           {
            "bin_start": 25263.6,
            "bin_end": 37894.899999999994,
            "count": 2
           },
           {
            "bin_start": 37894.899999999994,
            "bin_end": 50526.2,
            "count": 1
           },
           {
            "bin_start": 50526.2,
            "bin_end": 63157.5,
            "count": 1
           },
           {
            "bin_start": 63157.5,
            "bin_end": 75788.79999999999,
            "count": 0
           },
           {
            "bin_start": 75788.79999999999,
            "bin_end": 88420.09999999999,
            "count": 0
           },
           {
            "bin_start": 88420.09999999999,
            "bin_end": 101051.4,
            "count": 0
           },
           {
            "bin_start": 101051.4,
            "bin_end": 113682.7,
            "count": 0
           },
           {
            "bin_start": 113682.7,
            "bin_end": 126314,
            "count": 1
           }
          ]
         }
        },
        {
         "name": "_iscopy",
         "dtype": "float64",
         "stats": {
          "unique_count": 5,
          "nan_count": 0,
          "min": "0.0",
          "max": "126314.0",
          "histogram": [
           {
            "bin_start": 0,
            "bin_end": 12631.4,
            "count": 7
           },
           {
            "bin_start": 12631.4,
            "bin_end": 25262.8,
            "count": 0
           },
           {
            "bin_start": 25262.8,
            "bin_end": 37894.2,
            "count": 0
           },
           {
            "bin_start": 37894.2,
            "bin_end": 50525.6,
            "count": 0
           },
           {
            "bin_start": 50525.6,
            "bin_end": 63157,
            "count": 0
           },
           {
            "bin_start": 63157,
            "bin_end": 75788.4,
            "count": 0
           },
           {
            "bin_start": 75788.4,
            "bin_end": 88419.8,
            "count": 0
           },
           {
            "bin_start": 88419.8,
            "bin_end": 101051.2,
            "count": 0
           },
           {
            "bin_start": 101051.2,
            "bin_end": 113682.59999999999,
            "count": 0
           },
           {
            "bin_start": 113682.59999999999,
            "bin_end": 126314,
            "count": 1
           }
          ]
         }
        },
        {
         "name": "year_id",
         "dtype": "float64",
         "stats": {
          "unique_count": 8,
          "nan_count": 0,
          "min": "17.58230948754621",
          "max": "126314.0",
          "histogram": [
           {
            "bin_start": 17.58230948754621,
            "bin_end": 12647.224078538791,
            "count": 7
           },
           {
            "bin_start": 12647.224078538791,
            "bin_end": 25276.865847590034,
            "count": 0
           },
           {
            "bin_start": 25276.865847590034,
            "bin_end": 37906.50761664128,
            "count": 0
           },
           {
            "bin_start": 37906.50761664128,
            "bin_end": 50536.14938569252,
            "count": 0
           },
           {
            "bin_start": 50536.14938569252,
            "bin_end": 63165.79115474377,
            "count": 0
           },
           {
            "bin_start": 63165.79115474377,
            "bin_end": 75795.43292379502,
            "count": 0
           },
           {
            "bin_start": 75795.43292379502,
            "bin_end": 88425.07469284626,
            "count": 0
           },
           {
            "bin_start": 88425.07469284626,
            "bin_end": 101054.71646189751,
            "count": 0
           },
           {
            "bin_start": 101054.71646189751,
            "bin_end": 113684.35823094875,
            "count": 0
           },
           {
            "bin_start": 113684.35823094875,
            "bin_end": 126314,
            "count": 1
           }
          ]
         }
        },
        {
         "name": "seasongame",
         "dtype": "float64",
         "stats": {
          "unique_count": 8,
          "nan_count": 0,
          "min": "1.0",
          "max": "126314.0",
          "histogram": [
           {
            "bin_start": 1,
            "bin_end": 12632.3,
            "count": 7
           },
           {
            "bin_start": 12632.3,
            "bin_end": 25263.6,
            "count": 0
           },
           {
            "bin_start": 25263.6,
            "bin_end": 37894.899999999994,
            "count": 0
           },
           {
            "bin_start": 37894.899999999994,
            "bin_end": 50526.2,
            "count": 0
           },
           {
            "bin_start": 50526.2,
            "bin_end": 63157.5,
            "count": 0
           },
           {
            "bin_start": 63157.5,
            "bin_end": 75788.79999999999,
            "count": 0
           },
           {
            "bin_start": 75788.79999999999,
            "bin_end": 88420.09999999999,
            "count": 0
           },
           {
            "bin_start": 88420.09999999999,
            "bin_end": 101051.4,
            "count": 0
           },
           {
            "bin_start": 101051.4,
            "bin_end": 113682.7,
            "count": 0
           },
           {
            "bin_start": 113682.7,
            "bin_end": 126314,
            "count": 1
           }
          ]
         }
        },
        {
         "name": "is_playoffs",
         "dtype": "float64",
         "stats": {
          "unique_count": 5,
          "nan_count": 0,
          "min": "0.0",
          "max": "126314.0",
          "histogram": [
           {
            "bin_start": 0,
            "bin_end": 12631.4,
            "count": 7
           },
           {
            "bin_start": 12631.4,
            "bin_end": 25262.8,
            "count": 0
           },
           {
            "bin_start": 25262.8,
            "bin_end": 37894.2,
            "count": 0
           },
           {
            "bin_start": 37894.2,
            "bin_end": 50525.6,
            "count": 0
           },
           {
            "bin_start": 50525.6,
            "bin_end": 63157,
            "count": 0
           },
           {
            "bin_start": 63157,
            "bin_end": 75788.4,
            "count": 0
           },
           {
            "bin_start": 75788.4,
            "bin_end": 88419.8,
            "count": 0
           },
           {
            "bin_start": 88419.8,
            "bin_end": 101051.2,
            "count": 0
           },
           {
            "bin_start": 101051.2,
            "bin_end": 113682.59999999999,
            "count": 0
           },
           {
            "bin_start": 113682.59999999999,
            "bin_end": 126314,
            "count": 1
           }
          ]
         }
        },
        {
         "name": "pts",
         "dtype": "float64",
         "stats": {
          "unique_count": 8,
          "nan_count": 0,
          "min": "0.0",
          "max": "126314.0",
          "histogram": [
           {
            "bin_start": 0,
            "bin_end": 12631.4,
            "count": 7
           },
           {
            "bin_start": 12631.4,
            "bin_end": 25262.8,
            "count": 0
           },
           {
            "bin_start": 25262.8,
            "bin_end": 37894.2,
            "count": 0
           },
           {
            "bin_start": 37894.2,
            "bin_end": 50525.6,
            "count": 0
           },
           {
            "bin_start": 50525.6,
            "bin_end": 63157,
            "count": 0
           },
           {
            "bin_start": 63157,
            "bin_end": 75788.4,
            "count": 0
           },
           {
            "bin_start": 75788.4,
            "bin_end": 88419.8,
            "count": 0
           },
           {
            "bin_start": 88419.8,
            "bin_end": 101051.2,
            "count": 0
           },
           {
            "bin_start": 101051.2,
            "bin_end": 113682.59999999999,
            "count": 0
           },
           {
            "bin_start": 113682.59999999999,
            "bin_end": 126314,
            "count": 1
           }
          ]
         }
        },
        {
         "name": "elo_i",
         "dtype": "float64",
         "stats": {
          "unique_count": 8,
          "nan_count": 0,
          "min": "112.13994508379155",
          "max": "126314.0",
          "histogram": [
           {
            "bin_start": 112.13994508379155,
            "bin_end": 12732.325950575412,
            "count": 7
           },
           {
            "bin_start": 12732.325950575412,
            "bin_end": 25352.511956067035,
            "count": 0
           },
           {
            "bin_start": 25352.511956067035,
            "bin_end": 37972.69796155866,
            "count": 0
           },
           {
            "bin_start": 37972.69796155866,
            "bin_end": 50592.88396705028,
            "count": 0
           },
           {
            "bin_start": 50592.88396705028,
            "bin_end": 63213.069972541896,
            "count": 0
           },
           {
            "bin_start": 63213.069972541896,
            "bin_end": 75833.25597803353,
            "count": 0
           },
           {
            "bin_start": 75833.25597803353,
            "bin_end": 88453.44198352515,
            "count": 0
           },
           {
            "bin_start": 88453.44198352515,
            "bin_end": 101073.62798901676,
            "count": 0
           },
           {
            "bin_start": 101073.62798901676,
            "bin_end": 113693.81399450838,
            "count": 0
           },
           {
            "bin_start": 113693.81399450838,
            "bin_end": 126314,
            "count": 1
           }
          ]
         }
        },
        {
         "name": "elo_n",
         "dtype": "float64",
         "stats": {
          "unique_count": 8,
          "nan_count": 0,
          "min": "112.46168741141739",
          "max": "126314.0",
          "histogram": [
           {
            "bin_start": 112.46168741141739,
            "bin_end": 12732.615518670276,
            "count": 7
           },
           {
            "bin_start": 12732.615518670276,
            "bin_end": 25352.769349929134,
            "count": 0
           },
           {
            "bin_start": 25352.769349929134,
            "bin_end": 37972.92318118799,
            "count": 0
           },
           {
            "bin_start": 37972.92318118799,
            "bin_end": 50593.07701244685,
            "count": 0
           },
           {
            "bin_start": 50593.07701244685,
            "bin_end": 63213.23084370571,
            "count": 0
           },
           {
            "bin_start": 63213.23084370571,
            "bin_end": 75833.38467496456,
            "count": 0
           },
           {
            "bin_start": 75833.38467496456,
            "bin_end": 88453.53850622343,
            "count": 0
           },
           {
            "bin_start": 88453.53850622343,
            "bin_end": 101073.69233748228,
            "count": 0
           },
           {
            "bin_start": 101073.69233748228,
            "bin_end": 113693.84616874113,
            "count": 0
           },
           {
            "bin_start": 113693.84616874113,
            "bin_end": 126314,
            "count": 1
           }
          ]
         }
        },
        {
         "name": "win_equiv",
         "dtype": "float64",
         "stats": {
          "unique_count": 8,
          "nan_count": 0,
          "min": "10.152501",
          "max": "126314.0",
          "histogram": [
           {
            "bin_start": 10.152501,
            "bin_end": 12640.5372509,
            "count": 7
           },
           {
            "bin_start": 12640.5372509,
            "bin_end": 25270.9220008,
            "count": 0
           },
           {
            "bin_start": 25270.9220008,
            "bin_end": 37901.3067507,
            "count": 0
           },
           {
            "bin_start": 37901.3067507,
            "bin_end": 50531.6915006,
            "count": 0
           },
           {
            "bin_start": 50531.6915006,
            "bin_end": 63162.076250499995,
            "count": 0
           },
           {
            "bin_start": 63162.076250499995,
            "bin_end": 75792.46100040001,
            "count": 0
           },
           {
            "bin_start": 75792.46100040001,
            "bin_end": 88422.84575030001,
            "count": 0
           },
           {
            "bin_start": 88422.84575030001,
            "bin_end": 101053.2305002,
            "count": 0
           },
           {
            "bin_start": 101053.2305002,
            "bin_end": 113683.6152501,
            "count": 0
           },
           {
            "bin_start": 113683.6152501,
            "bin_end": 126314,
            "count": 1
           }
          ]
         }
        },
        {
         "name": "opp_pts",
         "dtype": "float64",
         "stats": {
          "unique_count": 8,
          "nan_count": 0,
          "min": "0.0",
          "max": "126314.0",
          "histogram": [
           {
            "bin_start": 0,
            "bin_end": 12631.4,
            "count": 7
           },
           {
            "bin_start": 12631.4,
            "bin_end": 25262.8,
            "count": 0
           },
           {
            "bin_start": 25262.8,
            "bin_end": 37894.2,
            "count": 0
           },
           {
            "bin_start": 37894.2,
            "bin_end": 50525.6,
            "count": 0
           },
           {
            "bin_start": 50525.6,
            "bin_end": 63157,
            "count": 0
           },
           {
            "bin_start": 63157,
            "bin_end": 75788.4,
            "count": 0
           },
           {
            "bin_start": 75788.4,
            "bin_end": 88419.8,
            "count": 0
           },
           {
            "bin_start": 88419.8,
            "bin_end": 101051.2,
            "count": 0
           },
           {
            "bin_start": 101051.2,
            "bin_end": 113682.59999999999,
            "count": 0
           },
           {
            "bin_start": 113682.59999999999,
            "bin_end": 126314,
            "count": 1
           }
          ]
         }
        },
        {
         "name": "opp_elo_i",
         "dtype": "float64",
         "stats": {
          "unique_count": 8,
          "nan_count": 0,
          "min": "112.13994508379155",
          "max": "126314.0",
          "histogram": [
           {
            "bin_start": 112.13994508379155,
            "bin_end": 12732.325950575412,
            "count": 7
           },
           {
            "bin_start": 12732.325950575412,
            "bin_end": 25352.511956067035,
            "count": 0
           },
           {
            "bin_start": 25352.511956067035,
            "bin_end": 37972.69796155866,
            "count": 0
           },
           {
            "bin_start": 37972.69796155866,
            "bin_end": 50592.88396705028,
            "count": 0
           },
           {
            "bin_start": 50592.88396705028,
            "bin_end": 63213.069972541896,
            "count": 0
           },
           {
            "bin_start": 63213.069972541896,
            "bin_end": 75833.25597803353,
            "count": 0
           },
           {
            "bin_start": 75833.25597803353,
            "bin_end": 88453.44198352515,
            "count": 0
           },
           {
            "bin_start": 88453.44198352515,
            "bin_end": 101073.62798901676,
            "count": 0
           },
           {
            "bin_start": 101073.62798901676,
            "bin_end": 113693.81399450838,
            "count": 0
           },
           {
            "bin_start": 113693.81399450838,
            "bin_end": 126314,
            "count": 1
           }
          ]
         }
        },
        {
         "name": "opp_elo_n",
         "dtype": "float64",
         "stats": {
          "unique_count": 8,
          "nan_count": 0,
          "min": "112.46168741141739",
          "max": "126314.0",
          "histogram": [
           {
            "bin_start": 112.46168741141739,
            "bin_end": 12732.615518670276,
            "count": 7
           },
           {
            "bin_start": 12732.615518670276,
            "bin_end": 25352.769349929134,
            "count": 0
           },
           {
            "bin_start": 25352.769349929134,
            "bin_end": 37972.92318118799,
            "count": 0
           },
           {
            "bin_start": 37972.92318118799,
            "bin_end": 50593.07701244685,
            "count": 0
           },
           {
            "bin_start": 50593.07701244685,
            "bin_end": 63213.23084370571,
            "count": 0
           },
           {
            "bin_start": 63213.23084370571,
            "bin_end": 75833.38467496456,
            "count": 0
           },
           {
            "bin_start": 75833.38467496456,
            "bin_end": 88453.53850622343,
            "count": 0
           },
           {
            "bin_start": 88453.53850622343,
            "bin_end": 101073.69233748228,
            "count": 0
           },
           {
            "bin_start": 101073.69233748228,
            "bin_end": 113693.84616874113,
            "count": 0
           },
           {
            "bin_start": 113693.84616874113,
            "bin_end": 126314,
            "count": 1
           }
          ]
         }
        },
        {
         "name": "forecast",
         "dtype": "float64",
         "stats": {
          "unique_count": 8,
          "nan_count": 0,
          "min": "0.020446837",
          "max": "126314.0",
          "histogram": [
           {
            "bin_start": 0.020446837,
            "bin_end": 12631.418402153298,
            "count": 7
           },
           {
            "bin_start": 12631.418402153298,
            "bin_end": 25262.816357469597,
            "count": 0
           },
           {
            "bin_start": 25262.816357469597,
            "bin_end": 37894.214312785894,
            "count": 0
           },
           {
            "bin_start": 37894.214312785894,
            "bin_end": 50525.612268102195,
            "count": 0
           },
           {
            "bin_start": 50525.612268102195,
            "bin_end": 63157.010223418496,
            "count": 0
           },
           {
            "bin_start": 63157.010223418496,
            "bin_end": 75788.4081787348,
            "count": 0
           },
           {
            "bin_start": 75788.4081787348,
            "bin_end": 88419.8061340511,
            "count": 0
           },
           {
            "bin_start": 88419.8061340511,
            "bin_end": 101051.2040893674,
            "count": 0
           },
           {
            "bin_start": 101051.2040893674,
            "bin_end": 113682.60204468369,
            "count": 0
           },
           {
            "bin_start": 113682.60204468369,
            "bin_end": 126314,
            "count": 1
           }
          ]
         }
        },
        {
         "name": "_deepnote_index_column",
         "dtype": "object"
        }
       ],
       "rows": [
        {
         "gameorder": 126314,
         "_iscopy": 126314,
         "year_id": 126314,
         "seasongame": 126314,
         "is_playoffs": 126314,
         "pts": 126314,
         "elo_i": 126314,
         "elo_n": 126314,
         "win_equiv": 126314,
         "opp_pts": 126314,
         "opp_elo_i": 126314,
         "opp_elo_n": 126314,
         "forecast": 126314,
         "_deepnote_index_column": "count"
        },
        {
         "gameorder": 31579,
         "_iscopy": 0.5,
         "year_id": 1988.2003736719603,
         "seasongame": 43.53373339455642,
         "is_playoffs": 0.06385673797045457,
         "pts": 102.72998242475101,
         "elo_i": 1495.2360553778676,
         "elo_n": 1495.236055381035,
         "win_equiv": 41.70788868917144,
         "opp_pts": 102.72998242475101,
         "opp_elo_i": 1495.2360553778676,
         "opp_elo_n": 1495.236055381035,
         "forecast": 0.5000000000270357,
         "_deepnote_index_column": "mean"
        },
        {
         "gameorder": 18231.927642531373,
         "_iscopy": 0.500001979206457,
         "year_id": 17.58230948754621,
         "seasongame": 25.37517787425074,
         "is_playoffs": 0.24449852401912459,
         "pts": 14.81484465438624,
         "elo_i": 112.13994508379155,
         "elo_n": 112.46168741141739,
         "win_equiv": 10.62733177023794,
         "opp_pts": 14.81484465438624,
         "opp_elo_i": 112.13994508379155,
         "opp_elo_n": 112.46168741141739,
         "forecast": 0.21525223981658986,
         "_deepnote_index_column": "std"
        },
        {
         "gameorder": 1,
         "_iscopy": 0,
         "year_id": 1947,
         "seasongame": 1,
         "is_playoffs": 0,
         "pts": 0,
         "elo_i": 1091.6445,
         "elo_n": 1085.7744,
         "win_equiv": 10.152501,
         "opp_pts": 0,
         "opp_elo_i": 1091.6445,
         "opp_elo_n": 1085.7744,
         "forecast": 0.020446837,
         "_deepnote_index_column": "min"
        },
        {
         "gameorder": 15790,
         "_iscopy": 0,
         "year_id": 1975,
         "seasongame": 22,
         "is_playoffs": 0,
         "pts": 93,
         "elo_i": 1417.237975,
         "elo_n": 1416.9949000000001,
         "win_equiv": 34.103035,
         "opp_pts": 93,
         "opp_elo_i": 1417.237975,
         "opp_elo_n": 1416.9949000000001,
         "forecast": 0.32798905500000003,
         "_deepnote_index_column": "25%"
        },
        {
         "gameorder": 31579,
         "_iscopy": 0.5,
         "year_id": 1990,
         "seasongame": 43,
         "is_playoffs": 0,
         "pts": 103,
         "elo_i": 1500.94555,
         "elo_n": 1500.9544,
         "win_equiv": 42.1133575,
         "opp_pts": 103,
         "opp_elo_i": 1500.94555,
         "opp_elo_n": 1500.9544,
         "forecast": 0.5,
         "_deepnote_index_column": "50%"
        },
        {
         "gameorder": 47368,
         "_iscopy": 1,
         "year_id": 2003,
         "seasongame": 65,
         "is_playoffs": 0,
         "pts": 112,
         "elo_i": 1576.06,
         "elo_n": 1576.291625,
         "win_equiv": 49.63532825,
         "opp_pts": 112,
         "opp_elo_i": 1576.06,
         "opp_elo_n": 1576.291625,
         "forecast": 0.672010945,
         "_deepnote_index_column": "75%"
        },
        {
         "gameorder": 63157,
         "_iscopy": 1,
         "year_id": 2015,
         "seasongame": 108,
         "is_playoffs": 1,
         "pts": 186,
         "elo_i": 1853.1045,
         "elo_n": 1853.1045,
         "win_equiv": 71.112038,
         "opp_pts": 186,
         "opp_elo_i": 1853.1045,
         "opp_elo_n": 1853.1045,
         "forecast": 0.97955316,
         "_deepnote_index_column": "max"
        }
       ]
      },
      "text/plain": "           gameorder        _iscopy        year_id     seasongame  \\\ncount  126314.000000  126314.000000  126314.000000  126314.000000   \nmean    31579.000000       0.500000    1988.200374      43.533733   \nstd     18231.927643       0.500002      17.582309      25.375178   \nmin         1.000000       0.000000    1947.000000       1.000000   \n25%     15790.000000       0.000000    1975.000000      22.000000   \n50%     31579.000000       0.500000    1990.000000      43.000000   \n75%     47368.000000       1.000000    2003.000000      65.000000   \nmax     63157.000000       1.000000    2015.000000     108.000000   \n\n         is_playoffs            pts          elo_i          elo_n  \\\ncount  126314.000000  126314.000000  126314.000000  126314.000000   \nmean        0.063857     102.729982    1495.236055    1495.236055   \nstd         0.244499      14.814845     112.139945     112.461687   \nmin         0.000000       0.000000    1091.644500    1085.774400   \n25%         0.000000      93.000000    1417.237975    1416.994900   \n50%         0.000000     103.000000    1500.945550    1500.954400   \n75%         0.000000     112.000000    1576.060000    1576.291625   \nmax         1.000000     186.000000    1853.104500    1853.104500   \n\n           win_equiv        opp_pts      opp_elo_i      opp_elo_n  \\\ncount  126314.000000  126314.000000  126314.000000  126314.000000   \nmean       41.707889     102.729982    1495.236055    1495.236055   \nstd        10.627332      14.814845     112.139945     112.461687   \nmin        10.152501       0.000000    1091.644500    1085.774400   \n25%        34.103035      93.000000    1417.237975    1416.994900   \n50%        42.113357     103.000000    1500.945550    1500.954400   \n75%        49.635328     112.000000    1576.060000    1576.291625   \nmax        71.112038     186.000000    1853.104500    1853.104500   \n\n            forecast  \ncount  126314.000000  \nmean        0.500000  \nstd         0.215252  \nmin         0.020447  \n25%         0.327989  \n50%         0.500000  \n75%         0.672011  \nmax         0.979553  ",
      "text/html": "<div>\n<style scoped>\n    .dataframe tbody tr th:only-of-type {\n        vertical-align: middle;\n    }\n\n    .dataframe tbody tr th {\n        vertical-align: top;\n    }\n\n    .dataframe thead th {\n        text-align: right;\n    }\n</style>\n<table border=\"1\" class=\"dataframe\">\n  <thead>\n    <tr style=\"text-align: right;\">\n      <th></th>\n      <th>gameorder</th>\n      <th>_iscopy</th>\n      <th>year_id</th>\n      <th>seasongame</th>\n      <th>is_playoffs</th>\n      <th>pts</th>\n      <th>elo_i</th>\n      <th>elo_n</th>\n      <th>win_equiv</th>\n      <th>opp_pts</th>\n      <th>opp_elo_i</th>\n      <th>opp_elo_n</th>\n      <th>forecast</th>\n    </tr>\n  </thead>\n  <tbody>\n    <tr>\n      <th>count</th>\n      <td>126314.000000</td>\n      <td>126314.000000</td>\n      <td>126314.000000</td>\n      <td>126314.000000</td>\n      <td>126314.000000</td>\n      <td>126314.000000</td>\n      <td>126314.000000</td>\n      <td>126314.000000</td>\n      <td>126314.000000</td>\n      <td>126314.000000</td>\n      <td>126314.000000</td>\n      <td>126314.000000</td>\n      <td>126314.000000</td>\n    </tr>\n    <tr>\n      <th>mean</th>\n      <td>31579.000000</td>\n      <td>0.500000</td>\n      <td>1988.200374</td>\n      <td>43.533733</td>\n      <td>0.063857</td>\n      <td>102.729982</td>\n      <td>1495.236055</td>\n      <td>1495.236055</td>\n      <td>41.707889</td>\n      <td>102.729982</td>\n      <td>1495.236055</td>\n      <td>1495.236055</td>\n      <td>0.500000</td>\n    </tr>\n    <tr>\n      <th>std</th>\n      <td>18231.927643</td>\n      <td>0.500002</td>\n      <td>17.582309</td>\n      <td>25.375178</td>\n      <td>0.244499</td>\n      <td>14.814845</td>\n      <td>112.139945</td>\n      <td>112.461687</td>\n      <td>10.627332</td>\n      <td>14.814845</td>\n      <td>112.139945</td>\n      <td>112.461687</td>\n      <td>0.215252</td>\n    </tr>\n    <tr>\n      <th>min</th>\n      <td>1.000000</td>\n      <td>0.000000</td>\n      <td>1947.000000</td>\n      <td>1.000000</td>\n      <td>0.000000</td>\n      <td>0.000000</td>\n      <td>1091.644500</td>\n      <td>1085.774400</td>\n      <td>10.152501</td>\n      <td>0.000000</td>\n      <td>1091.644500</td>\n      <td>1085.774400</td>\n      <td>0.020447</td>\n    </tr>\n    <tr>\n      <th>25%</th>\n      <td>15790.000000</td>\n      <td>0.000000</td>\n      <td>1975.000000</td>\n      <td>22.000000</td>\n      <td>0.000000</td>\n      <td>93.000000</td>\n      <td>1417.237975</td>\n      <td>1416.994900</td>\n      <td>34.103035</td>\n      <td>93.000000</td>\n      <td>1417.237975</td>\n      <td>1416.994900</td>\n      <td>0.327989</td>\n    </tr>\n    <tr>\n      <th>50%</th>\n      <td>31579.000000</td>\n      <td>0.500000</td>\n      <td>1990.000000</td>\n      <td>43.000000</td>\n      <td>0.000000</td>\n      <td>103.000000</td>\n      <td>1500.945550</td>\n      <td>1500.954400</td>\n      <td>42.113357</td>\n      <td>103.000000</td>\n      <td>1500.945550</td>\n      <td>1500.954400</td>\n      <td>0.500000</td>\n    </tr>\n    <tr>\n      <th>75%</th>\n      <td>47368.000000</td>\n      <td>1.000000</td>\n      <td>2003.000000</td>\n      <td>65.000000</td>\n      <td>0.000000</td>\n      <td>112.000000</td>\n      <td>1576.060000</td>\n      <td>1576.291625</td>\n      <td>49.635328</td>\n      <td>112.000000</td>\n      <td>1576.060000</td>\n      <td>1576.291625</td>\n      <td>0.672011</td>\n    </tr>\n    <tr>\n      <th>max</th>\n      <td>63157.000000</td>\n      <td>1.000000</td>\n      <td>2015.000000</td>\n      <td>108.000000</td>\n      <td>1.000000</td>\n      <td>186.000000</td>\n      <td>1853.104500</td>\n      <td>1853.104500</td>\n      <td>71.112038</td>\n      <td>186.000000</td>\n      <td>1853.104500</td>\n      <td>1853.104500</td>\n      <td>0.979553</td>\n    </tr>\n  </tbody>\n</table>\n</div>"
     },
     "metadata": {}
    }
   ],
   "execution_count": 5
  },
  {
   "cell_type": "code",
   "source": "import numpy as np\nnba.describe(include=object)",
   "metadata": {
    "cell_id": "ed39ed8968f64aef953621502632eb59",
    "tags": [],
    "deepnote_to_be_reexecuted": false,
    "source_hash": "c07185bb",
    "execution_start": 1656252416537,
    "execution_millis": 433,
    "deepnote_cell_type": "code",
    "deepnote_cell_height": 387
   },
   "outputs": [
    {
     "output_type": "execute_result",
     "execution_count": 6,
     "data": {
      "application/vnd.deepnote.dataframe.v3+json": {
       "column_count": 10,
       "row_count": 4,
       "columns": [
        {
         "name": "game_id",
         "dtype": "object",
         "stats": {
          "unique_count": 4,
          "nan_count": 0,
          "categories": [
           {
            "name": "126314",
            "count": 1
           },
           {
            "name": "63157",
            "count": 1
           },
           {
            "name": "2 others",
            "count": 2
           }
          ]
         }
        },
        {
         "name": "lg_id",
         "dtype": "object",
         "stats": {
          "unique_count": 4,
          "nan_count": 0,
          "categories": [
           {
            "name": "126314",
            "count": 1
           },
           {
            "name": "2",
            "count": 1
           },
           {
            "name": "2 others",
            "count": 2
           }
          ]
         }
        },
        {
         "name": "date_game",
         "dtype": "object",
         "stats": {
          "unique_count": 4,
          "nan_count": 0,
          "categories": [
           {
            "name": "126314",
            "count": 1
           },
           {
            "name": "12426",
            "count": 1
           },
           {
            "name": "2 others",
            "count": 2
           }
          ]
         }
        },
        {
         "name": "team_id",
         "dtype": "object",
         "stats": {
          "unique_count": 4,
          "nan_count": 0,
          "categories": [
           {
            "name": "126314",
            "count": 1
           },
           {
            "name": "104",
            "count": 1
           },
           {
            "name": "2 others",
            "count": 2
           }
          ]
         }
        },
        {
         "name": "fran_id",
         "dtype": "object",
         "stats": {
          "unique_count": 4,
          "nan_count": 0,
          "categories": [
           {
            "name": "126314",
            "count": 1
           },
           {
            "name": "53",
            "count": 1
           },
           {
            "name": "2 others",
            "count": 2
           }
          ]
         }
        },
        {
         "name": "opp_id",
         "dtype": "object",
         "stats": {
          "unique_count": 4,
          "nan_count": 0,
          "categories": [
           {
            "name": "126314",
            "count": 1
           },
           {
            "name": "104",
            "count": 1
           },
           {
            "name": "2 others",
            "count": 2
           }
          ]
         }
        },
        {
         "name": "opp_fran",
         "dtype": "object",
         "stats": {
          "unique_count": 4,
          "nan_count": 0,
          "categories": [
           {
            "name": "126314",
            "count": 1
           },
           {
            "name": "53",
            "count": 1
           },
           {
            "name": "2 others",
            "count": 2
           }
          ]
         }
        },
        {
         "name": "game_location",
         "dtype": "object",
         "stats": {
          "unique_count": 4,
          "nan_count": 0,
          "categories": [
           {
            "name": "126314",
            "count": 1
           },
           {
            "name": "3",
            "count": 1
           },
           {
            "name": "2 others",
            "count": 2
           }
          ]
         }
        },
        {
         "name": "game_result",
         "dtype": "object",
         "stats": {
          "unique_count": 4,
          "nan_count": 0,
          "categories": [
           {
            "name": "126314",
            "count": 1
           },
           {
            "name": "2",
            "count": 1
           },
           {
            "name": "2 others",
            "count": 2
           }
          ]
         }
        },
        {
         "name": "notes",
         "dtype": "object",
         "stats": {
          "unique_count": 4,
          "nan_count": 0,
          "categories": [
           {
            "name": "5424",
            "count": 1
           },
           {
            "name": "231",
            "count": 1
           },
           {
            "name": "2 others",
            "count": 2
           }
          ]
         }
        },
        {
         "name": "_deepnote_index_column",
         "dtype": "object"
        }
       ],
       "rows": [
        {
         "game_id": "126314",
         "lg_id": "126314",
         "date_game": "126314",
         "team_id": "126314",
         "fran_id": "126314",
         "opp_id": "126314",
         "opp_fran": "126314",
         "game_location": "126314",
         "game_result": "126314",
         "notes": "5424",
         "_deepnote_index_column": "count"
        },
        {
         "game_id": "63157",
         "lg_id": "2",
         "date_game": "12426",
         "team_id": "104",
         "fran_id": "53",
         "opp_id": "104",
         "opp_fran": "53",
         "game_location": "3",
         "game_result": "2",
         "notes": "231",
         "_deepnote_index_column": "unique"
        },
        {
         "game_id": "197211040ATL",
         "lg_id": "NBA",
         "date_game": "1/2/2009",
         "team_id": "BOS",
         "fran_id": "Lakers",
         "opp_id": "BOS",
         "opp_fran": "Lakers",
         "game_location": "H",
         "game_result": "L",
         "notes": "at New York NY",
         "_deepnote_index_column": "top"
        },
        {
         "game_id": "2",
         "lg_id": "118016",
         "date_game": "30",
         "team_id": "5997",
         "fran_id": "6024",
         "opp_id": "5997",
         "opp_fran": "6024",
         "game_location": "63138",
         "game_result": "63157",
         "notes": "440",
         "_deepnote_index_column": "freq"
        }
       ]
      },
      "text/plain": "             game_id   lg_id date_game team_id fran_id  opp_id opp_fran  \\\ncount         126314  126314    126314  126314  126314  126314   126314   \nunique         63157       2     12426     104      53     104       53   \ntop     197211040ATL     NBA  1/2/2009     BOS  Lakers     BOS   Lakers   \nfreq               2  118016        30    5997    6024    5997     6024   \n\n       game_location game_result           notes  \ncount         126314      126314            5424  \nunique             3           2             231  \ntop                H           L  at New York NY  \nfreq           63138       63157             440  ",
      "text/html": "<div>\n<style scoped>\n    .dataframe tbody tr th:only-of-type {\n        vertical-align: middle;\n    }\n\n    .dataframe tbody tr th {\n        vertical-align: top;\n    }\n\n    .dataframe thead th {\n        text-align: right;\n    }\n</style>\n<table border=\"1\" class=\"dataframe\">\n  <thead>\n    <tr style=\"text-align: right;\">\n      <th></th>\n      <th>game_id</th>\n      <th>lg_id</th>\n      <th>date_game</th>\n      <th>team_id</th>\n      <th>fran_id</th>\n      <th>opp_id</th>\n      <th>opp_fran</th>\n      <th>game_location</th>\n      <th>game_result</th>\n      <th>notes</th>\n    </tr>\n  </thead>\n  <tbody>\n    <tr>\n      <th>count</th>\n      <td>126314</td>\n      <td>126314</td>\n      <td>126314</td>\n      <td>126314</td>\n      <td>126314</td>\n      <td>126314</td>\n      <td>126314</td>\n      <td>126314</td>\n      <td>126314</td>\n      <td>5424</td>\n    </tr>\n    <tr>\n      <th>unique</th>\n      <td>63157</td>\n      <td>2</td>\n      <td>12426</td>\n      <td>104</td>\n      <td>53</td>\n      <td>104</td>\n      <td>53</td>\n      <td>3</td>\n      <td>2</td>\n      <td>231</td>\n    </tr>\n    <tr>\n      <th>top</th>\n      <td>197211040ATL</td>\n      <td>NBA</td>\n      <td>1/2/2009</td>\n      <td>BOS</td>\n      <td>Lakers</td>\n      <td>BOS</td>\n      <td>Lakers</td>\n      <td>H</td>\n      <td>L</td>\n      <td>at New York NY</td>\n    </tr>\n    <tr>\n      <th>freq</th>\n      <td>2</td>\n      <td>118016</td>\n      <td>30</td>\n      <td>5997</td>\n      <td>6024</td>\n      <td>5997</td>\n      <td>6024</td>\n      <td>63138</td>\n      <td>63157</td>\n      <td>440</td>\n    </tr>\n  </tbody>\n</table>\n</div>"
     },
     "metadata": {}
    }
   ],
   "execution_count": 6
  },
  {
   "cell_type": "markdown",
   "source": ".describe()&nbsp;won’t try to calculate a mean or a standard deviation for the&nbsp;object&nbsp;columns, since they mostly include text strings. However, it will still display some descriptive statistics:",
   "metadata": {
    "cell_id": "9774c0b0e6734b9c917e5fb71b072c39",
    "tags": [],
    "is_collapsed": false,
    "formattedRanges": [],
    "deepnote_cell_type": "text-cell-p"
   }
  },
  {
   "cell_type": "markdown",
   "source": "Take a look at the&nbsp;team_id&nbsp;and&nbsp;fran_id&nbsp;columns. Your dataset contains 104 different team IDs, but only 53 different franchise IDs. Furthermore, the most frequent team ID is&nbsp;BOS, but the most frequent franchise ID&nbsp;Lakers. How is that possible? You’ll need to explore your dataset a bit more to answer this question.",
   "metadata": {
    "cell_id": "01c27aa14ed24f7f9b239dfde17bc89b",
    "tags": [],
    "is_collapsed": false,
    "formattedRanges": [],
    "deepnote_cell_type": "text-cell-p"
   }
  },
  {
   "cell_type": "markdown",
   "source": "### Exploring Your Dataset",
   "metadata": {
    "cell_id": "c120c77ca3fe4b088bb66da5db311666",
    "tags": [],
    "is_collapsed": false,
    "formattedRanges": [],
    "deepnote_cell_type": "text-cell-h3"
   }
  },
  {
   "cell_type": "markdown",
   "source": "Exploratory data analysis&nbsp;can help you answer questions about your dataset. For example, you can examine how often specific values occur in a column:",
   "metadata": {
    "cell_id": "47b7a3979775486fb07af04ad6f3993e",
    "tags": [],
    "is_collapsed": false,
    "formattedRanges": [],
    "deepnote_cell_type": "text-cell-p"
   }
  },
  {
   "cell_type": "code",
   "source": "nba[\"team_id\"].value_counts()",
   "metadata": {
    "cell_id": "9bfbba018bb74beebb76c73223b0b3e8",
    "tags": [],
    "deepnote_to_be_reexecuted": false,
    "source_hash": "5215cc35",
    "execution_start": 1656252416973,
    "execution_millis": 34,
    "deepnote_cell_type": "code",
    "deepnote_cell_height": 327,
    "deepnote_output_heights": [
     230
    ]
   },
   "outputs": [
    {
     "output_type": "execute_result",
     "execution_count": 7,
     "data": {
      "text/plain": "BOS    5997\nNYK    5769\nLAL    5078\nDET    4985\nPHI    4533\n       ... \nTRH      60\nPIT      60\nDTF      60\nINJ      60\nSDS      11\nName: team_id, Length: 104, dtype: int64"
     },
     "metadata": {}
    }
   ],
   "execution_count": 7
  },
  {
   "cell_type": "code",
   "source": "nba[\"fran_id\"].value_counts()",
   "metadata": {
    "cell_id": "41fcaf10debf4fa9b93b4ebdc213cfeb",
    "tags": [],
    "deepnote_to_be_reexecuted": false,
    "source_hash": "1f0d9f83",
    "execution_start": 1656252417010,
    "execution_millis": 41,
    "deepnote_cell_type": "code",
    "deepnote_cell_height": 708,
    "deepnote_output_heights": [
     611
    ]
   },
   "outputs": [
    {
     "output_type": "execute_result",
     "execution_count": 8,
     "data": {
      "text/plain": "Lakers          6024\nCeltics         5997\nKnicks          5769\nWarriors        5657\nPistons         5650\nSixers          5644\nHawks           5572\nKings           5475\nWizards         4582\nSpurs           4309\nBulls           4307\nPacers          4227\nThunder         4178\nRockets         4154\nNuggets         4120\nNets            4106\nSuns            4080\nBucks           4034\nTrailblazers    3870\nCavaliers       3810\nClippers        3733\nJazz            3555\nMavericks       3013\nHeat            2371\nPelicans        2254\nMagic           2207\nTimberwolves    2131\nGrizzlies       1657\nRaptors         1634\nHornets          894\nColonels         846\nSquires          799\nSpirits          777\nStars            756\nSounds           697\nBaltimore        467\nFloridians       440\nCondors          430\nCapitols         291\nOlympians        282\nSails            274\nStags            260\nBombers          249\nSteamrollers     168\nPackers           72\nRedskins          65\nRebels            63\nDenver            62\nWaterloo          62\nHuskies           60\nFalcons           60\nIronmen           60\nJets              60\nName: fran_id, dtype: int64"
     },
     "metadata": {}
    }
   ],
   "execution_count": 8
  },
  {
   "cell_type": "markdown",
   "source": "It seems that a team named&nbsp;\"Lakers\"&nbsp;played 6024 games, but only 5078 of those were played by the Los Angeles Lakers. Find out who the other&nbsp;\"Lakers\"&nbsp;team is:",
   "metadata": {
    "cell_id": "4f72366e53144f6ca2a68a4052d36b28",
    "tags": [],
    "is_collapsed": false,
    "formattedRanges": [],
    "deepnote_cell_type": "text-cell-p"
   }
  },
  {
   "cell_type": "code",
   "source": "nba.loc[nba[\"fran_id\"] == \"Lakers\", \"team_id\"].value_counts()",
   "metadata": {
    "cell_id": "a4478a12d36648caa017c9e588304d0f",
    "tags": [],
    "deepnote_to_be_reexecuted": false,
    "source_hash": "63249c27",
    "execution_start": 1656252417060,
    "execution_millis": 38,
    "deepnote_cell_type": "code",
    "deepnote_cell_height": 156,
    "deepnote_output_heights": [
     59
    ]
   },
   "outputs": [
    {
     "output_type": "execute_result",
     "execution_count": 9,
     "data": {
      "text/plain": "LAL    5078\nMNL     946\nName: team_id, dtype: int64"
     },
     "metadata": {}
    }
   ],
   "execution_count": 9
  },
  {
   "cell_type": "code",
   "source": "nba.loc[nba['fran_id'] == \"Spurs\", \"team_id\"].value_counts()",
   "metadata": {
    "cell_id": "8e3da98f1d9d4af9b34f418d6a48a4f7",
    "tags": [],
    "deepnote_to_be_reexecuted": false,
    "source_hash": "caba169b",
    "execution_start": 1656252417103,
    "execution_millis": 29,
    "deepnote_cell_type": "code",
    "deepnote_cell_height": 194,
    "deepnote_output_heights": [
     97
    ]
   },
   "outputs": [
    {
     "output_type": "execute_result",
     "execution_count": 10,
     "data": {
      "text/plain": "SAS    3515\nDLC     433\nSAA     272\nTEX      89\nName: team_id, dtype: int64"
     },
     "metadata": {}
    }
   ],
   "execution_count": 10
  },
  {
   "cell_type": "markdown",
   "source": "Indeed, the Minneapolis Lakers (\"MNL\") played 946 games. You can even find out when they played those games. For that, you’ll first define a column that converts the value of&nbsp;date_game&nbsp;to the&nbsp;datetime&nbsp;data type. Then you can use the&nbsp;min&nbsp;and&nbsp;max&nbsp;aggregate functions, to find the first and last games of Minneapolis Lakers:",
   "metadata": {
    "cell_id": "607fa9c37c6248b781f144dbc0427143",
    "tags": [],
    "is_collapsed": false,
    "formattedRanges": [],
    "deepnote_cell_type": "text-cell-p"
   }
  },
  {
   "cell_type": "code",
   "source": "nba[\"date_played\"] = pd.to_datetime(nba[\"date_game\"])",
   "metadata": {
    "cell_id": "73b12cd74c6c4cd09c73688b7a3a8838",
    "tags": [],
    "deepnote_to_be_reexecuted": false,
    "source_hash": "688d9eb0",
    "execution_start": 1656252417135,
    "execution_millis": 1092,
    "deepnote_cell_type": "code",
    "deepnote_cell_height": 81
   },
   "outputs": [],
   "execution_count": 11
  },
  {
   "cell_type": "code",
   "source": "nba.loc[nba[\"team_id\"] == \"MNL\", \"date_played\"].min()",
   "metadata": {
    "cell_id": "98ed83b87f1a4238a5439df84cfa25cd",
    "tags": [],
    "deepnote_to_be_reexecuted": false,
    "source_hash": "44aa4220",
    "execution_start": 1656252418232,
    "execution_millis": 463,
    "deepnote_cell_type": "code",
    "deepnote_cell_height": 118,
    "deepnote_output_heights": [
     21
    ]
   },
   "outputs": [
    {
     "output_type": "execute_result",
     "execution_count": 12,
     "data": {
      "text/plain": "Timestamp('1948-11-04 00:00:00')"
     },
     "metadata": {}
    }
   ],
   "execution_count": 12
  },
  {
   "cell_type": "code",
   "source": "nba.loc[nba['team_id'] == 'MNL', 'date_played'].max()",
   "metadata": {
    "cell_id": "ac018b5f766a452b9d04912b6778edbb",
    "tags": [],
    "deepnote_to_be_reexecuted": false,
    "source_hash": "d19d69f3",
    "execution_start": 1656252418264,
    "execution_millis": 432,
    "deepnote_cell_type": "code",
    "deepnote_cell_height": 118,
    "deepnote_output_heights": [
     21
    ]
   },
   "outputs": [
    {
     "output_type": "execute_result",
     "execution_count": 13,
     "data": {
      "text/plain": "Timestamp('1960-03-26 00:00:00')"
     },
     "metadata": {}
    }
   ],
   "execution_count": 13
  },
  {
   "cell_type": "code",
   "source": "nba.loc[nba[\"team_id\"] == \"MNL\", \"date_played\"].agg((\"min\", \"max\"))",
   "metadata": {
    "cell_id": "18520711424f47ebab4a9162febb87f0",
    "tags": [],
    "deepnote_to_be_reexecuted": false,
    "source_hash": "6f5241af",
    "execution_start": 1656252418295,
    "execution_millis": 402,
    "deepnote_cell_type": "code",
    "deepnote_cell_height": 156,
    "deepnote_output_heights": [
     59
    ]
   },
   "outputs": [
    {
     "output_type": "execute_result",
     "execution_count": 14,
     "data": {
      "text/plain": "min   1948-11-04\nmax   1960-03-26\nName: date_played, dtype: datetime64[ns]"
     },
     "metadata": {}
    }
   ],
   "execution_count": 14
  },
  {
   "cell_type": "markdown",
   "source": "You’ve also found out why the Boston Celtics team&nbsp;\"BOS\"&nbsp;played the most games in the dataset. Let’s analyze their history also a little bit. Find out how many points the Boston Celtics have scored during all matches contained in this dataset. Expand the code block below for the solution:",
   "metadata": {
    "cell_id": "0e85d61906194506aee6ea41017f3bb3",
    "tags": [],
    "is_collapsed": false,
    "formattedRanges": [],
    "deepnote_cell_type": "text-cell-p"
   }
  },
  {
   "cell_type": "code",
   "source": "nba.loc[nba[\"team_id\"] == \"BOS\", \"pts\"].sum()",
   "metadata": {
    "cell_id": "3d87bd84e6b141ad9b62aebced0f61c2",
    "tags": [],
    "deepnote_to_be_reexecuted": false,
    "source_hash": "10810d5f",
    "execution_start": 1656252418333,
    "execution_millis": 365,
    "deepnote_cell_type": "code",
    "deepnote_cell_height": 118,
    "deepnote_output_heights": [
     21
    ]
   },
   "outputs": [
    {
     "output_type": "execute_result",
     "execution_count": 15,
     "data": {
      "text/plain": "626484"
     },
     "metadata": {}
    }
   ],
   "execution_count": 15
  },
  {
   "cell_type": "markdown",
   "source": "# Getting to Know Pandas’ Data Structures",
   "metadata": {
    "cell_id": "eea472a1c4fe4fbea7b4fc60569f96c4",
    "tags": [],
    "is_collapsed": false,
    "formattedRanges": [],
    "deepnote_cell_type": "text-cell-h1"
   }
  },
  {
   "cell_type": "markdown",
   "source": "While a&nbsp;DataFrame&nbsp;provides functions that can feel quite intuitive, the underlying concepts are a bit trickier to understand. For this reason, you’ll set aside the vast NBA&nbsp;DataFrame&nbsp;and build some smaller Pandas objects from scratch.",
   "metadata": {
    "cell_id": "e2334c05556a448e979cb49824f19855",
    "tags": [],
    "is_collapsed": false,
    "formattedRanges": [],
    "deepnote_cell_type": "text-cell-p"
   }
  },
  {
   "cell_type": "code",
   "source": "revenues = pd.Series([5555, 7000, 1980])\nrevenues",
   "metadata": {
    "cell_id": "c87a577d580a4215bf8560d48ce8eab7",
    "tags": [],
    "deepnote_to_be_reexecuted": false,
    "source_hash": "9669e57a",
    "execution_start": 1656252418375,
    "execution_millis": 324,
    "deepnote_cell_type": "code",
    "deepnote_cell_height": 193,
    "deepnote_output_heights": [
     78
    ]
   },
   "outputs": [
    {
     "output_type": "execute_result",
     "execution_count": 16,
     "data": {
      "text/plain": "0    5555\n1    7000\n2    1980\ndtype: int64"
     },
     "metadata": {}
    }
   ],
   "execution_count": 16
  },
  {
   "cell_type": "markdown",
   "source": "You’ve used the list&nbsp;[5555, 7000, 1980]&nbsp;to create a&nbsp;Series&nbsp;object called&nbsp;revenues. A&nbsp;Series&nbsp;object wraps two components:A sequence of&nbsp;valuesA sequence of&nbsp;identifiers, which is the indexYou can access these components with&nbsp;.values&nbsp;and&nbsp;.index, respectively:",
   "metadata": {
    "cell_id": "9dbde37ff7c64b3fa16c3b93f5fa76da",
    "tags": [],
    "is_collapsed": false,
    "formattedRanges": [],
    "deepnote_cell_type": "text-cell-p"
   }
  },
  {
   "cell_type": "code",
   "source": "revenues.values",
   "metadata": {
    "cell_id": "2274028e5ed74ac0a4eec4625c88a1f8",
    "tags": [],
    "deepnote_to_be_reexecuted": false,
    "source_hash": "4c59bdc5",
    "execution_start": 1656252418400,
    "execution_millis": 300,
    "deepnote_cell_type": "code",
    "deepnote_cell_height": 118,
    "deepnote_output_heights": [
     21
    ]
   },
   "outputs": [
    {
     "output_type": "execute_result",
     "execution_count": 17,
     "data": {
      "text/plain": "array([5555, 7000, 1980])"
     },
     "metadata": {}
    }
   ],
   "execution_count": 17
  },
  {
   "cell_type": "code",
   "source": "revenues.index",
   "metadata": {
    "cell_id": "cdc6d2920f28477abefe7f9f870d3317",
    "tags": [],
    "deepnote_to_be_reexecuted": false,
    "source_hash": "219d784",
    "execution_start": 1656252418419,
    "execution_millis": 281,
    "deepnote_cell_type": "code",
    "deepnote_cell_height": 118,
    "deepnote_output_heights": [
     21
    ]
   },
   "outputs": [
    {
     "output_type": "execute_result",
     "execution_count": 18,
     "data": {
      "text/plain": "RangeIndex(start=0, stop=3, step=1)"
     },
     "metadata": {}
    }
   ],
   "execution_count": 18
  },
  {
   "cell_type": "code",
   "source": "city_revenues = pd.Series(\n    [4200, 8000, 6500],\n    index=[\"Amsterdam\", \"Toronto\", \"Tokyo\"]\n    )\ncity_revenues",
   "metadata": {
    "cell_id": "b5c0ef6c51c2444cba0f664b8e9ab882",
    "tags": [],
    "deepnote_to_be_reexecuted": false,
    "source_hash": "cb5a5e83",
    "execution_start": 1656252418438,
    "execution_millis": 263,
    "deepnote_cell_type": "code",
    "deepnote_cell_height": 247,
    "deepnote_output_heights": [
     78
    ]
   },
   "outputs": [
    {
     "output_type": "execute_result",
     "execution_count": 19,
     "data": {
      "text/plain": "Amsterdam    4200\nToronto      8000\nTokyo        6500\ndtype: int64"
     },
     "metadata": {}
    }
   ],
   "execution_count": 19
  },
  {
   "cell_type": "code",
   "source": "city_employee_count = pd.Series({\"Amsterdam\": 5, \"Tokyo\": 8})\ncity_employee_count",
   "metadata": {
    "cell_id": "a407c9162c164e23aaef427c39b805a4",
    "tags": [],
    "deepnote_to_be_reexecuted": false,
    "source_hash": "c1cb2af2",
    "execution_start": 1656252418495,
    "execution_millis": 207,
    "deepnote_cell_type": "code",
    "deepnote_cell_height": 174,
    "deepnote_output_heights": [
     59
    ]
   },
   "outputs": [
    {
     "output_type": "execute_result",
     "execution_count": 20,
     "data": {
      "text/plain": "Amsterdam    5\nTokyo        8\ndtype: int64"
     },
     "metadata": {}
    }
   ],
   "execution_count": 20
  },
  {
   "cell_type": "code",
   "source": "city_employee_count.keys()",
   "metadata": {
    "cell_id": "d2f7612898fd47729b26c462c9b5f613",
    "tags": [],
    "deepnote_to_be_reexecuted": false,
    "source_hash": "c60d4c65",
    "execution_start": 1656252418497,
    "execution_millis": 0,
    "deepnote_cell_type": "code",
    "deepnote_cell_height": 118,
    "deepnote_output_heights": [
     21
    ]
   },
   "outputs": [
    {
     "output_type": "execute_result",
     "execution_count": 21,
     "data": {
      "text/plain": "Index(['Amsterdam', 'Tokyo'], dtype='object')"
     },
     "metadata": {}
    }
   ],
   "execution_count": 21
  },
  {
   "cell_type": "markdown",
   "source": "## Understanding DataFrame Objects",
   "metadata": {
    "cell_id": "c0c757f494a44c1e96fe89f09245b87f",
    "tags": [],
    "is_collapsed": false,
    "formattedRanges": [],
    "deepnote_cell_type": "text-cell-h2"
   }
  },
  {
   "cell_type": "code",
   "source": "city_data = pd.DataFrame({\n     \"revenue\": city_revenues,\n     \"employee_count\": city_employee_count})\ncity_data",
   "metadata": {
    "cell_id": "189f9c0e696d444299f2c86ba89be0b6",
    "tags": [],
    "deepnote_to_be_reexecuted": false,
    "source_hash": "c5630558",
    "execution_start": 1656252418543,
    "execution_millis": 161,
    "deepnote_cell_type": "code",
    "deepnote_cell_height": 367
   },
   "outputs": [
    {
     "output_type": "execute_result",
     "execution_count": 22,
     "data": {
      "application/vnd.deepnote.dataframe.v3+json": {
       "column_count": 2,
       "row_count": 3,
       "columns": [
        {
         "name": "revenue",
         "dtype": "int64",
         "stats": {
          "unique_count": 3,
          "nan_count": 0,
          "min": "4200",
          "max": "8000",
          "histogram": [
           {
            "bin_start": 4200,
            "bin_end": 4580,
            "count": 1
           },
           {
            "bin_start": 4580,
            "bin_end": 4960,
            "count": 0
           },
           {
            "bin_start": 4960,
            "bin_end": 5340,
            "count": 0
           },
           {
            "bin_start": 5340,
            "bin_end": 5720,
            "count": 0
           },
           {
            "bin_start": 5720,
            "bin_end": 6100,
            "count": 0
           },
           {
            "bin_start": 6100,
            "bin_end": 6480,
            "count": 0
           },
           {
            "bin_start": 6480,
            "bin_end": 6860,
            "count": 1
           },
           {
            "bin_start": 6860,
            "bin_end": 7240,
            "count": 0
           },
           {
            "bin_start": 7240,
            "bin_end": 7620,
            "count": 0
           },
           {
            "bin_start": 7620,
            "bin_end": 8000,
            "count": 1
           }
          ]
         }
        },
        {
         "name": "employee_count",
         "dtype": "float64",
         "stats": {
          "unique_count": 2,
          "nan_count": 1,
          "min": "5.0",
          "max": "8.0",
          "histogram": [
           {
            "bin_start": 5,
            "bin_end": 5.3,
            "count": 1
           },
           {
            "bin_start": 5.3,
            "bin_end": 5.6,
            "count": 0
           },
           {
            "bin_start": 5.6,
            "bin_end": 5.9,
            "count": 0
           },
           {
            "bin_start": 5.9,
            "bin_end": 6.2,
            "count": 0
           },
           {
            "bin_start": 6.2,
            "bin_end": 6.5,
            "count": 0
           },
           {
            "bin_start": 6.5,
            "bin_end": 6.8,
            "count": 0
           },
           {
            "bin_start": 6.8,
            "bin_end": 7.1,
            "count": 0
           },
           {
            "bin_start": 7.1,
            "bin_end": 7.4,
            "count": 0
           },
           {
            "bin_start": 7.4,
            "bin_end": 7.699999999999999,
            "count": 0
           },
           {
            "bin_start": 7.699999999999999,
            "bin_end": 8,
            "count": 1
           }
          ]
         }
        },
        {
         "name": "_deepnote_index_column",
         "dtype": "object"
        }
       ],
       "rows": [
        {
         "revenue": 4200,
         "employee_count": 5,
         "_deepnote_index_column": "Amsterdam"
        },
        {
         "revenue": 6500,
         "employee_count": 8,
         "_deepnote_index_column": "Tokyo"
        },
        {
         "revenue": 8000,
         "employee_count": "nan",
         "_deepnote_index_column": "Toronto"
        }
       ]
      },
      "text/plain": "           revenue  employee_count\nAmsterdam     4200             5.0\nTokyo         6500             8.0\nToronto       8000             NaN",
      "text/html": "<div>\n<style scoped>\n    .dataframe tbody tr th:only-of-type {\n        vertical-align: middle;\n    }\n\n    .dataframe tbody tr th {\n        vertical-align: top;\n    }\n\n    .dataframe thead th {\n        text-align: right;\n    }\n</style>\n<table border=\"1\" class=\"dataframe\">\n  <thead>\n    <tr style=\"text-align: right;\">\n      <th></th>\n      <th>revenue</th>\n      <th>employee_count</th>\n    </tr>\n  </thead>\n  <tbody>\n    <tr>\n      <th>Amsterdam</th>\n      <td>4200</td>\n      <td>5.0</td>\n    </tr>\n    <tr>\n      <th>Tokyo</th>\n      <td>6500</td>\n      <td>8.0</td>\n    </tr>\n    <tr>\n      <th>Toronto</th>\n      <td>8000</td>\n      <td>NaN</td>\n    </tr>\n  </tbody>\n</table>\n</div>"
     },
     "metadata": {}
    }
   ],
   "execution_count": 22
  },
  {
   "cell_type": "code",
   "source": "",
   "metadata": {
    "cell_id": "906381347d534f248db7e98bba8c8c44",
    "tags": [],
    "deepnote_to_be_reexecuted": false,
    "source_hash": "b623e53d",
    "execution_start": 1656252418545,
    "execution_millis": 0,
    "deepnote_cell_type": "code",
    "deepnote_cell_height": 81
   },
   "outputs": [],
   "execution_count": 22
  },
  {
   "cell_type": "markdown",
   "source": "### Axis - important",
   "metadata": {
    "cell_id": "a043552b752b4fd38eafb8c80787562a",
    "tags": [],
    "is_collapsed": false,
    "formattedRanges": [],
    "deepnote_cell_type": "text-cell-h3"
   }
  },
  {
   "cell_type": "code",
   "source": "city_data.axes",
   "metadata": {
    "cell_id": "70cd5d2199534a50a82db46e3ed086a3",
    "tags": [],
    "deepnote_to_be_reexecuted": false,
    "source_hash": "fc7464de",
    "execution_start": 1656252418587,
    "execution_millis": 118,
    "deepnote_cell_type": "code",
    "deepnote_cell_height": 137,
    "deepnote_output_heights": [
     40
    ]
   },
   "outputs": [
    {
     "output_type": "execute_result",
     "execution_count": 23,
     "data": {
      "text/plain": "[Index(['Amsterdam', 'Tokyo', 'Toronto'], dtype='object'),\n Index(['revenue', 'employee_count'], dtype='object')]"
     },
     "metadata": {}
    }
   ],
   "execution_count": 23
  },
  {
   "cell_type": "code",
   "source": "city_data.axes[0]",
   "metadata": {
    "cell_id": "e0ef5260e10b409b99e1bf500a277ccb",
    "tags": [],
    "deepnote_to_be_reexecuted": false,
    "source_hash": "973b3a0e",
    "execution_start": 1656252418589,
    "execution_millis": 116,
    "deepnote_cell_type": "code",
    "deepnote_cell_height": 118,
    "deepnote_output_heights": [
     21
    ]
   },
   "outputs": [
    {
     "output_type": "execute_result",
     "execution_count": 24,
     "data": {
      "text/plain": "Index(['Amsterdam', 'Tokyo', 'Toronto'], dtype='object')"
     },
     "metadata": {}
    }
   ],
   "execution_count": 24
  },
  {
   "cell_type": "code",
   "source": "city_data.axes[1] # column index",
   "metadata": {
    "cell_id": "e21c6288bc384613a627e36712cd1beb",
    "tags": [],
    "deepnote_to_be_reexecuted": false,
    "source_hash": "f94bb075",
    "execution_start": 1656252418652,
    "execution_millis": 0,
    "deepnote_cell_type": "code",
    "deepnote_cell_height": 118,
    "deepnote_output_heights": [
     21
    ]
   },
   "outputs": [
    {
     "output_type": "execute_result",
     "execution_count": 25,
     "data": {
      "text/plain": "Index(['revenue', 'employee_count'], dtype='object')"
     },
     "metadata": {}
    }
   ],
   "execution_count": 25
  },
  {
   "cell_type": "markdown",
   "source": "The axis marked with 0 is the&nbsp;row index, and the axis marked with 1 is the&nbsp;column index. This terminology is important to know because you’ll encounter several&nbsp;DataFramemethods that accept an&nbsp;axis&nbsp;parameter.",
   "metadata": {
    "cell_id": "b19c546f2f2f41aeb552f0033b69cda0",
    "tags": [],
    "is_collapsed": false,
    "formattedRanges": [],
    "deepnote_cell_type": "text-cell-p"
   }
  },
  {
   "cell_type": "markdown",
   "source": "### Accessing Series Elements",
   "metadata": {
    "cell_id": "1be9be47ae504ba391b95390655befce",
    "tags": [],
    "is_collapsed": false,
    "formattedRanges": [],
    "deepnote_cell_type": "text-cell-h3"
   }
  },
  {
   "cell_type": "markdown",
   "source": "### Using&nbsp;.loc&nbsp;and&nbsp;.iloc",
   "metadata": {
    "cell_id": "919dbee0311f49389dceafd42320e945",
    "tags": [],
    "is_collapsed": false,
    "formattedRanges": [],
    "deepnote_cell_type": "text-cell-h3"
   }
  },
  {
   "cell_type": "markdown",
   "source": "In the section above, you’ve created a Pandas&nbsp;Series&nbsp;based on a Python list and compared the two data structures. You’ve seen how a&nbsp;Series&nbsp;object is similar to lists and dictionaries in several ways. A further similarity is that you can use the&nbsp;indexing operator&nbsp;([]) for&nbsp;Series&nbsp;as well.&nbsp;You’ll also learn how to use two Pandas-specific&nbsp;access methods: .loc .iloc You’ll see that these data access methods can be much more readable than the indexing operator.",
   "metadata": {
    "cell_id": "0c42ff98d08841ec83bb53e566b1c989",
    "tags": [],
    "is_collapsed": false,
    "formattedRanges": [],
    "deepnote_cell_type": "text-cell-p"
   }
  },
  {
   "cell_type": "code",
   "source": "colors = pd.Series(\n     [\"red\", \"purple\", \"blue\", \"green\", \"yellow\"],\n     index=[1, 2, 3, 5, 8]\n)\ncolors",
   "metadata": {
    "cell_id": "62e6d37a1c8f4cec9a923fb1dba8d5b7",
    "tags": [],
    "deepnote_to_be_reexecuted": false,
    "source_hash": "4370cd4a",
    "execution_start": 1656252418653,
    "execution_millis": 70,
    "deepnote_cell_type": "code",
    "deepnote_cell_height": 285,
    "deepnote_output_heights": [
     116
    ]
   },
   "outputs": [
    {
     "output_type": "execute_result",
     "execution_count": 26,
     "data": {
      "text/plain": "1       red\n2    purple\n3      blue\n5     green\n8    yellow\ndtype: object"
     },
     "metadata": {}
    }
   ],
   "execution_count": 26
  },
  {
   "cell_type": "code",
   "source": "colors.loc[1]",
   "metadata": {
    "cell_id": "68fcbc54d67e46f19db42f49367520d7",
    "tags": [],
    "deepnote_to_be_reexecuted": false,
    "source_hash": "a7d1c5ac",
    "execution_start": 1656252418716,
    "execution_millis": 7,
    "deepnote_cell_type": "code",
    "deepnote_cell_height": 118,
    "deepnote_output_heights": [
     21
    ]
   },
   "outputs": [
    {
     "output_type": "execute_result",
     "execution_count": 27,
     "data": {
      "text/plain": "'red'"
     },
     "metadata": {}
    }
   ],
   "execution_count": 27
  },
  {
   "cell_type": "code",
   "source": "colors.iloc[1]",
   "metadata": {
    "cell_id": "85996d1d5c144030bd6a83a42ea93fa7",
    "tags": [],
    "deepnote_to_be_reexecuted": false,
    "source_hash": "4552f3b6",
    "execution_start": 1656252418717,
    "execution_millis": 6,
    "deepnote_cell_type": "code",
    "deepnote_cell_height": 118,
    "deepnote_output_heights": [
     21
    ]
   },
   "outputs": [
    {
     "output_type": "execute_result",
     "execution_count": 28,
     "data": {
      "text/plain": "'purple'"
     },
     "metadata": {}
    }
   ],
   "execution_count": 28
  },
  {
   "cell_type": "markdown",
   "source": ".loc&nbsp;refers to the&nbsp;label index.",
   "metadata": {
    "cell_id": "09ced3e6a8f34b8480c92d669e6aaa68",
    "tags": [],
    "is_collapsed": false,
    "formattedRanges": [],
    "deepnote_cell_type": "text-cell-p"
   }
  },
  {
   "cell_type": "markdown",
   "source": ".iloc&nbsp;refers to the&nbsp;positional index.",
   "metadata": {
    "cell_id": "56b08b0178ea4caf987356ebde13c5f0",
    "tags": [],
    "is_collapsed": false,
    "formattedRanges": [],
    "deepnote_cell_type": "text-cell-p"
   }
  },
  {
   "cell_type": "markdown",
   "source": "### Accessing DataFrame Elements",
   "metadata": {
    "cell_id": "86fb6b23ff53487ab54090a09e1b419a",
    "tags": [],
    "is_collapsed": false,
    "formattedRanges": [],
    "deepnote_cell_type": "text-cell-h3"
   }
  },
  {
   "cell_type": "markdown",
   "source": "Since a&nbsp;DataFrame&nbsp;consists of&nbsp;Series&nbsp;objects, you can use the very same tools to access its elements. The crucial difference is the additional&nbsp;dimension&nbsp;of the&nbsp;DataFrame. You’ll use the indexing operator for the columns and the access methods&nbsp;.loc&nbsp;and&nbsp;.iloc&nbsp;on the rows.",
   "metadata": {
    "cell_id": "057a8644ed6b4e96963d1b7b20c0d558",
    "tags": [],
    "is_collapsed": false,
    "formattedRanges": [],
    "deepnote_cell_type": "text-cell-p"
   }
  },
  {
   "cell_type": "markdown",
   "source": "Alright, you’ve used&nbsp;.loc&nbsp;and&nbsp;.iloc&nbsp;on small data structures. Now, it’s time to practice with something bigger! Use a data access method to display the second-to-last row of the&nbsp;nbadataset. Then, expand the code block below to see a solution:",
   "metadata": {
    "cell_id": "89b5d4f2afb948d9adeea86838edc57e",
    "tags": [],
    "is_collapsed": false,
    "formattedRanges": [],
    "deepnote_cell_type": "text-cell-p"
   }
  },
  {
   "cell_type": "code",
   "source": "nba.index",
   "metadata": {
    "cell_id": "e149c12445e149eaa1a7ffa49ea29701",
    "tags": [],
    "deepnote_to_be_reexecuted": false,
    "source_hash": "32a1e690",
    "execution_start": 1656252418745,
    "execution_millis": 0,
    "deepnote_cell_type": "code",
    "deepnote_cell_height": 118,
    "deepnote_output_heights": [
     21
    ]
   },
   "outputs": [
    {
     "output_type": "execute_result",
     "execution_count": 29,
     "data": {
      "text/plain": "RangeIndex(start=0, stop=126314, step=1)"
     },
     "metadata": {}
    }
   ],
   "execution_count": 29
  },
  {
   "cell_type": "code",
   "source": "nba.iloc[-2]",
   "metadata": {
    "cell_id": "742d631164ec4e40be31661b3e2c0da1",
    "tags": [],
    "deepnote_to_be_reexecuted": false,
    "source_hash": "10304692",
    "execution_start": 1656252418746,
    "execution_millis": 4,
    "deepnote_cell_type": "code",
    "deepnote_cell_height": 574,
    "deepnote_output_heights": [
     477
    ]
   },
   "outputs": [
    {
     "output_type": "execute_result",
     "execution_count": 30,
     "data": {
      "text/plain": "gameorder                      63157\ngame_id                 201506170CLE\nlg_id                            NBA\n_iscopy                            0\nyear_id                         2015\ndate_game                  6/16/2015\nseasongame                       102\nis_playoffs                        1\nteam_id                          CLE\nfran_id                    Cavaliers\npts                               97\nelo_i                      1700.7391\nelo_n                      1692.0859\nwin_equiv                  59.290245\nopp_id                           GSW\nopp_fran                    Warriors\nopp_pts                          105\nopp_elo_i                  1813.6349\nopp_elo_n                  1822.2881\ngame_location                      H\ngame_result                        L\nforecast                     0.48145\nnotes                            NaN\ndate_played      2015-06-16 00:00:00\nName: 126312, dtype: object"
     },
     "metadata": {}
    }
   ],
   "execution_count": 30
  },
  {
   "cell_type": "markdown",
   "source": "For a&nbsp;DataFrame, the data access methods&nbsp;.loc&nbsp;and&nbsp;.iloc&nbsp;also accept a second parameter. While the first parameter selects rows based on the indices, the second parameter selects the columns. You can use these parameters together to select a&nbsp;subset&nbsp;of rows and columns from your&nbsp;DataFrame:",
   "metadata": {
    "cell_id": "ca4279b455eb4f78b26681595e042b17",
    "tags": [],
    "is_collapsed": false,
    "formattedRanges": [],
    "deepnote_cell_type": "text-cell-p"
   }
  },
  {
   "cell_type": "code",
   "source": "nba.loc[5555:5559, [\"fran_id\", \"opp_fran\", \"pts\", \"opp_pts\"]]",
   "metadata": {
    "cell_id": "88caf7e42f51448398659d2a2ff38577",
    "tags": [],
    "deepnote_to_be_reexecuted": false,
    "source_hash": "4ecfc37f",
    "execution_start": 1656252418748,
    "execution_millis": 34,
    "deepnote_cell_type": "code",
    "deepnote_cell_height": 395
   },
   "outputs": [
    {
     "output_type": "execute_result",
     "execution_count": 31,
     "data": {
      "application/vnd.deepnote.dataframe.v3+json": {
       "column_count": 4,
       "row_count": 5,
       "columns": [
        {
         "name": "fran_id",
         "dtype": "object",
         "stats": {
          "unique_count": 5,
          "nan_count": 0,
          "categories": [
           {
            "name": "Pistons",
            "count": 1
           },
           {
            "name": "Celtics",
            "count": 1
           },
           {
            "name": "3 others",
            "count": 3
           }
          ]
         }
        },
        {
         "name": "opp_fran",
         "dtype": "object",
         "stats": {
          "unique_count": 5,
          "nan_count": 0,
          "categories": [
           {
            "name": "Warriors",
            "count": 1
           },
           {
            "name": "Knicks",
            "count": 1
           },
           {
            "name": "3 others",
            "count": 3
           }
          ]
         }
        },
        {
         "name": "pts",
         "dtype": "int64",
         "stats": {
          "unique_count": 5,
          "nan_count": 0,
          "min": "74",
          "max": "95",
          "histogram": [
           {
            "bin_start": 74,
            "bin_end": 76.1,
            "count": 1
           },
           {
            "bin_start": 76.1,
            "bin_end": 78.2,
            "count": 0
           },
           {
            "bin_start": 78.2,
            "bin_end": 80.3,
            "count": 0
           },
           {
            "bin_start": 80.3,
            "bin_end": 82.4,
            "count": 1
           },
           {
            "bin_start": 82.4,
            "bin_end": 84.5,
            "count": 1
           },
           {
            "bin_start": 84.5,
            "bin_end": 86.6,
            "count": 1
           },
           {
            "bin_start": 86.6,
            "bin_end": 88.7,
            "count": 0
           },
           {
            "bin_start": 88.7,
            "bin_end": 90.8,
            "count": 0
           },
           {
            "bin_start": 90.8,
            "bin_end": 92.9,
            "count": 0
           },
           {
            "bin_start": 92.9,
            "bin_end": 95,
            "count": 1
           }
          ]
         }
        },
        {
         "name": "opp_pts",
         "dtype": "int64",
         "stats": {
          "unique_count": 5,
          "nan_count": 0,
          "min": "56",
          "max": "95",
          "histogram": [
           {
            "bin_start": 56,
            "bin_end": 59.9,
            "count": 1
           },
           {
            "bin_start": 59.9,
            "bin_end": 63.8,
            "count": 0
           },
           {
            "bin_start": 63.8,
            "bin_end": 67.7,
            "count": 0
           },
           {
            "bin_start": 67.7,
            "bin_end": 71.6,
            "count": 0
           },
           {
            "bin_start": 71.6,
            "bin_end": 75.5,
            "count": 1
           },
           {
            "bin_start": 75.5,
            "bin_end": 79.4,
            "count": 0
           },
           {
            "bin_start": 79.4,
            "bin_end": 83.3,
            "count": 1
           },
           {
            "bin_start": 83.3,
            "bin_end": 87.2,
            "count": 1
           },
           {
            "bin_start": 87.2,
            "bin_end": 91.1,
            "count": 0
           },
           {
            "bin_start": 91.1,
            "bin_end": 95,
            "count": 1
           }
          ]
         }
        },
        {
         "name": "_deepnote_index_column",
         "dtype": "int64"
        }
       ],
       "rows": [
        {
         "fran_id": "Pistons",
         "opp_fran": "Warriors",
         "pts": 83,
         "opp_pts": 56,
         "_deepnote_index_column": 5555
        },
        {
         "fran_id": "Celtics",
         "opp_fran": "Knicks",
         "pts": 95,
         "opp_pts": 74,
         "_deepnote_index_column": 5556
        },
        {
         "fran_id": "Knicks",
         "opp_fran": "Celtics",
         "pts": 74,
         "opp_pts": 95,
         "_deepnote_index_column": 5557
        },
        {
         "fran_id": "Kings",
         "opp_fran": "Sixers",
         "pts": 81,
         "opp_pts": 86,
         "_deepnote_index_column": 5558
        },
        {
         "fran_id": "Sixers",
         "opp_fran": "Kings",
         "pts": 86,
         "opp_pts": 81,
         "_deepnote_index_column": 5559
        }
       ]
      },
      "text/plain": "      fran_id  opp_fran  pts  opp_pts\n5555  Pistons  Warriors   83       56\n5556  Celtics    Knicks   95       74\n5557   Knicks   Celtics   74       95\n5558    Kings    Sixers   81       86\n5559   Sixers     Kings   86       81",
      "text/html": "<div>\n<style scoped>\n    .dataframe tbody tr th:only-of-type {\n        vertical-align: middle;\n    }\n\n    .dataframe tbody tr th {\n        vertical-align: top;\n    }\n\n    .dataframe thead th {\n        text-align: right;\n    }\n</style>\n<table border=\"1\" class=\"dataframe\">\n  <thead>\n    <tr style=\"text-align: right;\">\n      <th></th>\n      <th>fran_id</th>\n      <th>opp_fran</th>\n      <th>pts</th>\n      <th>opp_pts</th>\n    </tr>\n  </thead>\n  <tbody>\n    <tr>\n      <th>5555</th>\n      <td>Pistons</td>\n      <td>Warriors</td>\n      <td>83</td>\n      <td>56</td>\n    </tr>\n    <tr>\n      <th>5556</th>\n      <td>Celtics</td>\n      <td>Knicks</td>\n      <td>95</td>\n      <td>74</td>\n    </tr>\n    <tr>\n      <th>5557</th>\n      <td>Knicks</td>\n      <td>Celtics</td>\n      <td>74</td>\n      <td>95</td>\n    </tr>\n    <tr>\n      <th>5558</th>\n      <td>Kings</td>\n      <td>Sixers</td>\n      <td>81</td>\n      <td>86</td>\n    </tr>\n    <tr>\n      <th>5559</th>\n      <td>Sixers</td>\n      <td>Kings</td>\n      <td>86</td>\n      <td>81</td>\n    </tr>\n  </tbody>\n</table>\n</div>"
     },
     "metadata": {}
    }
   ],
   "execution_count": 31
  },
  {
   "cell_type": "markdown",
   "source": "# Querying Your Dataset",
   "metadata": {
    "cell_id": "c48743a7d4f64b5f9dc073338012f13c",
    "tags": [],
    "is_collapsed": false,
    "formattedRanges": [],
    "deepnote_cell_type": "text-cell-h1"
   }
  },
  {
   "cell_type": "markdown",
   "source": "ou’ve seen how to access subsets of a huge dataset based on its indices. Now, you’ll select rows based on the values in your dataset’s columns to&nbsp;query&nbsp;your data. For example, you can create a new&nbsp;DataFrame&nbsp;that contains only games played after 2010:",
   "metadata": {
    "cell_id": "f40e1291611c4334a82e33c5c603ffcb",
    "tags": [],
    "is_collapsed": false,
    "formattedRanges": [],
    "deepnote_cell_type": "text-cell-p"
   }
  },
  {
   "cell_type": "code",
   "source": "current_decade = nba[nba[\"year_id\"] > 2010]\ncurrent_decade.shape",
   "metadata": {
    "cell_id": "89b0c0037393469ea9fd35205c0e41c8",
    "tags": [],
    "deepnote_to_be_reexecuted": false,
    "source_hash": "d2fd377b",
    "execution_start": 1656252418776,
    "execution_millis": 15,
    "deepnote_cell_type": "code",
    "deepnote_cell_height": 136,
    "deepnote_output_heights": [
     21
    ]
   },
   "outputs": [
    {
     "output_type": "execute_result",
     "execution_count": 32,
     "data": {
      "text/plain": "(12658, 24)"
     },
     "metadata": {}
    }
   ],
   "execution_count": 32
  },
  {
   "cell_type": "markdown",
   "source": "You can also select the rows where a specific field is not null:",
   "metadata": {
    "cell_id": "83cbe54ed6484774af9ee57218fd91e1",
    "tags": [],
    "is_collapsed": false,
    "formattedRanges": [],
    "deepnote_cell_type": "text-cell-p"
   }
  },
  {
   "cell_type": "code",
   "source": "games_with_notes = nba[nba[\"notes\"].notnull()]\ngames_with_notes.shape",
   "metadata": {
    "cell_id": "665ff8e2fad94655b15c266ddd192ed5",
    "tags": [],
    "deepnote_to_be_reexecuted": false,
    "source_hash": "687ca9c1",
    "execution_start": 1656252418804,
    "execution_millis": 43,
    "deepnote_cell_type": "code",
    "deepnote_cell_height": 136,
    "deepnote_output_heights": [
     21
    ]
   },
   "outputs": [
    {
     "output_type": "execute_result",
     "execution_count": 33,
     "data": {
      "text/plain": "(5424, 24)"
     },
     "metadata": {}
    }
   ],
   "execution_count": 33
  },
  {
   "cell_type": "code",
   "source": "ers = nba[nba[\"fran_id\"].str.endswith(\"ers\")]\ners.shape",
   "metadata": {
    "cell_id": "4e30875c07644ef38434f98fc31ffa56",
    "tags": [],
    "deepnote_to_be_reexecuted": false,
    "source_hash": "2a89fb85",
    "execution_start": 1656252418955,
    "execution_millis": 90,
    "deepnote_cell_type": "code",
    "deepnote_cell_height": 136,
    "deepnote_output_heights": [
     21
    ]
   },
   "outputs": [
    {
     "output_type": "execute_result",
     "execution_count": 34,
     "data": {
      "text/plain": "(27797, 24)"
     },
     "metadata": {}
    }
   ],
   "execution_count": 34
  },
  {
   "cell_type": "markdown",
   "source": "### Important Select Rows on conditions",
   "metadata": {
    "cell_id": "c29f2f0fd5c54dabbe2bd47f5024ddf5",
    "tags": [],
    "is_collapsed": false,
    "formattedRanges": [],
    "deepnote_cell_type": "text-cell-h3"
   }
  },
  {
   "cell_type": "code",
   "source": "nba[\n    (nba[\"_iscopy\"] == 0) &\n    (nba[\"pts\"] > 100) &\n    (nba[\"opp_pts\"] > 100) &\n    (nba[\"team_id\"] == \"BLB\")\n]",
   "metadata": {
    "cell_id": "eb50d6ccea5248308811cce3f9e6e21a",
    "tags": [],
    "deepnote_to_be_reexecuted": false,
    "source_hash": "a722decf",
    "execution_start": 1656252419081,
    "execution_millis": 187,
    "deepnote_cell_type": "code",
    "deepnote_cell_height": 500
   },
   "outputs": [
    {
     "output_type": "execute_result",
     "execution_count": 35,
     "data": {
      "application/vnd.deepnote.dataframe.v3+json": {
       "column_count": 24,
       "row_count": 5,
       "columns": [
        {
         "name": "gameorder",
         "dtype": "int64",
         "stats": {
          "unique_count": 5,
          "nan_count": 0,
          "min": "864",
          "max": "2913",
          "histogram": [
           {
            "bin_start": 864,
            "bin_end": 1068.9,
            "count": 1
           },
           {
            "bin_start": 1068.9,
            "bin_end": 1273.8,
            "count": 0
           },
           {
            "bin_start": 1273.8,
            "bin_end": 1478.7,
            "count": 0
           },
           {
            "bin_start": 1478.7,
            "bin_end": 1683.6,
            "count": 0
           },
           {
            "bin_start": 1683.6,
            "bin_end": 1888.5,
            "count": 0
           },
           {
            "bin_start": 1888.5,
            "bin_end": 2093.4,
            "count": 0
           },
           {
            "bin_start": 2093.4,
            "bin_end": 2298.3,
            "count": 0
           },
           {
            "bin_start": 2298.3,
            "bin_end": 2503.2,
            "count": 2
           },
           {
            "bin_start": 2503.2,
            "bin_end": 2708.1000000000004,
            "count": 1
           },
           {
            "bin_start": 2708.1000000000004,
            "bin_end": 2913,
            "count": 1
           }
          ]
         }
        },
        {
         "name": "game_id",
         "dtype": "object",
         "stats": {
          "unique_count": 5,
          "nan_count": 0,
          "categories": [
           {
            "name": "194902260BLB",
            "count": 1
           },
           {
            "name": "195301100BLB",
            "count": 1
           },
           {
            "name": "3 others",
            "count": 3
           }
          ]
         }
        },
        {
         "name": "lg_id",
         "dtype": "object",
         "stats": {
          "unique_count": 1,
          "nan_count": 0,
          "categories": [
           {
            "name": "NBA",
            "count": 5
           }
          ]
         }
        },
        {
         "name": "_iscopy",
         "dtype": "int64",
         "stats": {
          "unique_count": 1,
          "nan_count": 0,
          "min": "0",
          "max": "0",
          "histogram": [
           {
            "bin_start": -0.5,
            "bin_end": -0.4,
            "count": 0
           },
           {
            "bin_start": -0.4,
            "bin_end": -0.3,
            "count": 0
           },
           {
            "bin_start": -0.3,
            "bin_end": -0.19999999999999996,
            "count": 0
           },
           {
            "bin_start": -0.19999999999999996,
            "bin_end": -0.09999999999999998,
            "count": 0
           },
           {
            "bin_start": -0.09999999999999998,
            "bin_end": 0,
            "count": 0
           },
           {
            "bin_start": 0,
            "bin_end": 0.10000000000000009,
            "count": 5
           },
           {
            "bin_start": 0.10000000000000009,
            "bin_end": 0.20000000000000007,
            "count": 0
           },
           {
            "bin_start": 0.20000000000000007,
            "bin_end": 0.30000000000000004,
            "count": 0
           },
           {
            "bin_start": 0.30000000000000004,
            "bin_end": 0.4,
            "count": 0
           },
           {
            "bin_start": 0.4,
            "bin_end": 0.5,
            "count": 0
           }
          ]
         }
        },
        {
         "name": "year_id",
         "dtype": "int64",
         "stats": {
          "unique_count": 3,
          "nan_count": 0,
          "min": "1949",
          "max": "1954",
          "histogram": [
           {
            "bin_start": 1949,
            "bin_end": 1949.5,
            "count": 1
           },
           {
            "bin_start": 1949.5,
            "bin_end": 1950,
            "count": 0
           },
           {
            "bin_start": 1950,
            "bin_end": 1950.5,
            "count": 0
           },
           {
            "bin_start": 1950.5,
            "bin_end": 1951,
            "count": 0
           },
           {
            "bin_start": 1951,
            "bin_end": 1951.5,
            "count": 0
           },
           {
            "bin_start": 1951.5,
            "bin_end": 1952,
            "count": 0
           },
           {
            "bin_start": 1952,
            "bin_end": 1952.5,
            "count": 0
           },
           {
            "bin_start": 1952.5,
            "bin_end": 1953,
            "count": 0
           },
           {
            "bin_start": 1953,
            "bin_end": 1953.5,
            "count": 3
           },
           {
            "bin_start": 1953.5,
            "bin_end": 1954,
            "count": 1
           }
          ]
         }
        },
        {
         "name": "date_game",
         "dtype": "object",
         "stats": {
          "unique_count": 5,
          "nan_count": 0,
          "categories": [
           {
            "name": "2/26/1949",
            "count": 1
           },
           {
            "name": "1/10/1953",
            "count": 1
           },
           {
            "name": "3 others",
            "count": 3
           }
          ]
         }
        },
        {
         "name": "seasongame",
         "dtype": "int64",
         "stats": {
          "unique_count": 5,
          "nan_count": 0,
          "min": "32",
          "max": "66",
          "histogram": [
           {
            "bin_start": 32,
            "bin_end": 35.4,
            "count": 2
           },
           {
            "bin_start": 35.4,
            "bin_end": 38.8,
            "count": 0
           },
           {
            "bin_start": 38.8,
            "bin_end": 42.2,
            "count": 0
           },
           {
            "bin_start": 42.2,
            "bin_end": 45.6,
            "count": 0
           },
           {
            "bin_start": 45.6,
            "bin_end": 49,
            "count": 0
           },
           {
            "bin_start": 49,
            "bin_end": 52.4,
            "count": 0
           },
           {
            "bin_start": 52.4,
            "bin_end": 55.8,
            "count": 1
           },
           {
            "bin_start": 55.8,
            "bin_end": 59.2,
            "count": 0
           },
           {
            "bin_start": 59.2,
            "bin_end": 62.599999999999994,
            "count": 1
           },
           {
            "bin_start": 62.599999999999994,
            "bin_end": 66,
            "count": 1
           }
          ]
         }
        },
        {
         "name": "is_playoffs",
         "dtype": "int64",
         "stats": {
          "unique_count": 1,
          "nan_count": 0,
          "min": "0",
          "max": "0",
          "histogram": [
           {
            "bin_start": -0.5,
            "bin_end": -0.4,
            "count": 0
           },
           {
            "bin_start": -0.4,
            "bin_end": -0.3,
            "count": 0
           },
           {
            "bin_start": -0.3,
            "bin_end": -0.19999999999999996,
            "count": 0
           },
           {
            "bin_start": -0.19999999999999996,
            "bin_end": -0.09999999999999998,
            "count": 0
           },
           {
            "bin_start": -0.09999999999999998,
            "bin_end": 0,
            "count": 0
           },
           {
            "bin_start": 0,
            "bin_end": 0.10000000000000009,
            "count": 5
           },
           {
            "bin_start": 0.10000000000000009,
            "bin_end": 0.20000000000000007,
            "count": 0
           },
           {
            "bin_start": 0.20000000000000007,
            "bin_end": 0.30000000000000004,
            "count": 0
           },
           {
            "bin_start": 0.30000000000000004,
            "bin_end": 0.4,
            "count": 0
           },
           {
            "bin_start": 0.4,
            "bin_end": 0.5,
            "count": 0
           }
          ]
         }
        },
        {
         "name": "team_id",
         "dtype": "object",
         "stats": {
          "unique_count": 1,
          "nan_count": 0,
          "categories": [
           {
            "name": "BLB",
            "count": 5
           }
          ]
         }
        },
        {
         "name": "fran_id",
         "dtype": "object",
         "stats": {
          "unique_count": 1,
          "nan_count": 0,
          "categories": [
           {
            "name": "Baltimore",
            "count": 5
           }
          ]
         }
        },
        {
         "name": "pts",
         "dtype": "int64",
         "stats": {
          "unique_count": 5,
          "nan_count": 0,
          "min": "104",
          "max": "126",
          "histogram": [
           {
            "bin_start": 104,
            "bin_end": 106.2,
            "count": 1
           },
           {
            "bin_start": 106.2,
            "bin_end": 108.4,
            "count": 1
           },
           {
            "bin_start": 108.4,
            "bin_end": 110.6,
            "count": 1
           },
           {
            "bin_start": 110.6,
            "bin_end": 112.8,
            "count": 0
           },
           {
            "bin_start": 112.8,
            "bin_end": 115,
            "count": 1
           },
           {
            "bin_start": 115,
            "bin_end": 117.2,
            "count": 0
           },
           {
            "bin_start": 117.2,
            "bin_end": 119.4,
            "count": 0
           },
           {
            "bin_start": 119.4,
            "bin_end": 121.6,
            "count": 0
           },
           {
            "bin_start": 121.6,
            "bin_end": 123.8,
            "count": 0
           },
           {
            "bin_start": 123.8,
            "bin_end": 126,
            "count": 1
           }
          ]
         }
        },
        {
         "name": "elo_i",
         "dtype": "float64",
         "stats": {
          "unique_count": 5,
          "nan_count": 0,
          "min": "1284.5239",
          "max": "1421.9351",
          "histogram": [
           {
            "bin_start": 1284.5239,
            "bin_end": 1298.2650199999998,
            "count": 1
           },
           {
            "bin_start": 1298.2650199999998,
            "bin_end": 1312.00614,
            "count": 1
           },
           {
            "bin_start": 1312.00614,
            "bin_end": 1325.7472599999999,
            "count": 0
           },
           {
            "bin_start": 1325.7472599999999,
            "bin_end": 1339.48838,
            "count": 1
           },
           {
            "bin_start": 1339.48838,
            "bin_end": 1353.2295,
            "count": 1
           },
           {
            "bin_start": 1353.2295,
            "bin_end": 1366.9706199999998,
            "count": 0
           },
           {
            "bin_start": 1366.9706199999998,
            "bin_end": 1380.71174,
            "count": 0
           },
           {
            "bin_start": 1380.71174,
            "bin_end": 1394.4528599999999,
            "count": 0
           },
           {
            "bin_start": 1394.4528599999999,
            "bin_end": 1408.19398,
            "count": 0
           },
           {
            "bin_start": 1408.19398,
            "bin_end": 1421.9351,
            "count": 1
           }
          ]
         }
        },
        {
         "name": "elo_n",
         "dtype": "float64",
         "stats": {
          "unique_count": 5,
          "nan_count": 0,
          "min": "1282.2396",
          "max": "1419.428",
          "histogram": [
           {
            "bin_start": 1282.2396,
            "bin_end": 1295.95844,
            "count": 1
           },
           {
            "bin_start": 1295.95844,
            "bin_end": 1309.67728,
            "count": 1
           },
           {
            "bin_start": 1309.67728,
            "bin_end": 1323.39612,
            "count": 0
           },
           {
            "bin_start": 1323.39612,
            "bin_end": 1337.11496,
            "count": 0
           },
           {
            "bin_start": 1337.11496,
            "bin_end": 1350.8338,
            "count": 1
           },
           {
            "bin_start": 1350.8338,
            "bin_end": 1364.55264,
            "count": 1
           },
           {
            "bin_start": 1364.55264,
            "bin_end": 1378.27148,
            "count": 0
           },
           {
            "bin_start": 1378.27148,
            "bin_end": 1391.99032,
            "count": 0
           },
           {
            "bin_start": 1391.99032,
            "bin_end": 1405.70916,
            "count": 0
           },
           {
            "bin_start": 1405.70916,
            "bin_end": 1419.428,
            "count": 1
           }
          ]
         }
        },
        {
         "name": "win_equiv",
         "dtype": "float64",
         "stats": {
          "unique_count": 5,
          "nan_count": 0,
          "min": "19.579676",
          "max": "38.557545",
          "histogram": [
           {
            "bin_start": 19.579676,
            "bin_end": 21.4774629,
            "count": 2
           },
           {
            "bin_start": 21.4774629,
            "bin_end": 23.3752498,
            "count": 0
           },
           {
            "bin_start": 23.3752498,
            "bin_end": 25.2730367,
            "count": 1
           },
           {
            "bin_start": 25.2730367,
            "bin_end": 27.1708236,
            "count": 1
           },
           {
            "bin_start": 27.1708236,
            "bin_end": 29.0686105,
            "count": 0
           },
           {
            "bin_start": 29.0686105,
            "bin_end": 30.966397399999998,
            "count": 0
           },
           {
            "bin_start": 30.966397399999998,
            "bin_end": 32.8641843,
            "count": 0
           },
           {
            "bin_start": 32.8641843,
            "bin_end": 34.7619712,
            "count": 0
           },
           {
            "bin_start": 34.7619712,
            "bin_end": 36.6597581,
            "count": 0
           },
           {
            "bin_start": 36.6597581,
            "bin_end": 38.557545,
            "count": 1
           }
          ]
         }
        },
        {
         "name": "opp_id",
         "dtype": "object",
         "stats": {
          "unique_count": 3,
          "nan_count": 0,
          "categories": [
           {
            "name": "MNL",
            "count": 2
           },
           {
            "name": "BOS",
            "count": 2
           },
           {
            "name": "NYK",
            "count": 1
           }
          ]
         }
        },
        {
         "name": "opp_fran",
         "dtype": "object",
         "stats": {
          "unique_count": 3,
          "nan_count": 0,
          "categories": [
           {
            "name": "Lakers",
            "count": 2
           },
           {
            "name": "Celtics",
            "count": 2
           },
           {
            "name": "Knicks",
            "count": 1
           }
          ]
         }
        },
        {
         "name": "opp_pts",
         "dtype": "int64",
         "stats": {
          "unique_count": 5,
          "nan_count": 0,
          "min": "105",
          "max": "115",
          "histogram": [
           {
            "bin_start": 105,
            "bin_end": 106,
            "count": 1
           },
           {
            "bin_start": 106,
            "bin_end": 107,
            "count": 0
           },
           {
            "bin_start": 107,
            "bin_end": 108,
            "count": 0
           },
           {
            "bin_start": 108,
            "bin_end": 109,
            "count": 0
           },
           {
            "bin_start": 109,
            "bin_end": 110,
            "count": 0
           },
           {
            "bin_start": 110,
            "bin_end": 111,
            "count": 0
           },
           {
            "bin_start": 111,
            "bin_end": 112,
            "count": 1
           },
           {
            "bin_start": 112,
            "bin_end": 113,
            "count": 1
           },
           {
            "bin_start": 113,
            "bin_end": 114,
            "count": 1
           },
           {
            "bin_start": 114,
            "bin_end": 115,
            "count": 1
           }
          ]
         }
        },
        {
         "name": "opp_elo_i",
         "dtype": "float64",
         "stats": {
          "unique_count": 5,
          "nan_count": 0,
          "min": "1591.1434",
          "max": "1665.4396",
          "histogram": [
           {
            "bin_start": 1591.1434,
            "bin_end": 1598.5730199999998,
            "count": 2
           },
           {
            "bin_start": 1598.5730199999998,
            "bin_end": 1606.00264,
            "count": 0
           },
           {
            "bin_start": 1606.00264,
            "bin_end": 1613.43226,
            "count": 0
           },
           {
            "bin_start": 1613.43226,
            "bin_end": 1620.86188,
            "count": 0
           },
           {
            "bin_start": 1620.86188,
            "bin_end": 1628.2914999999998,
            "count": 0
           },
           {
            "bin_start": 1628.2914999999998,
            "bin_end": 1635.72112,
            "count": 0
           },
           {
            "bin_start": 1635.72112,
            "bin_end": 1643.15074,
            "count": 1
           },
           {
            "bin_start": 1643.15074,
            "bin_end": 1650.58036,
            "count": 1
           },
           {
            "bin_start": 1650.58036,
            "bin_end": 1658.0099799999998,
            "count": 0
           },
           {
            "bin_start": 1658.0099799999998,
            "bin_end": 1665.4396,
            "count": 1
           }
          ]
         }
        },
        {
         "name": "opp_elo_n",
         "dtype": "float64",
         "stats": {
          "unique_count": 5,
          "nan_count": 0,
          "min": "1563.1652",
          "max": "1668.9125",
          "histogram": [
           {
            "bin_start": 1563.1652,
            "bin_end": 1573.73993,
            "count": 1
           },
           {
            "bin_start": 1573.73993,
            "bin_end": 1584.31466,
            "count": 0
           },
           {
            "bin_start": 1584.31466,
            "bin_end": 1594.8893899999998,
            "count": 1
           },
           {
            "bin_start": 1594.8893899999998,
            "bin_end": 1605.4641199999999,
            "count": 0
           },
           {
            "bin_start": 1605.4641199999999,
            "bin_end": 1616.03885,
            "count": 0
           },
           {
            "bin_start": 1616.03885,
            "bin_end": 1626.61358,
            "count": 0
           },
           {
            "bin_start": 1626.61358,
            "bin_end": 1637.18831,
            "count": 0
           },
           {
            "bin_start": 1637.18831,
            "bin_end": 1647.7630399999998,
            "count": 1
           },
           {
            "bin_start": 1647.7630399999998,
            "bin_end": 1658.3377699999999,
            "count": 1
           },
           {
            "bin_start": 1658.3377699999999,
            "bin_end": 1668.9125,
            "count": 1
           }
          ]
         }
        },
        {
         "name": "game_location",
         "dtype": "object",
         "stats": {
          "unique_count": 1,
          "nan_count": 0,
          "categories": [
           {
            "name": "H",
            "count": 5
           }
          ]
         }
        },
        {
         "name": "game_result",
         "dtype": "object",
         "stats": {
          "unique_count": 2,
          "nan_count": 0,
          "categories": [
           {
            "name": "L",
            "count": 4
           },
           {
            "name": "W",
            "count": 1
           }
          ]
         }
        },
        {
         "name": "forecast",
         "dtype": "float64",
         "stats": {
          "unique_count": 5,
          "nan_count": 0,
          "min": "0.17897324",
          "max": "0.33893621",
          "histogram": [
           {
            "bin_start": 0.17897324,
            "bin_end": 0.194969537,
            "count": 1
           },
           {
            "bin_start": 0.194969537,
            "bin_end": 0.21096583400000002,
            "count": 0
           },
           {
            "bin_start": 0.21096583400000002,
            "bin_end": 0.226962131,
            "count": 1
           },
           {
            "bin_start": 0.226962131,
            "bin_end": 0.242958428,
            "count": 0
           },
           {
            "bin_start": 0.242958428,
            "bin_end": 0.258954725,
            "count": 1
           },
           {
            "bin_start": 0.258954725,
            "bin_end": 0.274951022,
            "count": 0
           },
           {
            "bin_start": 0.274951022,
            "bin_end": 0.29094731900000004,
            "count": 1
           },
           {
            "bin_start": 0.29094731900000004,
            "bin_end": 0.306943616,
            "count": 0
           },
           {
            "bin_start": 0.306943616,
            "bin_end": 0.322939913,
            "count": 0
           },
           {
            "bin_start": 0.322939913,
            "bin_end": 0.33893621,
            "count": 1
           }
          ]
         }
        },
        {
         "name": "notes",
         "dtype": "object",
         "stats": {
          "unique_count": 2,
          "nan_count": 3,
          "categories": [
           {
            "name": "at Boston MA",
            "count": 1
           },
           {
            "name": "at Worcester MA",
            "count": 1
           },
           {
            "name": "Missing",
            "count": 3
           }
          ]
         }
        },
        {
         "name": "date_played",
         "dtype": "datetime64[ns]",
         "stats": {
          "unique_count": 5,
          "nan_count": 0,
          "min": "1949-02-26 00:00:00",
          "max": "1954-02-22 00:00:00",
          "histogram": [
           {
            "bin_start": -657849600000000000,
            "bin_end": -642107520000000000,
            "count": 1
           },
           {
            "bin_start": -642107520000000000,
            "bin_end": -626365440000000000,
            "count": 0
           },
           {
            "bin_start": -626365440000000000,
            "bin_end": -610623360000000000,
            "count": 0
           },
           {
            "bin_start": -610623360000000000,
            "bin_end": -594881280000000000,
            "count": 0
           },
           {
            "bin_start": -594881280000000000,
            "bin_end": -579139200000000000,
            "count": 0
           },
           {
            "bin_start": -579139200000000000,
            "bin_end": -563397120000000000,
            "count": 0
           },
           {
            "bin_start": -563397120000000000,
            "bin_end": -547655040000000000,
            "count": 0
           },
           {
            "bin_start": -547655040000000000,
            "bin_end": -531912960000000000,
            "count": 2
           },
           {
            "bin_start": -531912960000000000,
            "bin_end": -516170880000000000,
            "count": 1
           },
           {
            "bin_start": -516170880000000000,
            "bin_end": -500428800000000000,
            "count": 1
           }
          ]
         }
        },
        {
         "name": "_deepnote_index_column",
         "dtype": "int64"
        }
       ],
       "rows": [
        {
         "gameorder": 864,
         "game_id": "194902260BLB",
         "lg_id": "NBA",
         "_iscopy": 0,
         "year_id": 1949,
         "date_game": "2/26/1949",
         "seasongame": 53,
         "is_playoffs": 0,
         "team_id": "BLB",
         "fran_id": "Baltimore",
         "pts": 114,
         "elo_i": 1421.9351,
         "elo_n": 1419.428,
         "win_equiv": 38.557545,
         "opp_id": "MNL",
         "opp_fran": "Lakers",
         "opp_pts": 115,
         "opp_elo_i": 1637.9852,
         "opp_elo_n": 1640.4923,
         "game_location": "H",
         "game_result": "L",
         "forecast": 0.33893621,
         "notes": "nan",
         "date_played": "1949-02-26T00:00:00.000000",
         "_deepnote_index_column": 1726
        },
        {
         "gameorder": 2446,
         "game_id": "195301100BLB",
         "lg_id": "NBA",
         "_iscopy": 0,
         "year_id": 1953,
         "date_game": "1/10/1953",
         "seasongame": 32,
         "is_playoffs": 0,
         "team_id": "BLB",
         "fran_id": "Baltimore",
         "pts": 126,
         "elo_i": 1328.6687,
         "elo_n": 1356.647,
         "win_equiv": 25.797792,
         "opp_id": "BOS",
         "opp_fran": "Celtics",
         "opp_pts": 105,
         "opp_elo_i": 1591.1434,
         "opp_elo_n": 1563.1652,
         "game_location": "H",
         "game_result": "W",
         "forecast": 0.28185481,
         "notes": "nan",
         "date_played": "1953-01-10T00:00:00.000000",
         "_deepnote_index_column": 4890
        },
        {
         "gameorder": 2455,
         "game_id": "195301140BLB",
         "lg_id": "NBA",
         "_iscopy": 0,
         "year_id": 1953,
         "date_game": "1/14/1953",
         "seasongame": 34,
         "is_playoffs": 0,
         "team_id": "BLB",
         "fran_id": "Baltimore",
         "pts": 104,
         "elo_i": 1349.8323,
         "elo_n": 1346.3594,
         "win_equiv": 24.876236,
         "opp_id": "MNL",
         "opp_fran": "Lakers",
         "opp_pts": 112,
         "opp_elo_i": 1665.4396,
         "opp_elo_n": 1668.9125,
         "game_location": "H",
         "game_result": "L",
         "forecast": 0.22423841,
         "notes": "nan",
         "date_played": "1953-01-14T00:00:00.000000",
         "_deepnote_index_column": 4909
        },
        {
         "gameorder": 2605,
         "game_id": "195303110BLB",
         "lg_id": "NBA",
         "_iscopy": 0,
         "year_id": 1953,
         "date_game": "3/11/1953",
         "seasongame": 66,
         "is_playoffs": 0,
         "team_id": "BLB",
         "fran_id": "Baltimore",
         "pts": 107,
         "elo_i": 1284.5239,
         "elo_n": 1282.2396,
         "win_equiv": 19.579676,
         "opp_id": "NYK",
         "opp_fran": "Knicks",
         "opp_pts": 113,
         "opp_elo_i": 1649.1516,
         "opp_elo_n": 1651.4359,
         "game_location": "H",
         "game_result": "L",
         "forecast": 0.17897324,
         "notes": "at Boston MA",
         "date_played": "1953-03-11T00:00:00.000000",
         "_deepnote_index_column": 5208
        },
        {
         "gameorder": 2913,
         "game_id": "195402220BLB",
         "lg_id": "NBA",
         "_iscopy": 0,
         "year_id": 1954,
         "date_game": "2/22/1954",
         "seasongame": 60,
         "is_playoffs": 0,
         "team_id": "BLB",
         "fran_id": "Baltimore",
         "pts": 110,
         "elo_i": 1303.7493,
         "elo_n": 1301.9685,
         "win_equiv": 20.736986,
         "opp_id": "BOS",
         "opp_fran": "Celtics",
         "opp_pts": 111,
         "opp_elo_i": 1591.4943,
         "opp_elo_n": 1593.2749,
         "game_location": "H",
         "game_result": "L",
         "forecast": 0.25336465,
         "notes": "at Worcester MA",
         "date_played": "1954-02-22T00:00:00.000000",
         "_deepnote_index_column": 5825
        }
       ]
      },
      "text/plain": "      gameorder       game_id lg_id  _iscopy  year_id  date_game  seasongame  \\\n1726        864  194902260BLB   NBA        0     1949  2/26/1949          53   \n4890       2446  195301100BLB   NBA        0     1953  1/10/1953          32   \n4909       2455  195301140BLB   NBA        0     1953  1/14/1953          34   \n5208       2605  195303110BLB   NBA        0     1953  3/11/1953          66   \n5825       2913  195402220BLB   NBA        0     1954  2/22/1954          60   \n\n      is_playoffs team_id    fran_id  ...  opp_id  opp_fran  opp_pts  \\\n1726            0     BLB  Baltimore  ...     MNL    Lakers      115   \n4890            0     BLB  Baltimore  ...     BOS   Celtics      105   \n4909            0     BLB  Baltimore  ...     MNL    Lakers      112   \n5208            0     BLB  Baltimore  ...     NYK    Knicks      113   \n5825            0     BLB  Baltimore  ...     BOS   Celtics      111   \n\n      opp_elo_i  opp_elo_n game_location  game_result  forecast  \\\n1726  1637.9852  1640.4923             H            L  0.338936   \n4890  1591.1434  1563.1652             H            W  0.281855   \n4909  1665.4396  1668.9125             H            L  0.224238   \n5208  1649.1516  1651.4359             H            L  0.178973   \n5825  1591.4943  1593.2749             H            L  0.253365   \n\n                notes date_played  \n1726              NaN  1949-02-26  \n4890              NaN  1953-01-10  \n4909              NaN  1953-01-14  \n5208     at Boston MA  1953-03-11  \n5825  at Worcester MA  1954-02-22  \n\n[5 rows x 24 columns]",
      "text/html": "<div>\n<style scoped>\n    .dataframe tbody tr th:only-of-type {\n        vertical-align: middle;\n    }\n\n    .dataframe tbody tr th {\n        vertical-align: top;\n    }\n\n    .dataframe thead th {\n        text-align: right;\n    }\n</style>\n<table border=\"1\" class=\"dataframe\">\n  <thead>\n    <tr style=\"text-align: right;\">\n      <th></th>\n      <th>gameorder</th>\n      <th>game_id</th>\n      <th>lg_id</th>\n      <th>_iscopy</th>\n      <th>year_id</th>\n      <th>date_game</th>\n      <th>seasongame</th>\n      <th>is_playoffs</th>\n      <th>team_id</th>\n      <th>fran_id</th>\n      <th>...</th>\n      <th>opp_id</th>\n      <th>opp_fran</th>\n      <th>opp_pts</th>\n      <th>opp_elo_i</th>\n      <th>opp_elo_n</th>\n      <th>game_location</th>\n      <th>game_result</th>\n      <th>forecast</th>\n      <th>notes</th>\n      <th>date_played</th>\n    </tr>\n  </thead>\n  <tbody>\n    <tr>\n      <th>1726</th>\n      <td>864</td>\n      <td>194902260BLB</td>\n      <td>NBA</td>\n      <td>0</td>\n      <td>1949</td>\n      <td>2/26/1949</td>\n      <td>53</td>\n      <td>0</td>\n      <td>BLB</td>\n      <td>Baltimore</td>\n      <td>...</td>\n      <td>MNL</td>\n      <td>Lakers</td>\n      <td>115</td>\n      <td>1637.9852</td>\n      <td>1640.4923</td>\n      <td>H</td>\n      <td>L</td>\n      <td>0.338936</td>\n      <td>NaN</td>\n      <td>1949-02-26</td>\n    </tr>\n    <tr>\n      <th>4890</th>\n      <td>2446</td>\n      <td>195301100BLB</td>\n      <td>NBA</td>\n      <td>0</td>\n      <td>1953</td>\n      <td>1/10/1953</td>\n      <td>32</td>\n      <td>0</td>\n      <td>BLB</td>\n      <td>Baltimore</td>\n      <td>...</td>\n      <td>BOS</td>\n      <td>Celtics</td>\n      <td>105</td>\n      <td>1591.1434</td>\n      <td>1563.1652</td>\n      <td>H</td>\n      <td>W</td>\n      <td>0.281855</td>\n      <td>NaN</td>\n      <td>1953-01-10</td>\n    </tr>\n    <tr>\n      <th>4909</th>\n      <td>2455</td>\n      <td>195301140BLB</td>\n      <td>NBA</td>\n      <td>0</td>\n      <td>1953</td>\n      <td>1/14/1953</td>\n      <td>34</td>\n      <td>0</td>\n      <td>BLB</td>\n      <td>Baltimore</td>\n      <td>...</td>\n      <td>MNL</td>\n      <td>Lakers</td>\n      <td>112</td>\n      <td>1665.4396</td>\n      <td>1668.9125</td>\n      <td>H</td>\n      <td>L</td>\n      <td>0.224238</td>\n      <td>NaN</td>\n      <td>1953-01-14</td>\n    </tr>\n    <tr>\n      <th>5208</th>\n      <td>2605</td>\n      <td>195303110BLB</td>\n      <td>NBA</td>\n      <td>0</td>\n      <td>1953</td>\n      <td>3/11/1953</td>\n      <td>66</td>\n      <td>0</td>\n      <td>BLB</td>\n      <td>Baltimore</td>\n      <td>...</td>\n      <td>NYK</td>\n      <td>Knicks</td>\n      <td>113</td>\n      <td>1649.1516</td>\n      <td>1651.4359</td>\n      <td>H</td>\n      <td>L</td>\n      <td>0.178973</td>\n      <td>at Boston MA</td>\n      <td>1953-03-11</td>\n    </tr>\n    <tr>\n      <th>5825</th>\n      <td>2913</td>\n      <td>195402220BLB</td>\n      <td>NBA</td>\n      <td>0</td>\n      <td>1954</td>\n      <td>2/22/1954</td>\n      <td>60</td>\n      <td>0</td>\n      <td>BLB</td>\n      <td>Baltimore</td>\n      <td>...</td>\n      <td>BOS</td>\n      <td>Celtics</td>\n      <td>111</td>\n      <td>1591.4943</td>\n      <td>1593.2749</td>\n      <td>H</td>\n      <td>L</td>\n      <td>0.253365</td>\n      <td>at Worcester MA</td>\n      <td>1954-02-22</td>\n    </tr>\n  </tbody>\n</table>\n<p>5 rows × 24 columns</p>\n</div>"
     },
     "metadata": {}
    }
   ],
   "execution_count": 35
  },
  {
   "cell_type": "code",
   "source": "nba[\n    (nba['team_id'].str.startswith(\"LA\")) &\n    (nba['year_id'] == 1992) &\n    (nba['game_location'] == 'A')\n\n]",
   "metadata": {
    "cell_id": "200fab7e498c496c8e9bd36d86b164f0",
    "tags": [],
    "deepnote_to_be_reexecuted": false,
    "source_hash": "f5293534",
    "execution_start": 1656252419311,
    "execution_millis": 322,
    "deepnote_cell_type": "code",
    "deepnote_cell_height": 705
   },
   "outputs": [
    {
     "output_type": "execute_result",
     "execution_count": 36,
     "data": {
      "application/vnd.deepnote.dataframe.v3+json": {
       "column_count": 24,
       "row_count": 87,
       "columns": [
        {
         "name": "gameorder",
         "dtype": "int64",
         "stats": {
          "unique_count": 87,
          "nan_count": 0,
          "min": "33320",
          "max": "34455",
          "histogram": [
           {
            "bin_start": 33320,
            "bin_end": 33433.5,
            "count": 9
           },
           {
            "bin_start": 33433.5,
            "bin_end": 33547,
            "count": 8
           },
           {
            "bin_start": 33547,
            "bin_end": 33660.5,
            "count": 9
           },
           {
            "bin_start": 33660.5,
            "bin_end": 33774,
            "count": 9
           },
           {
            "bin_start": 33774,
            "bin_end": 33887.5,
            "count": 7
           },
           {
            "bin_start": 33887.5,
            "bin_end": 34001,
            "count": 8
           },
           {
            "bin_start": 34001,
            "bin_end": 34114.5,
            "count": 7
           },
           {
            "bin_start": 34114.5,
            "bin_end": 34228,
            "count": 11
           },
           {
            "bin_start": 34228,
            "bin_end": 34341.5,
            "count": 9
           },
           {
            "bin_start": 34341.5,
            "bin_end": 34455,
            "count": 10
           }
          ]
         }
        },
        {
         "name": "game_id",
         "dtype": "object",
         "stats": {
          "unique_count": 87,
          "nan_count": 0,
          "categories": [
           {
            "name": "199111010HOU",
            "count": 1
           },
           {
            "name": "199111010SAC",
            "count": 1
           },
           {
            "name": "85 others",
            "count": 85
           }
          ]
         }
        },
        {
         "name": "lg_id",
         "dtype": "object",
         "stats": {
          "unique_count": 1,
          "nan_count": 0,
          "categories": [
           {
            "name": "NBA",
            "count": 87
           }
          ]
         }
        },
        {
         "name": "_iscopy",
         "dtype": "int64",
         "stats": {
          "unique_count": 1,
          "nan_count": 0,
          "min": "1",
          "max": "1",
          "histogram": [
           {
            "bin_start": 0.5,
            "bin_end": 0.6,
            "count": 0
           },
           {
            "bin_start": 0.6,
            "bin_end": 0.7,
            "count": 0
           },
           {
            "bin_start": 0.7,
            "bin_end": 0.8,
            "count": 0
           },
           {
            "bin_start": 0.8,
            "bin_end": 0.9,
            "count": 0
           },
           {
            "bin_start": 0.9,
            "bin_end": 1,
            "count": 0
           },
           {
            "bin_start": 1,
            "bin_end": 1.1,
            "count": 87
           },
           {
            "bin_start": 1.1,
            "bin_end": 1.2000000000000002,
            "count": 0
           },
           {
            "bin_start": 1.2000000000000002,
            "bin_end": 1.3,
            "count": 0
           },
           {
            "bin_start": 1.3,
            "bin_end": 1.4,
            "count": 0
           },
           {
            "bin_start": 1.4,
            "bin_end": 1.5,
            "count": 0
           }
          ]
         }
        },
        {
         "name": "year_id",
         "dtype": "int64",
         "stats": {
          "unique_count": 1,
          "nan_count": 0,
          "min": "1992",
          "max": "1992",
          "histogram": [
           {
            "bin_start": 1991.5,
            "bin_end": 1991.6,
            "count": 0
           },
           {
            "bin_start": 1991.6,
            "bin_end": 1991.7,
            "count": 0
           },
           {
            "bin_start": 1991.7,
            "bin_end": 1991.8,
            "count": 0
           },
           {
            "bin_start": 1991.8,
            "bin_end": 1991.9,
            "count": 0
           },
           {
            "bin_start": 1991.9,
            "bin_end": 1992,
            "count": 0
           },
           {
            "bin_start": 1992,
            "bin_end": 1992.1,
            "count": 87
           },
           {
            "bin_start": 1992.1,
            "bin_end": 1992.2,
            "count": 0
           },
           {
            "bin_start": 1992.2,
            "bin_end": 1992.3,
            "count": 0
           },
           {
            "bin_start": 1992.3,
            "bin_end": 1992.4,
            "count": 0
           },
           {
            "bin_start": 1992.4,
            "bin_end": 1992.5,
            "count": 0
           }
          ]
         }
        },
        {
         "name": "date_game",
         "dtype": "object",
         "stats": {
          "unique_count": 75,
          "nan_count": 0,
          "categories": [
           {
            "name": "11/1/1991",
            "count": 2
           },
           {
            "name": "11/14/1991",
            "count": 2
           },
           {
            "name": "73 others",
            "count": 83
           }
          ]
         }
        },
        {
         "name": "seasongame",
         "dtype": "int64",
         "stats": {
          "unique_count": 69,
          "nan_count": 0,
          "min": "1",
          "max": "87",
          "histogram": [
           {
            "bin_start": 1,
            "bin_end": 9.6,
            "count": 9
           },
           {
            "bin_start": 9.6,
            "bin_end": 18.2,
            "count": 9
           },
           {
            "bin_start": 18.2,
            "bin_end": 26.799999999999997,
            "count": 7
           },
           {
            "bin_start": 26.799999999999997,
            "bin_end": 35.4,
            "count": 9
           },
           {
            "bin_start": 35.4,
            "bin_end": 44,
            "count": 9
           },
           {
            "bin_start": 44,
            "bin_end": 52.599999999999994,
            "count": 8
           },
           {
            "bin_start": 52.599999999999994,
            "bin_end": 61.199999999999996,
            "count": 8
           },
           {
            "bin_start": 61.199999999999996,
            "bin_end": 69.8,
            "count": 10
           },
           {
            "bin_start": 69.8,
            "bin_end": 78.39999999999999,
            "count": 8
           },
           {
            "bin_start": 78.39999999999999,
            "bin_end": 87,
            "count": 10
           }
          ]
         }
        },
        {
         "name": "is_playoffs",
         "dtype": "int64",
         "stats": {
          "unique_count": 2,
          "nan_count": 0,
          "min": "0",
          "max": "1",
          "histogram": [
           {
            "bin_start": 0,
            "bin_end": 0.1,
            "count": 82
           },
           {
            "bin_start": 0.1,
            "bin_end": 0.2,
            "count": 0
           },
           {
            "bin_start": 0.2,
            "bin_end": 0.30000000000000004,
            "count": 0
           },
           {
            "bin_start": 0.30000000000000004,
            "bin_end": 0.4,
            "count": 0
           },
           {
            "bin_start": 0.4,
            "bin_end": 0.5,
            "count": 0
           },
           {
            "bin_start": 0.5,
            "bin_end": 0.6000000000000001,
            "count": 0
           },
           {
            "bin_start": 0.6000000000000001,
            "bin_end": 0.7000000000000001,
            "count": 0
           },
           {
            "bin_start": 0.7000000000000001,
            "bin_end": 0.8,
            "count": 0
           },
           {
            "bin_start": 0.8,
            "bin_end": 0.9,
            "count": 0
           },
           {
            "bin_start": 0.9,
            "bin_end": 1,
            "count": 5
           }
          ]
         }
        },
        {
         "name": "team_id",
         "dtype": "object",
         "stats": {
          "unique_count": 2,
          "nan_count": 0,
          "categories": [
           {
            "name": "LAC",
            "count": 44
           },
           {
            "name": "LAL",
            "count": 43
           }
          ]
         }
        },
        {
         "name": "fran_id",
         "dtype": "object",
         "stats": {
          "unique_count": 2,
          "nan_count": 0,
          "categories": [
           {
            "name": "Clippers",
            "count": 44
           },
           {
            "name": "Lakers",
            "count": 43
           }
          ]
         }
        },
        {
         "name": "pts",
         "dtype": "int64",
         "stats": {
          "unique_count": 34,
          "nan_count": 0,
          "min": "79",
          "max": "127",
          "histogram": [
           {
            "bin_start": 79,
            "bin_end": 83.8,
            "count": 1
           },
           {
            "bin_start": 83.8,
            "bin_end": 88.6,
            "count": 9
           },
           {
            "bin_start": 88.6,
            "bin_end": 93.4,
            "count": 16
           },
           {
            "bin_start": 93.4,
            "bin_end": 98.2,
            "count": 15
           },
           {
            "bin_start": 98.2,
            "bin_end": 103,
            "count": 10
           },
           {
            "bin_start": 103,
            "bin_end": 107.8,
            "count": 14
           },
           {
            "bin_start": 107.8,
            "bin_end": 112.6,
            "count": 9
           },
           {
            "bin_start": 112.6,
            "bin_end": 117.4,
            "count": 10
           },
           {
            "bin_start": 117.4,
            "bin_end": 122.19999999999999,
            "count": 2
           },
           {
            "bin_start": 122.19999999999999,
            "bin_end": 127,
            "count": 1
           }
          ]
         }
        },
        {
         "name": "elo_i",
         "dtype": "float64",
         "stats": {
          "unique_count": 87,
          "nan_count": 0,
          "min": "1429.3666",
          "max": "1632.7195",
          "histogram": [
           {
            "bin_start": 1429.3666,
            "bin_end": 1449.70189,
            "count": 11
           },
           {
            "bin_start": 1449.70189,
            "bin_end": 1470.03718,
            "count": 13
           },
           {
            "bin_start": 1470.03718,
            "bin_end": 1490.37247,
            "count": 21
           },
           {
            "bin_start": 1490.37247,
            "bin_end": 1510.70776,
            "count": 5
           },
           {
            "bin_start": 1510.70776,
            "bin_end": 1531.04305,
            "count": 7
           },
           {
            "bin_start": 1531.04305,
            "bin_end": 1551.37834,
            "count": 8
           },
           {
            "bin_start": 1551.37834,
            "bin_end": 1571.71363,
            "count": 7
           },
           {
            "bin_start": 1571.71363,
            "bin_end": 1592.04892,
            "count": 5
           },
           {
            "bin_start": 1592.04892,
            "bin_end": 1612.38421,
            "count": 3
           },
           {
            "bin_start": 1612.38421,
            "bin_end": 1632.7195,
            "count": 7
           }
          ]
         }
        },
        {
         "name": "elo_n",
         "dtype": "float64",
         "stats": {
          "unique_count": 87,
          "nan_count": 0,
          "min": "1423.9867",
          "max": "1632.7195",
          "histogram": [
           {
            "bin_start": 1423.9867,
            "bin_end": 1444.85998,
            "count": 8
           },
           {
            "bin_start": 1444.85998,
            "bin_end": 1465.73326,
            "count": 13
           },
           {
            "bin_start": 1465.73326,
            "bin_end": 1486.60654,
            "count": 19
           },
           {
            "bin_start": 1486.60654,
            "bin_end": 1507.47982,
            "count": 8
           },
           {
            "bin_start": 1507.47982,
            "bin_end": 1528.3530999999998,
            "count": 8
           },
           {
            "bin_start": 1528.3530999999998,
            "bin_end": 1549.2263799999998,
            "count": 8
           },
           {
            "bin_start": 1549.2263799999998,
            "bin_end": 1570.0996599999999,
            "count": 8
           },
           {
            "bin_start": 1570.0996599999999,
            "bin_end": 1590.9729399999999,
            "count": 6
           },
           {
            "bin_start": 1590.9729399999999,
            "bin_end": 1611.84622,
            "count": 3
           },
           {
            "bin_start": 1611.84622,
            "bin_end": 1632.7195,
            "count": 6
           }
          ]
         }
        },
        {
         "name": "win_equiv",
         "dtype": "float64",
         "stats": {
          "unique_count": 87,
          "nan_count": 0,
          "min": "34.170753",
          "max": "55.366203",
          "histogram": [
           {
            "bin_start": 34.170753,
            "bin_end": 36.290298,
            "count": 8
           },
           {
            "bin_start": 36.290298,
            "bin_end": 38.409842999999995,
            "count": 12
           },
           {
            "bin_start": 38.409842999999995,
            "bin_end": 40.529388,
            "count": 20
           },
           {
            "bin_start": 40.529388,
            "bin_end": 42.648933,
            "count": 8
           },
           {
            "bin_start": 42.648933,
            "bin_end": 44.768478,
            "count": 7
           },
           {
            "bin_start": 44.768478,
            "bin_end": 46.888023,
            "count": 9
           },
           {
            "bin_start": 46.888023,
            "bin_end": 49.007568,
            "count": 7
           },
           {
            "bin_start": 49.007568,
            "bin_end": 51.127112999999994,
            "count": 6
           },
           {
            "bin_start": 51.127112999999994,
            "bin_end": 53.246658,
            "count": 4
           },
           {
            "bin_start": 53.246658,
            "bin_end": 55.366203,
            "count": 6
           }
          ]
         }
        },
        {
         "name": "opp_id",
         "dtype": "object",
         "stats": {
          "unique_count": 27,
          "nan_count": 0,
          "categories": [
           {
            "name": "UTA",
            "count": 7
           },
           {
            "name": "POR",
            "count": 7
           },
           {
            "name": "25 others",
            "count": 73
           }
          ]
         }
        },
        {
         "name": "opp_fran",
         "dtype": "object",
         "stats": {
          "unique_count": 27,
          "nan_count": 0,
          "categories": [
           {
            "name": "Jazz",
            "count": 7
           },
           {
            "name": "Trailblazers",
            "count": 7
           },
           {
            "name": "25 others",
            "count": 73
           }
          ]
         }
        },
        {
         "name": "opp_pts",
         "dtype": "int64",
         "stats": {
          "unique_count": 39,
          "nan_count": 0,
          "min": "75",
          "max": "132",
          "histogram": [
           {
            "bin_start": 75,
            "bin_end": 80.7,
            "count": 2
           },
           {
            "bin_start": 80.7,
            "bin_end": 86.4,
            "count": 2
           },
           {
            "bin_start": 86.4,
            "bin_end": 92.1,
            "count": 10
           },
           {
            "bin_start": 92.1,
            "bin_end": 97.8,
            "count": 8
           },
           {
            "bin_start": 97.8,
            "bin_end": 103.5,
            "count": 19
           },
           {
            "bin_start": 103.5,
            "bin_end": 109.2,
            "count": 17
           },
           {
            "bin_start": 109.2,
            "bin_end": 114.9,
            "count": 11
           },
           {
            "bin_start": 114.9,
            "bin_end": 120.6,
            "count": 10
           },
           {
            "bin_start": 120.6,
            "bin_end": 126.30000000000001,
            "count": 5
           },
           {
            "bin_start": 126.30000000000001,
            "bin_end": 132,
            "count": 3
           }
          ]
         }
        },
        {
         "name": "opp_elo_i",
         "dtype": "float64",
         "stats": {
          "unique_count": 87,
          "nan_count": 0,
          "min": "1260.024",
          "max": "1775.9167",
          "histogram": [
           {
            "bin_start": 1260.024,
            "bin_end": 1311.6132699999998,
            "count": 4
           },
           {
            "bin_start": 1311.6132699999998,
            "bin_end": 1363.20254,
            "count": 11
           },
           {
            "bin_start": 1363.20254,
            "bin_end": 1414.79181,
            "count": 11
           },
           {
            "bin_start": 1414.79181,
            "bin_end": 1466.3810799999999,
            "count": 5
           },
           {
            "bin_start": 1466.3810799999999,
            "bin_end": 1517.97035,
            "count": 17
           },
           {
            "bin_start": 1517.97035,
            "bin_end": 1569.55962,
            "count": 11
           },
           {
            "bin_start": 1569.55962,
            "bin_end": 1621.14889,
            "count": 14
           },
           {
            "bin_start": 1621.14889,
            "bin_end": 1672.7381599999999,
            "count": 10
           },
           {
            "bin_start": 1672.7381599999999,
            "bin_end": 1724.32743,
            "count": 2
           },
           {
            "bin_start": 1724.32743,
            "bin_end": 1775.9167,
            "count": 2
           }
          ]
         }
        },
        {
         "name": "opp_elo_n",
         "dtype": "float64",
         "stats": {
          "unique_count": 87,
          "nan_count": 0,
          "min": "1268.2065",
          "max": "1778.3228",
          "histogram": [
           {
            "bin_start": 1268.2065,
            "bin_end": 1319.21813,
            "count": 5
           },
           {
            "bin_start": 1319.21813,
            "bin_end": 1370.22976,
            "count": 13
           },
           {
            "bin_start": 1370.22976,
            "bin_end": 1421.24139,
            "count": 10
           },
           {
            "bin_start": 1421.24139,
            "bin_end": 1472.2530199999999,
            "count": 6
           },
           {
            "bin_start": 1472.2530199999999,
            "bin_end": 1523.26465,
            "count": 11
           },
           {
            "bin_start": 1523.26465,
            "bin_end": 1574.27628,
            "count": 14
           },
           {
            "bin_start": 1574.27628,
            "bin_end": 1625.28791,
            "count": 15
           },
           {
            "bin_start": 1625.28791,
            "bin_end": 1676.29954,
            "count": 11
           },
           {
            "bin_start": 1676.29954,
            "bin_end": 1727.31117,
            "count": 0
           },
           {
            "bin_start": 1727.31117,
            "bin_end": 1778.3228,
            "count": 2
           }
          ]
         }
        },
        {
         "name": "game_location",
         "dtype": "object",
         "stats": {
          "unique_count": 1,
          "nan_count": 0,
          "categories": [
           {
            "name": "A",
            "count": 87
           }
          ]
         }
        },
        {
         "name": "game_result",
         "dtype": "object",
         "stats": {
          "unique_count": 2,
          "nan_count": 0,
          "categories": [
           {
            "name": "L",
            "count": 52
           },
           {
            "name": "W",
            "count": 35
           }
          ]
         }
        },
        {
         "name": "forecast",
         "dtype": "float64",
         "stats": {
          "unique_count": 87,
          "nan_count": 0,
          "min": "0.1258449",
          "max": "0.74415261",
          "histogram": [
           {
            "bin_start": 0.1258449,
            "bin_end": 0.187675671,
            "count": 9
           },
           {
            "bin_start": 0.187675671,
            "bin_end": 0.249506442,
            "count": 15
           },
           {
            "bin_start": 0.249506442,
            "bin_end": 0.31133721299999995,
            "count": 9
           },
           {
            "bin_start": 0.31133721299999995,
            "bin_end": 0.37316798399999995,
            "count": 13
           },
           {
            "bin_start": 0.37316798399999995,
            "bin_end": 0.43499875499999996,
            "count": 7
           },
           {
            "bin_start": 0.43499875499999996,
            "bin_end": 0.49682952599999997,
            "count": 11
           },
           {
            "bin_start": 0.49682952599999997,
            "bin_end": 0.558660297,
            "count": 7
           },
           {
            "bin_start": 0.558660297,
            "bin_end": 0.620491068,
            "count": 5
           },
           {
            "bin_start": 0.620491068,
            "bin_end": 0.682321839,
            "count": 7
           },
           {
            "bin_start": 0.682321839,
            "bin_end": 0.74415261,
            "count": 4
           }
          ]
         }
        },
        {
         "name": "notes",
         "dtype": "object",
         "stats": {
          "unique_count": 0,
          "nan_count": 87,
          "categories": [
           {
            "name": "Missing",
            "count": 87
           }
          ]
         }
        },
        {
         "name": "date_played",
         "dtype": "datetime64[ns]",
         "stats": {
          "unique_count": 75,
          "nan_count": 0,
          "min": "1991-11-01 00:00:00",
          "max": "1992-05-04 00:00:00",
          "histogram": [
           {
            "bin_start": 688953600000000000,
            "bin_end": 690552000000000000,
            "count": 10
           },
           {
            "bin_start": 690552000000000000,
            "bin_end": 692150400000000000,
            "count": 9
           },
           {
            "bin_start": 692150400000000000,
            "bin_end": 693748800000000000,
            "count": 9
           },
           {
            "bin_start": 693748800000000000,
            "bin_end": 695347200000000000,
            "count": 8
           },
           {
            "bin_start": 695347200000000000,
            "bin_end": 696945600000000000,
            "count": 8
           },
           {
            "bin_start": 696945600000000000,
            "bin_end": 698544000000000000,
            "count": 7
           },
           {
            "bin_start": 698544000000000000,
            "bin_end": 700142400000000000,
            "count": 7
           },
           {
            "bin_start": 700142400000000000,
            "bin_end": 701740800000000000,
            "count": 11
           },
           {
            "bin_start": 701740800000000000,
            "bin_end": 703339200000000000,
            "count": 9
           },
           {
            "bin_start": 703339200000000000,
            "bin_end": 704937600000000000,
            "count": 9
           }
          ]
         }
        },
        {
         "name": "_deepnote_index_column",
         "dtype": "int64"
        }
       ],
       "rows": [
        {
         "gameorder": 33320,
         "game_id": "199111010HOU",
         "lg_id": "NBA",
         "_iscopy": 1,
         "year_id": 1992,
         "date_game": "11/1/1991",
         "seasongame": 1,
         "is_playoffs": 0,
         "team_id": "LAL",
         "fran_id": "Lakers",
         "pts": 121,
         "elo_i": 1622.8901,
         "elo_n": 1616.6196,
         "win_equiv": 53.863914,
         "opp_id": "HOU",
         "opp_fran": "Rockets",
         "opp_pts": 126,
         "opp_elo_i": 1553.295,
         "opp_elo_n": 1559.5656,
         "game_location": "A",
         "game_result": "L",
         "forecast": 0.45635515,
         "notes": "nan",
         "date_played": "1991-11-01T00:00:00.000000",
         "_deepnote_index_column": 66638
        },
        {
         "gameorder": 33325,
         "game_id": "199111010SAC",
         "lg_id": "NBA",
         "_iscopy": 1,
         "year_id": 1992,
         "date_game": "11/1/1991",
         "seasongame": 1,
         "is_playoffs": 0,
         "team_id": "LAC",
         "fran_id": "Clippers",
         "pts": 90,
         "elo_i": 1433.3674,
         "elo_n": 1428.1918,
         "win_equiv": 34.600365,
         "opp_id": "SAC",
         "opp_fran": "Kings",
         "opp_pts": 94,
         "opp_elo_i": 1385.087,
         "opp_elo_n": 1390.2627,
         "game_location": "A",
         "game_result": "L",
         "forecast": 0.42611444,
         "notes": "nan",
         "date_played": "1991-11-01T00:00:00.000000",
         "_deepnote_index_column": 66649
        },
        {
         "gameorder": 33330,
         "game_id": "199111020DAL",
         "lg_id": "NBA",
         "_iscopy": 1,
         "year_id": 1992,
         "date_game": "11/2/1991",
         "seasongame": 2,
         "is_playoffs": 0,
         "team_id": "LAL",
         "fran_id": "Lakers",
         "pts": 114,
         "elo_i": 1616.6196,
         "elo_n": 1618.7911,
         "win_equiv": 54.068913,
         "opp_id": "DAL",
         "opp_fran": "Mavericks",
         "opp_pts": 113,
         "opp_elo_i": 1369.6139,
         "opp_elo_n": 1367.4424,
         "game_location": "A",
         "game_result": "W",
         "forecast": 0.69977635,
         "notes": "nan",
         "date_played": "1991-11-02T00:00:00.000000",
         "_deepnote_index_column": 66659
        },
        {
         "gameorder": 33347,
         "game_id": "199111050LAL",
         "lg_id": "NBA",
         "_iscopy": 1,
         "year_id": 1992,
         "date_game": "11/5/1991",
         "seasongame": 3,
         "is_playoffs": 0,
         "team_id": "LAC",
         "fran_id": "Clippers",
         "pts": 114,
         "elo_i": 1431.1611,
         "elo_n": 1446.5114,
         "win_equiv": 36.487614,
         "opp_id": "LAL",
         "opp_fran": "Lakers",
         "opp_pts": 109,
         "opp_elo_i": 1618.7911,
         "opp_elo_n": 1603.4409,
         "game_location": "A",
         "game_result": "W",
         "forecast": 0.16033584,
         "notes": "nan",
         "date_played": "1991-11-05T00:00:00.000000",
         "_deepnote_index_column": 66693
        },
        {
         "gameorder": 33372,
         "game_id": "199111080PHO",
         "lg_id": "NBA",
         "_iscopy": 1,
         "year_id": 1992,
         "date_game": "11/8/1991",
         "seasongame": 4,
         "is_playoffs": 0,
         "team_id": "LAL",
         "fran_id": "Lakers",
         "pts": 85,
         "elo_i": 1603.4409,
         "elo_n": 1587.1669,
         "win_equiv": 51.016655,
         "opp_id": "PHO",
         "opp_fran": "Suns",
         "opp_pts": 113,
         "opp_elo_i": 1566.0684,
         "opp_elo_n": 1582.3424,
         "game_location": "A",
         "game_result": "L",
         "forecast": 0.4108355,
         "notes": "nan",
         "date_played": "1991-11-08T00:00:00.000000",
         "_deepnote_index_column": 66742
        },
        {
         "gameorder": 33383,
         "game_id": "199111090UTA",
         "lg_id": "NBA",
         "_iscopy": 1,
         "year_id": 1992,
         "date_game": "11/9/1991",
         "seasongame": 6,
         "is_playoffs": 0,
         "team_id": "LAC",
         "fran_id": "Clippers",
         "pts": 84,
         "elo_i": 1474.6877,
         "elo_n": 1468.1604,
         "win_equiv": 38.742435,
         "opp_id": "UTA",
         "opp_fran": "Jazz",
         "opp_pts": 101,
         "opp_elo_i": 1560.1393,
         "opp_elo_n": 1566.6666,
         "game_location": "A",
         "game_result": "L",
         "forecast": 0.25587028,
         "notes": "nan",
         "date_played": "1991-11-09T00:00:00.000000",
         "_deepnote_index_column": 66765
        },
        {
         "gameorder": 33407,
         "game_id": "199111130SAS",
         "lg_id": "NBA",
         "_iscopy": 1,
         "year_id": 1992,
         "date_game": "11/13/1991",
         "seasongame": 8,
         "is_playoffs": 0,
         "team_id": "LAC",
         "fran_id": "Clippers",
         "pts": 93,
         "elo_i": 1475.5291,
         "elo_n": 1470.6469,
         "win_equiv": 39.002548,
         "opp_id": "SAS",
         "opp_fran": "Spurs",
         "opp_pts": 107,
         "opp_elo_i": 1592.6182,
         "opp_elo_n": 1597.5004,
         "game_location": "A",
         "game_result": "L",
         "forecast": 0.22275805,
         "notes": "nan",
         "date_played": "1991-11-13T00:00:00.000000",
         "_deepnote_index_column": 66812
        },
        {
         "gameorder": 33409,
         "game_id": "199111140DAL",
         "lg_id": "NBA",
         "_iscopy": 1,
         "year_id": 1992,
         "date_game": "11/14/1991",
         "seasongame": 9,
         "is_playoffs": 0,
         "team_id": "LAC",
         "fran_id": "Clippers",
         "pts": 88,
         "elo_i": 1470.6469,
         "elo_n": 1461.6984,
         "win_equiv": 38.067326,
         "opp_id": "DAL",
         "opp_fran": "Mavericks",
         "opp_pts": 95,
         "opp_elo_i": 1353.5588,
         "opp_elo_n": 1362.5073,
         "game_location": "A",
         "game_result": "L",
         "forecast": 0.52457178,
         "notes": "nan",
         "date_played": "1991-11-14T00:00:00.000000",
         "_deepnote_index_column": 66816
        },
        {
         "gameorder": 33410,
         "game_id": "199111140GSW",
         "lg_id": "NBA",
         "_iscopy": 1,
         "year_id": 1992,
         "date_game": "11/14/1991",
         "seasongame": 6,
         "is_playoffs": 0,
         "team_id": "LAL",
         "fran_id": "Lakers",
         "pts": 115,
         "elo_i": 1590.0271,
         "elo_n": 1597.4446,
         "win_equiv": 52.023693,
         "opp_id": "GSW",
         "opp_fran": "Warriors",
         "opp_pts": 112,
         "opp_elo_i": 1574.1429,
         "opp_elo_n": 1566.7255,
         "game_location": "A",
         "game_result": "W",
         "forecast": 0.38125855,
         "notes": "nan",
         "date_played": "1991-11-14T00:00:00.000000",
         "_deepnote_index_column": 66818
        },
        {
         "gameorder": 33441,
         "game_id": "199111190POR",
         "lg_id": "NBA",
         "_iscopy": 1,
         "year_id": 1992,
         "date_game": "11/19/1991",
         "seasongame": 11,
         "is_playoffs": 0,
         "team_id": "LAC",
         "fran_id": "Clippers",
         "pts": 112,
         "elo_i": 1446.7483,
         "elo_n": 1441.41,
         "win_equiv": 35.959778,
         "opp_id": "POR",
         "opp_fran": "Trailblazers",
         "opp_pts": 132,
         "opp_elo_i": 1592.9991,
         "opp_elo_n": 1598.3374,
         "game_location": "A",
         "game_result": "L",
         "forecast": 0.19504851,
         "notes": "nan",
         "date_played": "1991-11-19T00:00:00.000000",
         "_deepnote_index_column": 66881
        }
       ]
      },
      "text/plain": "       gameorder       game_id lg_id  _iscopy  year_id  date_game  seasongame  \\\n66638      33320  199111010HOU   NBA        1     1992  11/1/1991           1   \n66649      33325  199111010SAC   NBA        1     1992  11/1/1991           1   \n66659      33330  199111020DAL   NBA        1     1992  11/2/1991           2   \n66693      33347  199111050LAL   NBA        1     1992  11/5/1991           3   \n66742      33372  199111080PHO   NBA        1     1992  11/8/1991           4   \n...          ...           ...   ...      ...      ...        ...         ...   \n68850      34426  199204230POR   NBA        1     1992  4/23/1992          83   \n68858      34430  199204240UTA   NBA        1     1992  4/24/1992          83   \n68867      34434  199204250POR   NBA        1     1992  4/25/1992          84   \n68875      34438  199204260UTA   NBA        1     1992  4/26/1992          84   \n68908      34455  199205040UTA   NBA        1     1992   5/4/1992          87   \n\n       is_playoffs team_id   fran_id  ...  opp_id      opp_fran  opp_pts  \\\n66638            0     LAL    Lakers  ...     HOU       Rockets      126   \n66649            0     LAC  Clippers  ...     SAC         Kings       94   \n66659            0     LAL    Lakers  ...     DAL     Mavericks      113   \n66693            0     LAC  Clippers  ...     LAL        Lakers      109   \n66742            0     LAL    Lakers  ...     PHO          Suns      113   \n...            ...     ...       ...  ...     ...           ...      ...   \n68850            1     LAL    Lakers  ...     POR  Trailblazers      115   \n68858            1     LAC  Clippers  ...     UTA          Jazz      115   \n68867            1     LAL    Lakers  ...     POR  Trailblazers      101   \n68875            1     LAC  Clippers  ...     UTA          Jazz      103   \n68908            1     LAC  Clippers  ...     UTA          Jazz       98   \n\n       opp_elo_i  opp_elo_n game_location  game_result  forecast  notes  \\\n66638  1553.2950  1559.5656             A            L  0.456355    NaN   \n66649  1385.0870  1390.2627             A            L  0.426114    NaN   \n66659  1369.6139  1367.4424             A            W  0.699776    NaN   \n66693  1618.7911  1603.4409             A            W  0.160336    NaN   \n66742  1566.0684  1582.3424             A            L  0.410836    NaN   \n...          ...        ...           ...          ...       ...    ...   \n68850  1652.6302  1656.3312             A            L  0.182497    NaN   \n68858  1648.3168  1654.5549             A            L  0.237925    NaN   \n68867  1656.3312  1661.4135             A            L  0.176226    NaN   \n68875  1654.5549  1658.7865             A            L  0.225148    NaN   \n68908  1638.4095  1642.8134             A            L  0.259219    NaN   \n\n      date_played  \n66638  1991-11-01  \n66649  1991-11-01  \n66659  1991-11-02  \n66693  1991-11-05  \n66742  1991-11-08  \n...           ...  \n68850  1992-04-23  \n68858  1992-04-24  \n68867  1992-04-25  \n68875  1992-04-26  \n68908  1992-05-04  \n\n[87 rows x 24 columns]",
      "text/html": "<div>\n<style scoped>\n    .dataframe tbody tr th:only-of-type {\n        vertical-align: middle;\n    }\n\n    .dataframe tbody tr th {\n        vertical-align: top;\n    }\n\n    .dataframe thead th {\n        text-align: right;\n    }\n</style>\n<table border=\"1\" class=\"dataframe\">\n  <thead>\n    <tr style=\"text-align: right;\">\n      <th></th>\n      <th>gameorder</th>\n      <th>game_id</th>\n      <th>lg_id</th>\n      <th>_iscopy</th>\n      <th>year_id</th>\n      <th>date_game</th>\n      <th>seasongame</th>\n      <th>is_playoffs</th>\n      <th>team_id</th>\n      <th>fran_id</th>\n      <th>...</th>\n      <th>opp_id</th>\n      <th>opp_fran</th>\n      <th>opp_pts</th>\n      <th>opp_elo_i</th>\n      <th>opp_elo_n</th>\n      <th>game_location</th>\n      <th>game_result</th>\n      <th>forecast</th>\n      <th>notes</th>\n      <th>date_played</th>\n    </tr>\n  </thead>\n  <tbody>\n    <tr>\n      <th>66638</th>\n      <td>33320</td>\n      <td>199111010HOU</td>\n      <td>NBA</td>\n      <td>1</td>\n      <td>1992</td>\n      <td>11/1/1991</td>\n      <td>1</td>\n      <td>0</td>\n      <td>LAL</td>\n      <td>Lakers</td>\n      <td>...</td>\n      <td>HOU</td>\n      <td>Rockets</td>\n      <td>126</td>\n      <td>1553.2950</td>\n      <td>1559.5656</td>\n      <td>A</td>\n      <td>L</td>\n      <td>0.456355</td>\n      <td>NaN</td>\n      <td>1991-11-01</td>\n    </tr>\n    <tr>\n      <th>66649</th>\n      <td>33325</td>\n      <td>199111010SAC</td>\n      <td>NBA</td>\n      <td>1</td>\n      <td>1992</td>\n      <td>11/1/1991</td>\n      <td>1</td>\n      <td>0</td>\n      <td>LAC</td>\n      <td>Clippers</td>\n      <td>...</td>\n      <td>SAC</td>\n      <td>Kings</td>\n      <td>94</td>\n      <td>1385.0870</td>\n      <td>1390.2627</td>\n      <td>A</td>\n      <td>L</td>\n      <td>0.426114</td>\n      <td>NaN</td>\n      <td>1991-11-01</td>\n    </tr>\n    <tr>\n      <th>66659</th>\n      <td>33330</td>\n      <td>199111020DAL</td>\n      <td>NBA</td>\n      <td>1</td>\n      <td>1992</td>\n      <td>11/2/1991</td>\n      <td>2</td>\n      <td>0</td>\n      <td>LAL</td>\n      <td>Lakers</td>\n      <td>...</td>\n      <td>DAL</td>\n      <td>Mavericks</td>\n      <td>113</td>\n      <td>1369.6139</td>\n      <td>1367.4424</td>\n      <td>A</td>\n      <td>W</td>\n      <td>0.699776</td>\n      <td>NaN</td>\n      <td>1991-11-02</td>\n    </tr>\n    <tr>\n      <th>66693</th>\n      <td>33347</td>\n      <td>199111050LAL</td>\n      <td>NBA</td>\n      <td>1</td>\n      <td>1992</td>\n      <td>11/5/1991</td>\n      <td>3</td>\n      <td>0</td>\n      <td>LAC</td>\n      <td>Clippers</td>\n      <td>...</td>\n      <td>LAL</td>\n      <td>Lakers</td>\n      <td>109</td>\n      <td>1618.7911</td>\n      <td>1603.4409</td>\n      <td>A</td>\n      <td>W</td>\n      <td>0.160336</td>\n      <td>NaN</td>\n      <td>1991-11-05</td>\n    </tr>\n    <tr>\n      <th>66742</th>\n      <td>33372</td>\n      <td>199111080PHO</td>\n      <td>NBA</td>\n      <td>1</td>\n      <td>1992</td>\n      <td>11/8/1991</td>\n      <td>4</td>\n      <td>0</td>\n      <td>LAL</td>\n      <td>Lakers</td>\n      <td>...</td>\n      <td>PHO</td>\n      <td>Suns</td>\n      <td>113</td>\n      <td>1566.0684</td>\n      <td>1582.3424</td>\n      <td>A</td>\n      <td>L</td>\n      <td>0.410836</td>\n      <td>NaN</td>\n      <td>1991-11-08</td>\n    </tr>\n    <tr>\n      <th>...</th>\n      <td>...</td>\n      <td>...</td>\n      <td>...</td>\n      <td>...</td>\n      <td>...</td>\n      <td>...</td>\n      <td>...</td>\n      <td>...</td>\n      <td>...</td>\n      <td>...</td>\n      <td>...</td>\n      <td>...</td>\n      <td>...</td>\n      <td>...</td>\n      <td>...</td>\n      <td>...</td>\n      <td>...</td>\n      <td>...</td>\n      <td>...</td>\n      <td>...</td>\n      <td>...</td>\n    </tr>\n    <tr>\n      <th>68850</th>\n      <td>34426</td>\n      <td>199204230POR</td>\n      <td>NBA</td>\n      <td>1</td>\n      <td>1992</td>\n      <td>4/23/1992</td>\n      <td>83</td>\n      <td>1</td>\n      <td>LAL</td>\n      <td>Lakers</td>\n      <td>...</td>\n      <td>POR</td>\n      <td>Trailblazers</td>\n      <td>115</td>\n      <td>1652.6302</td>\n      <td>1656.3312</td>\n      <td>A</td>\n      <td>L</td>\n      <td>0.182497</td>\n      <td>NaN</td>\n      <td>1992-04-23</td>\n    </tr>\n    <tr>\n      <th>68858</th>\n      <td>34430</td>\n      <td>199204240UTA</td>\n      <td>NBA</td>\n      <td>1</td>\n      <td>1992</td>\n      <td>4/24/1992</td>\n      <td>83</td>\n      <td>1</td>\n      <td>LAC</td>\n      <td>Clippers</td>\n      <td>...</td>\n      <td>UTA</td>\n      <td>Jazz</td>\n      <td>115</td>\n      <td>1648.3168</td>\n      <td>1654.5549</td>\n      <td>A</td>\n      <td>L</td>\n      <td>0.237925</td>\n      <td>NaN</td>\n      <td>1992-04-24</td>\n    </tr>\n    <tr>\n      <th>68867</th>\n      <td>34434</td>\n      <td>199204250POR</td>\n      <td>NBA</td>\n      <td>1</td>\n      <td>1992</td>\n      <td>4/25/1992</td>\n      <td>84</td>\n      <td>1</td>\n      <td>LAL</td>\n      <td>Lakers</td>\n      <td>...</td>\n      <td>POR</td>\n      <td>Trailblazers</td>\n      <td>101</td>\n      <td>1656.3312</td>\n      <td>1661.4135</td>\n      <td>A</td>\n      <td>L</td>\n      <td>0.176226</td>\n      <td>NaN</td>\n      <td>1992-04-25</td>\n    </tr>\n    <tr>\n      <th>68875</th>\n      <td>34438</td>\n      <td>199204260UTA</td>\n      <td>NBA</td>\n      <td>1</td>\n      <td>1992</td>\n      <td>4/26/1992</td>\n      <td>84</td>\n      <td>1</td>\n      <td>LAC</td>\n      <td>Clippers</td>\n      <td>...</td>\n      <td>UTA</td>\n      <td>Jazz</td>\n      <td>103</td>\n      <td>1654.5549</td>\n      <td>1658.7865</td>\n      <td>A</td>\n      <td>L</td>\n      <td>0.225148</td>\n      <td>NaN</td>\n      <td>1992-04-26</td>\n    </tr>\n    <tr>\n      <th>68908</th>\n      <td>34455</td>\n      <td>199205040UTA</td>\n      <td>NBA</td>\n      <td>1</td>\n      <td>1992</td>\n      <td>5/4/1992</td>\n      <td>87</td>\n      <td>1</td>\n      <td>LAC</td>\n      <td>Clippers</td>\n      <td>...</td>\n      <td>UTA</td>\n      <td>Jazz</td>\n      <td>98</td>\n      <td>1638.4095</td>\n      <td>1642.8134</td>\n      <td>A</td>\n      <td>L</td>\n      <td>0.259219</td>\n      <td>NaN</td>\n      <td>1992-05-04</td>\n    </tr>\n  </tbody>\n</table>\n<p>87 rows × 24 columns</p>\n</div>"
     },
     "metadata": {}
    }
   ],
   "execution_count": 36
  },
  {
   "cell_type": "markdown",
   "source": "# Grouping and Aggregating Your Data",
   "metadata": {
    "cell_id": "b93e35be172e41b1875be21b19a20a41",
    "tags": [],
    "is_collapsed": false,
    "formattedRanges": [],
    "deepnote_cell_type": "text-cell-h1"
   }
  },
  {
   "cell_type": "code",
   "source": "nba.groupby(\"team_id\", sort=True)[\"pts\"].sum()",
   "metadata": {
    "cell_id": "9a602589c21145818fa4ffff98aa212f",
    "tags": [],
    "deepnote_to_be_reexecuted": false,
    "source_hash": "953d29ce",
    "execution_start": 1656252419634,
    "execution_millis": 50,
    "deepnote_cell_type": "code",
    "deepnote_cell_height": 346,
    "deepnote_output_heights": [
     249
    ]
   },
   "outputs": [
    {
     "output_type": "execute_result",
     "execution_count": 37,
     "data": {
      "text/plain": "team_id\nANA      8704\nAND      6193\nATL    411248\nBAL     98112\nBLB     37219\n        ...  \nWAS    142413\nWAT      4921\nWSA     10774\nWSB    207596\nWSC     22387\nName: pts, Length: 104, dtype: int64"
     },
     "metadata": {}
    }
   ],
   "execution_count": 37
  },
  {
   "cell_type": "markdown",
   "source": "### Group by Multiple Columns",
   "metadata": {
    "cell_id": "36a074ed4d0d4f5684f137d48126dc3c",
    "tags": [],
    "is_collapsed": false,
    "formattedRanges": [],
    "deepnote_cell_type": "text-cell-h3"
   }
  },
  {
   "cell_type": "code",
   "source": "nba[\n    (nba[\"fran_id\"] == \"Spurs\") &\n    (nba[\"year_id\"] > 2010)\n].groupby([\"year_id\", \"game_result\"])[\"game_id\"].count()",
   "metadata": {
    "cell_id": "f10ed99faeff4bf5b3cd87bdcf3a4e37",
    "tags": [],
    "deepnote_to_be_reexecuted": false,
    "source_hash": "e36734d6",
    "execution_start": 1656252419759,
    "execution_millis": 4,
    "deepnote_cell_type": "code",
    "deepnote_cell_height": 381,
    "deepnote_output_heights": [
     230
    ]
   },
   "outputs": [
    {
     "output_type": "execute_result",
     "execution_count": 38,
     "data": {
      "text/plain": "year_id  game_result\n2011     L              25\n         W              63\n2012     L              20\n         W              60\n2013     L              30\n         W              73\n2014     L              27\n         W              78\n2015     L              31\n         W              58\nName: game_id, dtype: int64"
     },
     "metadata": {}
    }
   ],
   "execution_count": 38
  },
  {
   "cell_type": "code",
   "source": "nba[\n    (nba[\"team_id\"] == \"GSW\") &\n    (nba[\"year_id\"] == 2015)\n].groupby([\"is_playoffs\", \"game_result\"])[\"game_id\"].count()",
   "metadata": {
    "cell_id": "4207fe3a29664f67a0e999efb25f0afd",
    "tags": [],
    "deepnote_to_be_reexecuted": false,
    "source_hash": "afbd235a",
    "execution_start": 1656252419819,
    "execution_millis": 4,
    "deepnote_cell_type": "code",
    "deepnote_cell_height": 267,
    "deepnote_output_heights": [
     116
    ]
   },
   "outputs": [
    {
     "output_type": "execute_result",
     "execution_count": 39,
     "data": {
      "text/plain": "is_playoffs  game_result\n0            L              15\n             W              67\n1            L               5\n             W              16\nName: game_id, dtype: int64"
     },
     "metadata": {}
    }
   ],
   "execution_count": 39
  },
  {
   "cell_type": "markdown",
   "source": "See Pandas Group by Tutorial https://realpython.com/pandas-groupby/",
   "metadata": {
    "cell_id": "536221c5f9fc4fe8b7f9554cb3dd4978",
    "tags": [],
    "is_collapsed": false,
    "formattedRanges": [],
    "deepnote_cell_type": "text-cell-p"
   }
  },
  {
   "cell_type": "markdown",
   "source": "# Manipulating Columns",
   "metadata": {
    "cell_id": "54cb527d920442159d32f3e32c211426",
    "tags": [],
    "is_collapsed": false,
    "formattedRanges": [],
    "deepnote_cell_type": "text-cell-h1"
   }
  },
  {
   "cell_type": "markdown",
   "source": "You’ll need to know how to&nbsp;manipulate&nbsp;your dataset’s columns in different phases of the data analysis process. You can add and drop columns as part of the initial&nbsp;data cleaningphase, or later based on the insights of your analysis.",
   "metadata": {
    "cell_id": "de9bae0fadf0464eb1627136dfe7ea63",
    "tags": [],
    "is_collapsed": false,
    "formattedRanges": [],
    "deepnote_cell_type": "text-cell-p"
   }
  },
  {
   "cell_type": "code",
   "source": "# Create a copy of the dataframe to work with \n\ndf = nba.copy()",
   "metadata": {
    "cell_id": "66167e0ad0524da5b20c326a8830c409",
    "tags": [],
    "deepnote_to_be_reexecuted": false,
    "source_hash": "10d9fa56",
    "execution_start": 1656252419823,
    "execution_millis": 35,
    "deepnote_cell_type": "code",
    "deepnote_cell_height": 117
   },
   "outputs": [],
   "execution_count": 40
  },
  {
   "cell_type": "code",
   "source": "df[\"difference\"] = df.pts - df.opp_pts\ndf.head()",
   "metadata": {
    "cell_id": "d46bf33e261a4dfe8aa5b3d83b4d57d8",
    "tags": [],
    "deepnote_to_be_reexecuted": false,
    "source_hash": "b462c1f7",
    "execution_start": 1656252419945,
    "execution_millis": 139,
    "deepnote_cell_type": "code",
    "deepnote_cell_height": 428
   },
   "outputs": [
    {
     "output_type": "execute_result",
     "execution_count": 41,
     "data": {
      "application/vnd.deepnote.dataframe.v3+json": {
       "column_count": 25,
       "row_count": 5,
       "columns": [
        {
         "name": "gameorder",
         "dtype": "int64",
         "stats": {
          "unique_count": 3,
          "nan_count": 0,
          "min": "1",
          "max": "3",
          "histogram": [
           {
            "bin_start": 1,
            "bin_end": 1.2,
            "count": 2
           },
           {
            "bin_start": 1.2,
            "bin_end": 1.4,
            "count": 0
           },
           {
            "bin_start": 1.4,
            "bin_end": 1.6,
            "count": 0
           },
           {
            "bin_start": 1.6,
            "bin_end": 1.8,
            "count": 0
           },
           {
            "bin_start": 1.8,
            "bin_end": 2,
            "count": 0
           },
           {
            "bin_start": 2,
            "bin_end": 2.2,
            "count": 2
           },
           {
            "bin_start": 2.2,
            "bin_end": 2.4000000000000004,
            "count": 0
           },
           {
            "bin_start": 2.4000000000000004,
            "bin_end": 2.6,
            "count": 0
           },
           {
            "bin_start": 2.6,
            "bin_end": 2.8,
            "count": 0
           },
           {
            "bin_start": 2.8,
            "bin_end": 3,
            "count": 1
           }
          ]
         }
        },
        {
         "name": "game_id",
         "dtype": "object",
         "stats": {
          "unique_count": 3,
          "nan_count": 0,
          "categories": [
           {
            "name": "194611010TRH",
            "count": 2
           },
           {
            "name": "194611020CHS",
            "count": 2
           },
           {
            "name": "194611020DTF",
            "count": 1
           }
          ]
         }
        },
        {
         "name": "lg_id",
         "dtype": "object",
         "stats": {
          "unique_count": 1,
          "nan_count": 0,
          "categories": [
           {
            "name": "NBA",
            "count": 5
           }
          ]
         }
        },
        {
         "name": "_iscopy",
         "dtype": "int64",
         "stats": {
          "unique_count": 2,
          "nan_count": 0,
          "min": "0",
          "max": "1",
          "histogram": [
           {
            "bin_start": 0,
            "bin_end": 0.1,
            "count": 3
           },
           {
            "bin_start": 0.1,
            "bin_end": 0.2,
            "count": 0
           },
           {
            "bin_start": 0.2,
            "bin_end": 0.30000000000000004,
            "count": 0
           },
           {
            "bin_start": 0.30000000000000004,
            "bin_end": 0.4,
            "count": 0
           },
           {
            "bin_start": 0.4,
            "bin_end": 0.5,
            "count": 0
           },
           {
            "bin_start": 0.5,
            "bin_end": 0.6000000000000001,
            "count": 0
           },
           {
            "bin_start": 0.6000000000000001,
            "bin_end": 0.7000000000000001,
            "count": 0
           },
           {
            "bin_start": 0.7000000000000001,
            "bin_end": 0.8,
            "count": 0
           },
           {
            "bin_start": 0.8,
            "bin_end": 0.9,
            "count": 0
           },
           {
            "bin_start": 0.9,
            "bin_end": 1,
            "count": 2
           }
          ]
         }
        },
        {
         "name": "year_id",
         "dtype": "int64",
         "stats": {
          "unique_count": 1,
          "nan_count": 0,
          "min": "1947",
          "max": "1947",
          "histogram": [
           {
            "bin_start": 1946.5,
            "bin_end": 1946.6,
            "count": 0
           },
           {
            "bin_start": 1946.6,
            "bin_end": 1946.7,
            "count": 0
           },
           {
            "bin_start": 1946.7,
            "bin_end": 1946.8,
            "count": 0
           },
           {
            "bin_start": 1946.8,
            "bin_end": 1946.9,
            "count": 0
           },
           {
            "bin_start": 1946.9,
            "bin_end": 1947,
            "count": 0
           },
           {
            "bin_start": 1947,
            "bin_end": 1947.1,
            "count": 5
           },
           {
            "bin_start": 1947.1,
            "bin_end": 1947.2,
            "count": 0
           },
           {
            "bin_start": 1947.2,
            "bin_end": 1947.3,
            "count": 0
           },
           {
            "bin_start": 1947.3,
            "bin_end": 1947.4,
            "count": 0
           },
           {
            "bin_start": 1947.4,
            "bin_end": 1947.5,
            "count": 0
           }
          ]
         }
        },
        {
         "name": "date_game",
         "dtype": "object",
         "stats": {
          "unique_count": 2,
          "nan_count": 0,
          "categories": [
           {
            "name": "11/2/1946",
            "count": 3
           },
           {
            "name": "11/1/1946",
            "count": 2
           }
          ]
         }
        },
        {
         "name": "seasongame",
         "dtype": "int64",
         "stats": {
          "unique_count": 2,
          "nan_count": 0,
          "min": "1",
          "max": "2",
          "histogram": [
           {
            "bin_start": 1,
            "bin_end": 1.1,
            "count": 4
           },
           {
            "bin_start": 1.1,
            "bin_end": 1.2,
            "count": 0
           },
           {
            "bin_start": 1.2,
            "bin_end": 1.3,
            "count": 0
           },
           {
            "bin_start": 1.3,
            "bin_end": 1.4,
            "count": 0
           },
           {
            "bin_start": 1.4,
            "bin_end": 1.5,
            "count": 0
           },
           {
            "bin_start": 1.5,
            "bin_end": 1.6,
            "count": 0
           },
           {
            "bin_start": 1.6,
            "bin_end": 1.7000000000000002,
            "count": 0
           },
           {
            "bin_start": 1.7000000000000002,
            "bin_end": 1.8,
            "count": 0
           },
           {
            "bin_start": 1.8,
            "bin_end": 1.9,
            "count": 0
           },
           {
            "bin_start": 1.9,
            "bin_end": 2,
            "count": 1
           }
          ]
         }
        },
        {
         "name": "is_playoffs",
         "dtype": "int64",
         "stats": {
          "unique_count": 1,
          "nan_count": 0,
          "min": "0",
          "max": "0",
          "histogram": [
           {
            "bin_start": -0.5,
            "bin_end": -0.4,
            "count": 0
           },
           {
            "bin_start": -0.4,
            "bin_end": -0.3,
            "count": 0
           },
           {
            "bin_start": -0.3,
            "bin_end": -0.19999999999999996,
            "count": 0
           },
           {
            "bin_start": -0.19999999999999996,
            "bin_end": -0.09999999999999998,
            "count": 0
           },
           {
            "bin_start": -0.09999999999999998,
            "bin_end": 0,
            "count": 0
           },
           {
            "bin_start": 0,
            "bin_end": 0.10000000000000009,
            "count": 5
           },
           {
            "bin_start": 0.10000000000000009,
            "bin_end": 0.20000000000000007,
            "count": 0
           },
           {
            "bin_start": 0.20000000000000007,
            "bin_end": 0.30000000000000004,
            "count": 0
           },
           {
            "bin_start": 0.30000000000000004,
            "bin_end": 0.4,
            "count": 0
           },
           {
            "bin_start": 0.4,
            "bin_end": 0.5,
            "count": 0
           }
          ]
         }
        },
        {
         "name": "team_id",
         "dtype": "object",
         "stats": {
          "unique_count": 4,
          "nan_count": 0,
          "categories": [
           {
            "name": "NYK",
            "count": 2
           },
           {
            "name": "TRH",
            "count": 1
           },
           {
            "name": "2 others",
            "count": 2
           }
          ]
         }
        },
        {
         "name": "fran_id",
         "dtype": "object",
         "stats": {
          "unique_count": 4,
          "nan_count": 0,
          "categories": [
           {
            "name": "Knicks",
            "count": 2
           },
           {
            "name": "Huskies",
            "count": 1
           },
           {
            "name": "2 others",
            "count": 2
           }
          ]
         }
        },
        {
         "name": "pts",
         "dtype": "int64",
         "stats": {
          "unique_count": 5,
          "nan_count": 0,
          "min": "33",
          "max": "68",
          "histogram": [
           {
            "bin_start": 33,
            "bin_end": 36.5,
            "count": 1
           },
           {
            "bin_start": 36.5,
            "bin_end": 40,
            "count": 0
           },
           {
            "bin_start": 40,
            "bin_end": 43.5,
            "count": 0
           },
           {
            "bin_start": 43.5,
            "bin_end": 47,
            "count": 0
           },
           {
            "bin_start": 47,
            "bin_end": 50.5,
            "count": 1
           },
           {
            "bin_start": 50.5,
            "bin_end": 54,
            "count": 0
           },
           {
            "bin_start": 54,
            "bin_end": 57.5,
            "count": 0
           },
           {
            "bin_start": 57.5,
            "bin_end": 61,
            "count": 0
           },
           {
            "bin_start": 61,
            "bin_end": 64.5,
            "count": 1
           },
           {
            "bin_start": 64.5,
            "bin_end": 68,
            "count": 2
           }
          ]
         }
        },
        {
         "name": "elo_i",
         "dtype": "float64",
         "stats": {
          "unique_count": 2,
          "nan_count": 0,
          "min": "1300.0",
          "max": "1306.7233",
          "histogram": [
           {
            "bin_start": 1300,
            "bin_end": 1300.67233,
            "count": 4
           },
           {
            "bin_start": 1300.67233,
            "bin_end": 1301.34466,
            "count": 0
           },
           {
            "bin_start": 1301.34466,
            "bin_end": 1302.01699,
            "count": 0
           },
           {
            "bin_start": 1302.01699,
            "bin_end": 1302.68932,
            "count": 0
           },
           {
            "bin_start": 1302.68932,
            "bin_end": 1303.36165,
            "count": 0
           },
           {
            "bin_start": 1303.36165,
            "bin_end": 1304.0339800000002,
            "count": 0
           },
           {
            "bin_start": 1304.0339800000002,
            "bin_end": 1304.70631,
            "count": 0
           },
           {
            "bin_start": 1304.70631,
            "bin_end": 1305.3786400000001,
            "count": 0
           },
           {
            "bin_start": 1305.3786400000001,
            "bin_end": 1306.05097,
            "count": 0
           },
           {
            "bin_start": 1306.05097,
            "bin_end": 1306.7233,
            "count": 1
           }
          ]
         }
        },
        {
         "name": "elo_n",
         "dtype": "float64",
         "stats": {
          "unique_count": 5,
          "nan_count": 0,
          "min": "1279.6189",
          "max": "1309.6521",
          "histogram": [
           {
            "bin_start": 1279.6189,
            "bin_end": 1282.62222,
            "count": 1
           },
           {
            "bin_start": 1282.62222,
            "bin_end": 1285.62554,
            "count": 0
           },
           {
            "bin_start": 1285.62554,
            "bin_end": 1288.62886,
            "count": 0
           },
           {
            "bin_start": 1288.62886,
            "bin_end": 1291.63218,
            "count": 0
           },
           {
            "bin_start": 1291.63218,
            "bin_end": 1294.6354999999999,
            "count": 1
           },
           {
            "bin_start": 1294.6354999999999,
            "bin_end": 1297.63882,
            "count": 1
           },
           {
            "bin_start": 1297.63882,
            "bin_end": 1300.64214,
            "count": 0
           },
           {
            "bin_start": 1300.64214,
            "bin_end": 1303.64546,
            "count": 0
           },
           {
            "bin_start": 1303.64546,
            "bin_end": 1306.64878,
            "count": 0
           },
           {
            "bin_start": 1306.64878,
            "bin_end": 1309.6521,
            "count": 2
           }
          ]
         }
        },
        {
         "name": "win_equiv",
         "dtype": "float64",
         "stats": {
          "unique_count": 5,
          "nan_count": 0,
          "min": "38.864048",
          "max": "42.012257",
          "histogram": [
           {
            "bin_start": 38.864048,
            "bin_end": 39.1788689,
            "count": 1
           },
           {
            "bin_start": 39.1788689,
            "bin_end": 39.4936898,
            "count": 0
           },
           {
            "bin_start": 39.4936898,
            "bin_end": 39.8085107,
            "count": 0
           },
           {
            "bin_start": 39.8085107,
            "bin_end": 40.1233316,
            "count": 0
           },
           {
            "bin_start": 40.1233316,
            "bin_end": 40.4381525,
            "count": 1
           },
           {
            "bin_start": 40.4381525,
            "bin_end": 40.752973399999995,
            "count": 1
           },
           {
            "bin_start": 40.752973399999995,
            "bin_end": 41.067794299999996,
            "count": 0
           },
           {
            "bin_start": 41.067794299999996,
            "bin_end": 41.3826152,
            "count": 0
           },
           {
            "bin_start": 41.3826152,
            "bin_end": 41.6974361,
            "count": 0
           },
           {
            "bin_start": 41.6974361,
            "bin_end": 42.012257,
            "count": 2
           }
          ]
         }
        },
        {
         "name": "opp_id",
         "dtype": "object",
         "stats": {
          "unique_count": 4,
          "nan_count": 0,
          "categories": [
           {
            "name": "NYK",
            "count": 2
           },
           {
            "name": "TRH",
            "count": 1
           },
           {
            "name": "2 others",
            "count": 2
           }
          ]
         }
        },
        {
         "name": "opp_fran",
         "dtype": "object",
         "stats": {
          "unique_count": 4,
          "nan_count": 0,
          "categories": [
           {
            "name": "Knicks",
            "count": 2
           },
           {
            "name": "Huskies",
            "count": 1
           },
           {
            "name": "2 others",
            "count": 2
           }
          ]
         }
        },
        {
         "name": "opp_pts",
         "dtype": "int64",
         "stats": {
          "unique_count": 5,
          "nan_count": 0,
          "min": "47",
          "max": "68",
          "histogram": [
           {
            "bin_start": 47,
            "bin_end": 49.1,
            "count": 1
           },
           {
            "bin_start": 49.1,
            "bin_end": 51.2,
            "count": 1
           },
           {
            "bin_start": 51.2,
            "bin_end": 53.3,
            "count": 0
           },
           {
            "bin_start": 53.3,
            "bin_end": 55.4,
            "count": 0
           },
           {
            "bin_start": 55.4,
            "bin_end": 57.5,
            "count": 0
           },
           {
            "bin_start": 57.5,
            "bin_end": 59.6,
            "count": 0
           },
           {
            "bin_start": 59.6,
            "bin_end": 61.7,
            "count": 0
           },
           {
            "bin_start": 61.7,
            "bin_end": 63.8,
            "count": 1
           },
           {
            "bin_start": 63.8,
            "bin_end": 65.9,
            "count": 0
           },
           {
            "bin_start": 65.9,
            "bin_end": 68,
            "count": 2
           }
          ]
         }
        },
        {
         "name": "opp_elo_i",
         "dtype": "float64",
         "stats": {
          "unique_count": 2,
          "nan_count": 0,
          "min": "1300.0",
          "max": "1306.7233",
          "histogram": [
           {
            "bin_start": 1300,
            "bin_end": 1300.67233,
            "count": 4
           },
           {
            "bin_start": 1300.67233,
            "bin_end": 1301.34466,
            "count": 0
           },
           {
            "bin_start": 1301.34466,
            "bin_end": 1302.01699,
            "count": 0
           },
           {
            "bin_start": 1302.01699,
            "bin_end": 1302.68932,
            "count": 0
           },
           {
            "bin_start": 1302.68932,
            "bin_end": 1303.36165,
            "count": 0
           },
           {
            "bin_start": 1303.36165,
            "bin_end": 1304.0339800000002,
            "count": 0
           },
           {
            "bin_start": 1304.0339800000002,
            "bin_end": 1304.70631,
            "count": 0
           },
           {
            "bin_start": 1304.70631,
            "bin_end": 1305.3786400000001,
            "count": 0
           },
           {
            "bin_start": 1305.3786400000001,
            "bin_end": 1306.05097,
            "count": 0
           },
           {
            "bin_start": 1306.05097,
            "bin_end": 1306.7233,
            "count": 1
           }
          ]
         }
        },
        {
         "name": "opp_elo_n",
         "dtype": "float64",
         "stats": {
          "unique_count": 5,
          "nan_count": 0,
          "min": "1293.2767",
          "max": "1320.3811",
          "histogram": [
           {
            "bin_start": 1293.2767,
            "bin_end": 1295.98714,
            "count": 1
           },
           {
            "bin_start": 1295.98714,
            "bin_end": 1298.69758,
            "count": 1
           },
           {
            "bin_start": 1298.69758,
            "bin_end": 1301.4080199999999,
            "count": 0
           },
           {
            "bin_start": 1301.4080199999999,
            "bin_end": 1304.11846,
            "count": 0
           },
           {
            "bin_start": 1304.11846,
            "bin_end": 1306.8289,
            "count": 1
           },
           {
            "bin_start": 1306.8289,
            "bin_end": 1309.53934,
            "count": 0
           },
           {
            "bin_start": 1309.53934,
            "bin_end": 1312.24978,
            "count": 1
           },
           {
            "bin_start": 1312.24978,
            "bin_end": 1314.96022,
            "count": 0
           },
           {
            "bin_start": 1314.96022,
            "bin_end": 1317.67066,
            "count": 0
           },
           {
            "bin_start": 1317.67066,
            "bin_end": 1320.3811,
            "count": 1
           }
          ]
         }
        },
        {
         "name": "game_location",
         "dtype": "object",
         "stats": {
          "unique_count": 2,
          "nan_count": 0,
          "categories": [
           {
            "name": "H",
            "count": 3
           },
           {
            "name": "A",
            "count": 2
           }
          ]
         }
        },
        {
         "name": "game_result",
         "dtype": "object",
         "stats": {
          "unique_count": 2,
          "nan_count": 0,
          "categories": [
           {
            "name": "L",
            "count": 3
           },
           {
            "name": "W",
            "count": 2
           }
          ]
         }
        },
        {
         "name": "forecast",
         "dtype": "float64",
         "stats": {
          "unique_count": 4,
          "nan_count": 0,
          "min": "0.35993499",
          "max": "0.64006501",
          "histogram": [
           {
            "bin_start": 0.35993499,
            "bin_end": 0.387947992,
            "count": 2
           },
           {
            "bin_start": 0.387947992,
            "bin_end": 0.41596099400000003,
            "count": 0
           },
           {
            "bin_start": 0.41596099400000003,
            "bin_end": 0.443973996,
            "count": 0
           },
           {
            "bin_start": 0.443973996,
            "bin_end": 0.471986998,
            "count": 0
           },
           {
            "bin_start": 0.471986998,
            "bin_end": 0.5,
            "count": 0
           },
           {
            "bin_start": 0.5,
            "bin_end": 0.528013002,
            "count": 0
           },
           {
            "bin_start": 0.528013002,
            "bin_end": 0.556026004,
            "count": 0
           },
           {
            "bin_start": 0.556026004,
            "bin_end": 0.584039006,
            "count": 0
           },
           {
            "bin_start": 0.584039006,
            "bin_end": 0.612052008,
            "count": 0
           },
           {
            "bin_start": 0.612052008,
            "bin_end": 0.64006501,
            "count": 3
           }
          ]
         }
        },
        {
         "name": "notes",
         "dtype": "object",
         "stats": {
          "unique_count": 0,
          "nan_count": 5,
          "categories": [
           {
            "name": "Missing",
            "count": 5
           }
          ]
         }
        },
        {
         "name": "date_played",
         "dtype": "datetime64[ns]",
         "stats": {
          "unique_count": 2,
          "nan_count": 0,
          "min": "1946-11-01 00:00:00",
          "max": "1946-11-02 00:00:00",
          "histogram": [
           {
            "bin_start": -731116800000000000,
            "bin_end": -731108160000000000,
            "count": 2
           },
           {
            "bin_start": -731108160000000000,
            "bin_end": -731099520000000000,
            "count": 0
           },
           {
            "bin_start": -731099520000000000,
            "bin_end": -731090880000000000,
            "count": 0
           },
           {
            "bin_start": -731090880000000000,
            "bin_end": -731082240000000000,
            "count": 0
           },
           {
            "bin_start": -731082240000000000,
            "bin_end": -731073600000000000,
            "count": 0
           },
           {
            "bin_start": -731073600000000000,
            "bin_end": -731064960000000000,
            "count": 0
           },
           {
            "bin_start": -731064960000000000,
            "bin_end": -731056320000000000,
            "count": 0
           },
           {
            "bin_start": -731056320000000000,
            "bin_end": -731047680000000000,
            "count": 0
           },
           {
            "bin_start": -731047680000000000,
            "bin_end": -731039040000000000,
            "count": 0
           },
           {
            "bin_start": -731039040000000000,
            "bin_end": -731030400000000000,
            "count": 3
           }
          ]
         }
        },
        {
         "name": "difference",
         "dtype": "int64",
         "stats": {
          "unique_count": 5,
          "nan_count": 0,
          "min": "-17",
          "max": "16",
          "histogram": [
           {
            "bin_start": -17,
            "bin_end": -13.7,
            "count": 2
           },
           {
            "bin_start": -13.7,
            "bin_end": -10.4,
            "count": 0
           },
           {
            "bin_start": -10.4,
            "bin_end": -7.100000000000001,
            "count": 0
           },
           {
            "bin_start": -7.100000000000001,
            "bin_end": -3.8000000000000007,
            "count": 0
           },
           {
            "bin_start": -3.8000000000000007,
            "bin_end": -0.5,
            "count": 1
           },
           {
            "bin_start": -0.5,
            "bin_end": 2.799999999999997,
            "count": 1
           },
           {
            "bin_start": 2.799999999999997,
            "bin_end": 6.099999999999998,
            "count": 0
           },
           {
            "bin_start": 6.099999999999998,
            "bin_end": 9.399999999999999,
            "count": 0
           },
           {
            "bin_start": 9.399999999999999,
            "bin_end": 12.7,
            "count": 0
           },
           {
            "bin_start": 12.7,
            "bin_end": 16,
            "count": 1
           }
          ]
         }
        },
        {
         "name": "_deepnote_index_column",
         "dtype": "int64"
        }
       ],
       "rows": [
        {
         "gameorder": 1,
         "game_id": "194611010TRH",
         "lg_id": "NBA",
         "_iscopy": 0,
         "year_id": 1947,
         "date_game": "11/1/1946",
         "seasongame": 1,
         "is_playoffs": 0,
         "team_id": "TRH",
         "fran_id": "Huskies",
         "pts": 66,
         "elo_i": 1300,
         "elo_n": 1293.2767,
         "win_equiv": 40.29483,
         "opp_id": "NYK",
         "opp_fran": "Knicks",
         "opp_pts": 68,
         "opp_elo_i": 1300,
         "opp_elo_n": 1306.7233,
         "game_location": "H",
         "game_result": "L",
         "forecast": 0.64006501,
         "notes": "nan",
         "date_played": "1946-11-01T00:00:00.000000",
         "difference": -2,
         "_deepnote_index_column": 0
        },
        {
         "gameorder": 1,
         "game_id": "194611010TRH",
         "lg_id": "NBA",
         "_iscopy": 1,
         "year_id": 1947,
         "date_game": "11/1/1946",
         "seasongame": 1,
         "is_playoffs": 0,
         "team_id": "NYK",
         "fran_id": "Knicks",
         "pts": 68,
         "elo_i": 1300,
         "elo_n": 1306.7233,
         "win_equiv": 41.70517,
         "opp_id": "TRH",
         "opp_fran": "Huskies",
         "opp_pts": 66,
         "opp_elo_i": 1300,
         "opp_elo_n": 1293.2767,
         "game_location": "A",
         "game_result": "W",
         "forecast": 0.35993499,
         "notes": "nan",
         "date_played": "1946-11-01T00:00:00.000000",
         "difference": 2,
         "_deepnote_index_column": 1
        },
        {
         "gameorder": 2,
         "game_id": "194611020CHS",
         "lg_id": "NBA",
         "_iscopy": 0,
         "year_id": 1947,
         "date_game": "11/2/1946",
         "seasongame": 1,
         "is_playoffs": 0,
         "team_id": "CHS",
         "fran_id": "Stags",
         "pts": 63,
         "elo_i": 1300,
         "elo_n": 1309.6521,
         "win_equiv": 42.012257,
         "opp_id": "NYK",
         "opp_fran": "Knicks",
         "opp_pts": 47,
         "opp_elo_i": 1306.7233,
         "opp_elo_n": 1297.0712,
         "game_location": "H",
         "game_result": "W",
         "forecast": 0.63110125,
         "notes": "nan",
         "date_played": "1946-11-02T00:00:00.000000",
         "difference": 16,
         "_deepnote_index_column": 2
        },
        {
         "gameorder": 2,
         "game_id": "194611020CHS",
         "lg_id": "NBA",
         "_iscopy": 1,
         "year_id": 1947,
         "date_game": "11/2/1946",
         "seasongame": 2,
         "is_playoffs": 0,
         "team_id": "NYK",
         "fran_id": "Knicks",
         "pts": 47,
         "elo_i": 1306.7233,
         "elo_n": 1297.0712,
         "win_equiv": 40.692783,
         "opp_id": "CHS",
         "opp_fran": "Stags",
         "opp_pts": 63,
         "opp_elo_i": 1300,
         "opp_elo_n": 1309.6521,
         "game_location": "A",
         "game_result": "L",
         "forecast": 0.36889875,
         "notes": "nan",
         "date_played": "1946-11-02T00:00:00.000000",
         "difference": -16,
         "_deepnote_index_column": 3
        },
        {
         "gameorder": 3,
         "game_id": "194611020DTF",
         "lg_id": "NBA",
         "_iscopy": 0,
         "year_id": 1947,
         "date_game": "11/2/1946",
         "seasongame": 1,
         "is_playoffs": 0,
         "team_id": "DTF",
         "fran_id": "Falcons",
         "pts": 33,
         "elo_i": 1300,
         "elo_n": 1279.6189,
         "win_equiv": 38.864048,
         "opp_id": "WSC",
         "opp_fran": "Capitols",
         "opp_pts": 50,
         "opp_elo_i": 1300,
         "opp_elo_n": 1320.3811,
         "game_location": "H",
         "game_result": "L",
         "forecast": 0.64006501,
         "notes": "nan",
         "date_played": "1946-11-02T00:00:00.000000",
         "difference": -17,
         "_deepnote_index_column": 4
        }
       ]
      },
      "text/plain": "   gameorder       game_id lg_id  _iscopy  year_id  date_game  seasongame  \\\n0          1  194611010TRH   NBA        0     1947  11/1/1946           1   \n1          1  194611010TRH   NBA        1     1947  11/1/1946           1   \n2          2  194611020CHS   NBA        0     1947  11/2/1946           1   \n3          2  194611020CHS   NBA        1     1947  11/2/1946           2   \n4          3  194611020DTF   NBA        0     1947  11/2/1946           1   \n\n   is_playoffs team_id  fran_id  ...  opp_fran  opp_pts  opp_elo_i  opp_elo_n  \\\n0            0     TRH  Huskies  ...    Knicks       68  1300.0000  1306.7233   \n1            0     NYK   Knicks  ...   Huskies       66  1300.0000  1293.2767   \n2            0     CHS    Stags  ...    Knicks       47  1306.7233  1297.0712   \n3            0     NYK   Knicks  ...     Stags       63  1300.0000  1309.6521   \n4            0     DTF  Falcons  ...  Capitols       50  1300.0000  1320.3811   \n\n  game_location game_result  forecast  notes  date_played difference  \n0             H           L  0.640065    NaN   1946-11-01         -2  \n1             A           W  0.359935    NaN   1946-11-01          2  \n2             H           W  0.631101    NaN   1946-11-02         16  \n3             A           L  0.368899    NaN   1946-11-02        -16  \n4             H           L  0.640065    NaN   1946-11-02        -17  \n\n[5 rows x 25 columns]",
      "text/html": "<div>\n<style scoped>\n    .dataframe tbody tr th:only-of-type {\n        vertical-align: middle;\n    }\n\n    .dataframe tbody tr th {\n        vertical-align: top;\n    }\n\n    .dataframe thead th {\n        text-align: right;\n    }\n</style>\n<table border=\"1\" class=\"dataframe\">\n  <thead>\n    <tr style=\"text-align: right;\">\n      <th></th>\n      <th>gameorder</th>\n      <th>game_id</th>\n      <th>lg_id</th>\n      <th>_iscopy</th>\n      <th>year_id</th>\n      <th>date_game</th>\n      <th>seasongame</th>\n      <th>is_playoffs</th>\n      <th>team_id</th>\n      <th>fran_id</th>\n      <th>...</th>\n      <th>opp_fran</th>\n      <th>opp_pts</th>\n      <th>opp_elo_i</th>\n      <th>opp_elo_n</th>\n      <th>game_location</th>\n      <th>game_result</th>\n      <th>forecast</th>\n      <th>notes</th>\n      <th>date_played</th>\n      <th>difference</th>\n    </tr>\n  </thead>\n  <tbody>\n    <tr>\n      <th>0</th>\n      <td>1</td>\n      <td>194611010TRH</td>\n      <td>NBA</td>\n      <td>0</td>\n      <td>1947</td>\n      <td>11/1/1946</td>\n      <td>1</td>\n      <td>0</td>\n      <td>TRH</td>\n      <td>Huskies</td>\n      <td>...</td>\n      <td>Knicks</td>\n      <td>68</td>\n      <td>1300.0000</td>\n      <td>1306.7233</td>\n      <td>H</td>\n      <td>L</td>\n      <td>0.640065</td>\n      <td>NaN</td>\n      <td>1946-11-01</td>\n      <td>-2</td>\n    </tr>\n    <tr>\n      <th>1</th>\n      <td>1</td>\n      <td>194611010TRH</td>\n      <td>NBA</td>\n      <td>1</td>\n      <td>1947</td>\n      <td>11/1/1946</td>\n      <td>1</td>\n      <td>0</td>\n      <td>NYK</td>\n      <td>Knicks</td>\n      <td>...</td>\n      <td>Huskies</td>\n      <td>66</td>\n      <td>1300.0000</td>\n      <td>1293.2767</td>\n      <td>A</td>\n      <td>W</td>\n      <td>0.359935</td>\n      <td>NaN</td>\n      <td>1946-11-01</td>\n      <td>2</td>\n    </tr>\n    <tr>\n      <th>2</th>\n      <td>2</td>\n      <td>194611020CHS</td>\n      <td>NBA</td>\n      <td>0</td>\n      <td>1947</td>\n      <td>11/2/1946</td>\n      <td>1</td>\n      <td>0</td>\n      <td>CHS</td>\n      <td>Stags</td>\n      <td>...</td>\n      <td>Knicks</td>\n      <td>47</td>\n      <td>1306.7233</td>\n      <td>1297.0712</td>\n      <td>H</td>\n      <td>W</td>\n      <td>0.631101</td>\n      <td>NaN</td>\n      <td>1946-11-02</td>\n      <td>16</td>\n    </tr>\n    <tr>\n      <th>3</th>\n      <td>2</td>\n      <td>194611020CHS</td>\n      <td>NBA</td>\n      <td>1</td>\n      <td>1947</td>\n      <td>11/2/1946</td>\n      <td>2</td>\n      <td>0</td>\n      <td>NYK</td>\n      <td>Knicks</td>\n      <td>...</td>\n      <td>Stags</td>\n      <td>63</td>\n      <td>1300.0000</td>\n      <td>1309.6521</td>\n      <td>A</td>\n      <td>L</td>\n      <td>0.368899</td>\n      <td>NaN</td>\n      <td>1946-11-02</td>\n      <td>-16</td>\n    </tr>\n    <tr>\n      <th>4</th>\n      <td>3</td>\n      <td>194611020DTF</td>\n      <td>NBA</td>\n      <td>0</td>\n      <td>1947</td>\n      <td>11/2/1946</td>\n      <td>1</td>\n      <td>0</td>\n      <td>DTF</td>\n      <td>Falcons</td>\n      <td>...</td>\n      <td>Capitols</td>\n      <td>50</td>\n      <td>1300.0000</td>\n      <td>1320.3811</td>\n      <td>H</td>\n      <td>L</td>\n      <td>0.640065</td>\n      <td>NaN</td>\n      <td>1946-11-02</td>\n      <td>-17</td>\n    </tr>\n  </tbody>\n</table>\n<p>5 rows × 25 columns</p>\n</div>"
     },
     "metadata": {}
    }
   ],
   "execution_count": 41
  },
  {
   "cell_type": "code",
   "source": "#Finding the max value in the new column\ndf[\"difference\"].max()",
   "metadata": {
    "cell_id": "0a4637c2e750448299c4a970c76f27a9",
    "tags": [],
    "deepnote_to_be_reexecuted": false,
    "source_hash": "246ab9e8",
    "execution_start": 1656252420088,
    "execution_millis": 128557,
    "deepnote_cell_type": "code",
    "deepnote_cell_height": 136,
    "deepnote_output_heights": [
     21
    ]
   },
   "outputs": [
    {
     "output_type": "execute_result",
     "execution_count": 42,
     "data": {
      "text/plain": "68"
     },
     "metadata": {}
    }
   ],
   "execution_count": 42
  },
  {
   "cell_type": "code",
   "source": "# Drop Columns\nelo_columns = [\"elo_i\", \"elo_n\", \"opp_elo_i\", \"opp_elo_n\"]\ndf.drop(elo_columns, inplace=True, axis=1)\ndf.shape",
   "metadata": {
    "cell_id": "13a5d65c4ca8404b860dc3efda4e9174",
    "tags": [],
    "deepnote_to_be_reexecuted": false,
    "source_hash": "5ced430b",
    "execution_start": 1656252420139,
    "execution_millis": 2,
    "deepnote_cell_type": "code",
    "deepnote_cell_height": 172,
    "deepnote_output_heights": [
     21
    ]
   },
   "outputs": [
    {
     "output_type": "execute_result",
     "execution_count": 43,
     "data": {
      "text/plain": "(126314, 21)"
     },
     "metadata": {}
    }
   ],
   "execution_count": 43
  },
  {
   "cell_type": "markdown",
   "source": "# Specifying Data Types",
   "metadata": {
    "cell_id": "a8b1240b4e5e4152a6fecd28c76d78b8",
    "tags": [],
    "is_collapsed": false,
    "formattedRanges": [],
    "deepnote_cell_type": "text-cell-h1"
   }
  },
  {
   "cell_type": "code",
   "source": "# date time\ndf[\"date_game\"] = pd.to_datetime(df[\"date_game\"])",
   "metadata": {
    "cell_id": "0b1bb998754f4dfab0738ad7469da620",
    "tags": [],
    "deepnote_to_be_reexecuted": false,
    "source_hash": "3df71cf3",
    "execution_start": 1656252518686,
    "execution_millis": 1290,
    "deepnote_cell_type": "code",
    "deepnote_cell_height": 99
   },
   "outputs": [],
   "execution_count": 44
  },
  {
   "cell_type": "code",
   "source": "df[\"game_location\"].nunique()",
   "metadata": {
    "cell_id": "a69a6e1f5ab7459b90ce40d46708da66",
    "tags": [],
    "deepnote_to_be_reexecuted": false,
    "source_hash": "a3df0303",
    "execution_start": 1656252578135,
    "execution_millis": 2,
    "deepnote_cell_type": "code",
    "deepnote_cell_height": 118,
    "deepnote_output_heights": [
     21
    ]
   },
   "outputs": [
    {
     "output_type": "execute_result",
     "execution_count": 45,
     "data": {
      "text/plain": "3"
     },
     "metadata": {}
    }
   ],
   "execution_count": 45
  },
  {
   "cell_type": "code",
   "source": "df[\"game_location\"].value_counts()",
   "metadata": {
    "cell_id": "1f56cd4e71cd4c4e846c609bcf5de139",
    "tags": [],
    "deepnote_to_be_reexecuted": false,
    "source_hash": "cc79f423",
    "execution_start": 1656252597838,
    "execution_millis": 41,
    "deepnote_cell_type": "code",
    "deepnote_cell_height": 175,
    "deepnote_output_heights": [
     78
    ]
   },
   "outputs": [
    {
     "output_type": "execute_result",
     "execution_count": 46,
     "data": {
      "text/plain": "H    63138\nA    63138\nN       38\nName: game_location, dtype: int64"
     },
     "metadata": {}
    }
   ],
   "execution_count": 46
  },
  {
   "cell_type": "markdown",
   "source": "### Categorical TYPE",
   "metadata": {
    "cell_id": "a8ebaebd7dcd4543bd29f4ab099c0a05",
    "tags": [],
    "is_collapsed": false,
    "formattedRanges": [],
    "deepnote_cell_type": "text-cell-h3"
   }
  },
  {
   "cell_type": "markdown",
   "source": "categorical&nbsp;data&nbsp;has a few advantages over unstructured text. When you specify the&nbsp;categorical&nbsp;data type, you make validation easier and save a ton of memory, as Pandas will only use the unique values internally. The higher the ratio of total values to unique values, the more space savings you’ll get.Run&nbsp;df.info()&nbsp;again. You should see that changing the&nbsp;game_location&nbsp;data type from&nbsp;object&nbsp;to&nbsp;categorical&nbsp;has decreased the memory usage.Note:&nbsp;The&nbsp;categorical&nbsp;data type also gives you access to additional methods through the&nbsp;.cat&nbsp;accessor. To learn more, check out the&nbsp;official docs.",
   "metadata": {
    "cell_id": "437d6735aab94e62a66b714e7db424d7",
    "tags": [],
    "is_collapsed": false,
    "formattedRanges": [],
    "deepnote_cell_type": "text-cell-p"
   }
  },
  {
   "cell_type": "code",
   "source": "df[\"game_location\"] = pd.Categorical(df[\"game_location\"])\ndf[\"game_location\"].dtype",
   "metadata": {
    "cell_id": "fc8885469ae84a469247713de21a9e2a",
    "tags": [],
    "deepnote_to_be_reexecuted": false,
    "source_hash": "b75f74a0",
    "execution_start": 1656252696138,
    "execution_millis": 6,
    "deepnote_cell_type": "code",
    "deepnote_cell_height": 136,
    "deepnote_output_heights": [
     21
    ]
   },
   "outputs": [
    {
     "output_type": "execute_result",
     "execution_count": 47,
     "data": {
      "text/plain": "CategoricalDtype(categories=['A', 'H', 'N'], ordered=False)"
     },
     "metadata": {}
    }
   ],
   "execution_count": 47
  },
  {
   "cell_type": "code",
   "source": "df.info()",
   "metadata": {
    "cell_id": "0486dc1312054d49ba3affc29e3168e8",
    "tags": [],
    "deepnote_to_be_reexecuted": false,
    "source_hash": "de1e323c",
    "execution_start": 1656252712981,
    "execution_millis": 147,
    "deepnote_cell_type": "code",
    "deepnote_cell_height": 652
   },
   "outputs": [
    {
     "name": "stdout",
     "text": "<class 'pandas.core.frame.DataFrame'>\nRangeIndex: 126314 entries, 0 to 126313\nData columns (total 21 columns):\n #   Column         Non-Null Count   Dtype         \n---  ------         --------------   -----         \n 0   gameorder      126314 non-null  int64         \n 1   game_id        126314 non-null  object        \n 2   lg_id          126314 non-null  object        \n 3   _iscopy        126314 non-null  int64         \n 4   year_id        126314 non-null  int64         \n 5   date_game      126314 non-null  datetime64[ns]\n 6   seasongame     126314 non-null  int64         \n 7   is_playoffs    126314 non-null  int64         \n 8   team_id        126314 non-null  object        \n 9   fran_id        126314 non-null  object        \n 10  pts            126314 non-null  int64         \n 11  win_equiv      126314 non-null  float64       \n 12  opp_id         126314 non-null  object        \n 13  opp_fran       126314 non-null  object        \n 14  opp_pts        126314 non-null  int64         \n 15  game_location  126314 non-null  category      \n 16  game_result    126314 non-null  object        \n 17  forecast       126314 non-null  float64       \n 18  notes          5424 non-null    object        \n 19  date_played    126314 non-null  datetime64[ns]\n 20  difference     126314 non-null  int64         \ndtypes: category(1), datetime64[ns](2), float64(2), int64(8), object(8)\nmemory usage: 19.4+ MB\n",
     "output_type": "stream"
    }
   ],
   "execution_count": 48
  },
  {
   "cell_type": "code",
   "source": "df[\"game_result\"] = pd.Categorical(df[\"game_result\"])",
   "metadata": {
    "cell_id": "aefceaf6c40d440f9ef614d82376d947",
    "tags": [],
    "deepnote_to_be_reexecuted": false,
    "source_hash": "c3d07432",
    "execution_start": 1656253030763,
    "execution_millis": 1,
    "deepnote_cell_type": "code",
    "deepnote_cell_height": 81
   },
   "outputs": [],
   "execution_count": 49
  },
  {
   "cell_type": "code",
   "source": "df['game_result'].value_counts()",
   "metadata": {
    "cell_id": "c15d43c92cd1483abf4c18c220cbac7e",
    "tags": [],
    "deepnote_to_be_reexecuted": false,
    "source_hash": "c6987dd",
    "execution_start": 1656253094148,
    "execution_millis": 23,
    "deepnote_cell_type": "code",
    "deepnote_cell_height": 156,
    "deepnote_output_heights": [
     59
    ]
   },
   "outputs": [
    {
     "output_type": "execute_result",
     "execution_count": 51,
     "data": {
      "text/plain": "L    63157\nW    63157\nName: game_result, dtype: int64"
     },
     "metadata": {}
    }
   ],
   "execution_count": 51
  },
  {
   "cell_type": "code",
   "source": "df.info()",
   "metadata": {
    "cell_id": "34bfd08521e8456d986ab79bebbf47e9",
    "tags": [],
    "deepnote_to_be_reexecuted": false,
    "source_hash": "de1e323c",
    "execution_start": 1656253122527,
    "execution_millis": 126,
    "deepnote_cell_type": "code",
    "deepnote_cell_height": 652
   },
   "outputs": [
    {
     "name": "stdout",
     "text": "<class 'pandas.core.frame.DataFrame'>\nRangeIndex: 126314 entries, 0 to 126313\nData columns (total 21 columns):\n #   Column         Non-Null Count   Dtype         \n---  ------         --------------   -----         \n 0   gameorder      126314 non-null  int64         \n 1   game_id        126314 non-null  object        \n 2   lg_id          126314 non-null  object        \n 3   _iscopy        126314 non-null  int64         \n 4   year_id        126314 non-null  int64         \n 5   date_game      126314 non-null  datetime64[ns]\n 6   seasongame     126314 non-null  int64         \n 7   is_playoffs    126314 non-null  int64         \n 8   team_id        126314 non-null  object        \n 9   fran_id        126314 non-null  object        \n 10  pts            126314 non-null  int64         \n 11  win_equiv      126314 non-null  float64       \n 12  opp_id         126314 non-null  object        \n 13  opp_fran       126314 non-null  object        \n 14  opp_pts        126314 non-null  int64         \n 15  game_location  126314 non-null  category      \n 16  game_result    126314 non-null  category      \n 17  forecast       126314 non-null  float64       \n 18  notes          5424 non-null    object        \n 19  date_played    126314 non-null  datetime64[ns]\n 20  difference     126314 non-null  int64         \ndtypes: category(2), datetime64[ns](2), float64(2), int64(8), object(7)\nmemory usage: 18.6+ MB\n",
     "output_type": "stream"
    }
   ],
   "execution_count": 52
  },
  {
   "cell_type": "markdown",
   "source": "# Cleaning Data",
   "metadata": {
    "cell_id": "896fdcb7af4f4bf2ae666c979113ec75",
    "tags": [],
    "is_collapsed": false,
    "formattedRanges": [],
    "deepnote_cell_type": "text-cell-h1"
   }
  },
  {
   "cell_type": "markdown",
   "source": "## Missing Data .dropna()",
   "metadata": {
    "cell_id": "36e6a9271d08452bb391962e211275fc",
    "tags": [],
    "is_collapsed": false,
    "formattedRanges": [],
    "deepnote_cell_type": "text-cell-h2"
   }
  },
  {
   "cell_type": "markdown",
   "source": "Sometimes, the easiest way to deal with records containing missing values is to ignore them. You can remove all the rows with missing values using&nbsp;.dropna():",
   "metadata": {
    "cell_id": "d404be36765646c8aa5c316f49944cd6",
    "tags": [],
    "is_collapsed": false,
    "formattedRanges": [],
    "deepnote_cell_type": "text-cell-p"
   }
  },
  {
   "cell_type": "code",
   "source": "rows_without_missing_data = nba.dropna()\nrows_without_missing_data.shape",
   "metadata": {
    "cell_id": "41a61cf49ebd418488764ca5aacd2040",
    "tags": [],
    "deepnote_to_be_reexecuted": false,
    "source_hash": "b90b2329",
    "execution_start": 1656253368841,
    "execution_millis": 112,
    "deepnote_cell_type": "code",
    "deepnote_cell_height": 136,
    "deepnote_output_heights": [
     21
    ]
   },
   "outputs": [
    {
     "output_type": "execute_result",
     "execution_count": 53,
     "data": {
      "text/plain": "(5424, 24)"
     },
     "metadata": {}
    }
   ],
   "execution_count": 53
  },
  {
   "cell_type": "markdown",
   "source": "You can also drop problematic columns if they’re not relevant for your analysis. To do this, use&nbsp;.dropna()&nbsp;again and provide the&nbsp;axis=1&nbsp;parameter:",
   "metadata": {
    "cell_id": "d71e2c0f1c974301bf228cde105958c0",
    "tags": [],
    "is_collapsed": false,
    "formattedRanges": [],
    "deepnote_cell_type": "text-cell-p"
   }
  },
  {
   "cell_type": "code",
   "source": "data_without_missing_columns = nba.dropna(axis=1)\ndata_without_missing_columns.shape",
   "metadata": {
    "cell_id": "e8b3593f55bf47b1a74ba12846d2bb30",
    "tags": [],
    "deepnote_to_be_reexecuted": false,
    "source_hash": "bd08ee97",
    "execution_start": 1656253462032,
    "execution_millis": 127,
    "deepnote_cell_type": "code",
    "deepnote_cell_height": 136,
    "deepnote_output_heights": [
     21
    ]
   },
   "outputs": [
    {
     "output_type": "execute_result",
     "execution_count": 54,
     "data": {
      "text/plain": "(126314, 23)"
     },
     "metadata": {}
    }
   ],
   "execution_count": 54
  },
  {
   "cell_type": "markdown",
   "source": "### Fill empty cells with .fillna(value = 'my text', inplace=True)",
   "metadata": {
    "cell_id": "3e805cdec46742a39333e076e8a3e85d",
    "tags": [],
    "is_collapsed": false,
    "formattedRanges": [],
    "deepnote_cell_type": "text-cell-h3"
   }
  },
  {
   "cell_type": "markdown",
   "source": "If there’s a meaningful default value for your use case, then you can also replace the missing values with that:",
   "metadata": {
    "cell_id": "af874b83e2d549ac97a5eb275b237999",
    "tags": [],
    "is_collapsed": false,
    "formattedRanges": [],
    "deepnote_cell_type": "text-cell-p"
   }
  },
  {
   "cell_type": "code",
   "source": "data_with_default_notes = nba.copy()\ndata_with_default_notes[\"notes\"].fillna(\n    value=\"no notes at all\",\n    inplace=True\n)\ndata_with_default_notes[\"notes\"].describe()",
   "metadata": {
    "cell_id": "fc212f964f634259ad6ffd427d5fced8",
    "tags": [],
    "deepnote_to_be_reexecuted": false,
    "source_hash": "46770041",
    "execution_start": 1656253648211,
    "execution_millis": 32,
    "deepnote_cell_type": "code",
    "deepnote_cell_height": 284,
    "deepnote_output_heights": [
     97
    ]
   },
   "outputs": [
    {
     "output_type": "execute_result",
     "execution_count": 55,
     "data": {
      "text/plain": "count              126314\nunique                232\ntop       no notes at all\nfreq               120890\nName: notes, dtype: object"
     },
     "metadata": {}
    }
   ],
   "execution_count": 55
  },
  {
   "cell_type": "markdown",
   "source": "### Invalid values",
   "metadata": {
    "cell_id": "56a523da7c794b7b8f72cbea499b6e65",
    "tags": [],
    "is_collapsed": false,
    "formattedRanges": [],
    "deepnote_cell_type": "text-cell-h3"
   }
  },
  {
   "cell_type": "code",
   "source": "nba[nba[\"pts\"] == 0]",
   "metadata": {
    "cell_id": "add9e19f800845fba3b5b1b4c576de96",
    "tags": [],
    "deepnote_to_be_reexecuted": false,
    "source_hash": "e309b399",
    "execution_start": 1656253841039,
    "execution_millis": 74,
    "deepnote_cell_type": "code",
    "deepnote_cell_height": 246
   },
   "outputs": [
    {
     "output_type": "execute_result",
     "execution_count": 56,
     "data": {
      "application/vnd.deepnote.dataframe.v3+json": {
       "column_count": 24,
       "row_count": 1,
       "columns": [
        {
         "name": "gameorder",
         "dtype": "int64",
         "stats": {
          "unique_count": 1,
          "nan_count": 0,
          "min": "13343",
          "max": "13343",
          "histogram": [
           {
            "bin_start": 13342.5,
            "bin_end": 13342.6,
            "count": 0
           },
           {
            "bin_start": 13342.6,
            "bin_end": 13342.7,
            "count": 0
           },
           {
            "bin_start": 13342.7,
            "bin_end": 13342.8,
            "count": 0
           },
           {
            "bin_start": 13342.8,
            "bin_end": 13342.9,
            "count": 0
           },
           {
            "bin_start": 13342.9,
            "bin_end": 13343,
            "count": 0
           },
           {
            "bin_start": 13343,
            "bin_end": 13343.1,
            "count": 1
           },
           {
            "bin_start": 13343.1,
            "bin_end": 13343.2,
            "count": 0
           },
           {
            "bin_start": 13343.2,
            "bin_end": 13343.3,
            "count": 0
           },
           {
            "bin_start": 13343.3,
            "bin_end": 13343.4,
            "count": 0
           },
           {
            "bin_start": 13343.4,
            "bin_end": 13343.5,
            "count": 0
           }
          ]
         }
        },
        {
         "name": "game_id",
         "dtype": "object",
         "stats": {
          "unique_count": 1,
          "nan_count": 0,
          "categories": [
           {
            "name": "197210260VIR",
            "count": 1
           }
          ]
         }
        },
        {
         "name": "lg_id",
         "dtype": "object",
         "stats": {
          "unique_count": 1,
          "nan_count": 0,
          "categories": [
           {
            "name": "ABA",
            "count": 1
           }
          ]
         }
        },
        {
         "name": "_iscopy",
         "dtype": "int64",
         "stats": {
          "unique_count": 1,
          "nan_count": 0,
          "min": "1",
          "max": "1",
          "histogram": [
           {
            "bin_start": 0.5,
            "bin_end": 0.6,
            "count": 0
           },
           {
            "bin_start": 0.6,
            "bin_end": 0.7,
            "count": 0
           },
           {
            "bin_start": 0.7,
            "bin_end": 0.8,
            "count": 0
           },
           {
            "bin_start": 0.8,
            "bin_end": 0.9,
            "count": 0
           },
           {
            "bin_start": 0.9,
            "bin_end": 1,
            "count": 0
           },
           {
            "bin_start": 1,
            "bin_end": 1.1,
            "count": 1
           },
           {
            "bin_start": 1.1,
            "bin_end": 1.2000000000000002,
            "count": 0
           },
           {
            "bin_start": 1.2000000000000002,
            "bin_end": 1.3,
            "count": 0
           },
           {
            "bin_start": 1.3,
            "bin_end": 1.4,
            "count": 0
           },
           {
            "bin_start": 1.4,
            "bin_end": 1.5,
            "count": 0
           }
          ]
         }
        },
        {
         "name": "year_id",
         "dtype": "int64",
         "stats": {
          "unique_count": 1,
          "nan_count": 0,
          "min": "1973",
          "max": "1973",
          "histogram": [
           {
            "bin_start": 1972.5,
            "bin_end": 1972.6,
            "count": 0
           },
           {
            "bin_start": 1972.6,
            "bin_end": 1972.7,
            "count": 0
           },
           {
            "bin_start": 1972.7,
            "bin_end": 1972.8,
            "count": 0
           },
           {
            "bin_start": 1972.8,
            "bin_end": 1972.9,
            "count": 0
           },
           {
            "bin_start": 1972.9,
            "bin_end": 1973,
            "count": 0
           },
           {
            "bin_start": 1973,
            "bin_end": 1973.1,
            "count": 1
           },
           {
            "bin_start": 1973.1,
            "bin_end": 1973.2,
            "count": 0
           },
           {
            "bin_start": 1973.2,
            "bin_end": 1973.3,
            "count": 0
           },
           {
            "bin_start": 1973.3,
            "bin_end": 1973.4,
            "count": 0
           },
           {
            "bin_start": 1973.4,
            "bin_end": 1973.5,
            "count": 0
           }
          ]
         }
        },
        {
         "name": "date_game",
         "dtype": "object",
         "stats": {
          "unique_count": 1,
          "nan_count": 0,
          "categories": [
           {
            "name": "10/26/1972",
            "count": 1
           }
          ]
         }
        },
        {
         "name": "seasongame",
         "dtype": "int64",
         "stats": {
          "unique_count": 1,
          "nan_count": 0,
          "min": "7",
          "max": "7",
          "histogram": [
           {
            "bin_start": 6.5,
            "bin_end": 6.6,
            "count": 0
           },
           {
            "bin_start": 6.6,
            "bin_end": 6.7,
            "count": 0
           },
           {
            "bin_start": 6.7,
            "bin_end": 6.8,
            "count": 0
           },
           {
            "bin_start": 6.8,
            "bin_end": 6.9,
            "count": 0
           },
           {
            "bin_start": 6.9,
            "bin_end": 7,
            "count": 0
           },
           {
            "bin_start": 7,
            "bin_end": 7.1,
            "count": 1
           },
           {
            "bin_start": 7.1,
            "bin_end": 7.2,
            "count": 0
           },
           {
            "bin_start": 7.2,
            "bin_end": 7.3,
            "count": 0
           },
           {
            "bin_start": 7.3,
            "bin_end": 7.4,
            "count": 0
           },
           {
            "bin_start": 7.4,
            "bin_end": 7.5,
            "count": 0
           }
          ]
         }
        },
        {
         "name": "is_playoffs",
         "dtype": "int64",
         "stats": {
          "unique_count": 1,
          "nan_count": 0,
          "min": "0",
          "max": "0",
          "histogram": [
           {
            "bin_start": -0.5,
            "bin_end": -0.4,
            "count": 0
           },
           {
            "bin_start": -0.4,
            "bin_end": -0.3,
            "count": 0
           },
           {
            "bin_start": -0.3,
            "bin_end": -0.19999999999999996,
            "count": 0
           },
           {
            "bin_start": -0.19999999999999996,
            "bin_end": -0.09999999999999998,
            "count": 0
           },
           {
            "bin_start": -0.09999999999999998,
            "bin_end": 0,
            "count": 0
           },
           {
            "bin_start": 0,
            "bin_end": 0.10000000000000009,
            "count": 1
           },
           {
            "bin_start": 0.10000000000000009,
            "bin_end": 0.20000000000000007,
            "count": 0
           },
           {
            "bin_start": 0.20000000000000007,
            "bin_end": 0.30000000000000004,
            "count": 0
           },
           {
            "bin_start": 0.30000000000000004,
            "bin_end": 0.4,
            "count": 0
           },
           {
            "bin_start": 0.4,
            "bin_end": 0.5,
            "count": 0
           }
          ]
         }
        },
        {
         "name": "team_id",
         "dtype": "object",
         "stats": {
          "unique_count": 1,
          "nan_count": 0,
          "categories": [
           {
            "name": "DNR",
            "count": 1
           }
          ]
         }
        },
        {
         "name": "fran_id",
         "dtype": "object",
         "stats": {
          "unique_count": 1,
          "nan_count": 0,
          "categories": [
           {
            "name": "Nuggets",
            "count": 1
           }
          ]
         }
        },
        {
         "name": "pts",
         "dtype": "int64",
         "stats": {
          "unique_count": 1,
          "nan_count": 0,
          "min": "0",
          "max": "0",
          "histogram": [
           {
            "bin_start": -0.5,
            "bin_end": -0.4,
            "count": 0
           },
           {
            "bin_start": -0.4,
            "bin_end": -0.3,
            "count": 0
           },
           {
            "bin_start": -0.3,
            "bin_end": -0.19999999999999996,
            "count": 0
           },
           {
            "bin_start": -0.19999999999999996,
            "bin_end": -0.09999999999999998,
            "count": 0
           },
           {
            "bin_start": -0.09999999999999998,
            "bin_end": 0,
            "count": 0
           },
           {
            "bin_start": 0,
            "bin_end": 0.10000000000000009,
            "count": 1
           },
           {
            "bin_start": 0.10000000000000009,
            "bin_end": 0.20000000000000007,
            "count": 0
           },
           {
            "bin_start": 0.20000000000000007,
            "bin_end": 0.30000000000000004,
            "count": 0
           },
           {
            "bin_start": 0.30000000000000004,
            "bin_end": 0.4,
            "count": 0
           },
           {
            "bin_start": 0.4,
            "bin_end": 0.5,
            "count": 0
           }
          ]
         }
        },
        {
         "name": "elo_i",
         "dtype": "float64",
         "stats": {
          "unique_count": 1,
          "nan_count": 0,
          "min": "1460.3387",
          "max": "1460.3387",
          "histogram": [
           {
            "bin_start": 1459.8387,
            "bin_end": 1459.9387,
            "count": 0
           },
           {
            "bin_start": 1459.9387,
            "bin_end": 1460.0387,
            "count": 0
           },
           {
            "bin_start": 1460.0387,
            "bin_end": 1460.1387,
            "count": 0
           },
           {
            "bin_start": 1460.1387,
            "bin_end": 1460.2387,
            "count": 0
           },
           {
            "bin_start": 1460.2387,
            "bin_end": 1460.3387,
            "count": 0
           },
           {
            "bin_start": 1460.3387,
            "bin_end": 1460.4387,
            "count": 1
           },
           {
            "bin_start": 1460.4387,
            "bin_end": 1460.5387,
            "count": 0
           },
           {
            "bin_start": 1460.5387,
            "bin_end": 1460.6387,
            "count": 0
           },
           {
            "bin_start": 1460.6387,
            "bin_end": 1460.7387,
            "count": 0
           },
           {
            "bin_start": 1460.7387,
            "bin_end": 1460.8387,
            "count": 0
           }
          ]
         }
        },
        {
         "name": "elo_n",
         "dtype": "float64",
         "stats": {
          "unique_count": 1,
          "nan_count": 0,
          "min": "1457.4464",
          "max": "1457.4464",
          "histogram": [
           {
            "bin_start": 1456.9464,
            "bin_end": 1457.0464,
            "count": 0
           },
           {
            "bin_start": 1457.0464,
            "bin_end": 1457.1464,
            "count": 0
           },
           {
            "bin_start": 1457.1464,
            "bin_end": 1457.2464,
            "count": 0
           },
           {
            "bin_start": 1457.2464,
            "bin_end": 1457.3464000000001,
            "count": 0
           },
           {
            "bin_start": 1457.3464000000001,
            "bin_end": 1457.4464,
            "count": 0
           },
           {
            "bin_start": 1457.4464,
            "bin_end": 1457.5464,
            "count": 1
           },
           {
            "bin_start": 1457.5464,
            "bin_end": 1457.6464,
            "count": 0
           },
           {
            "bin_start": 1457.6464,
            "bin_end": 1457.7464,
            "count": 0
           },
           {
            "bin_start": 1457.7464,
            "bin_end": 1457.8464000000001,
            "count": 0
           },
           {
            "bin_start": 1457.8464000000001,
            "bin_end": 1457.9464,
            "count": 0
           }
          ]
         }
        },
        {
         "name": "win_equiv",
         "dtype": "float64",
         "stats": {
          "unique_count": 1,
          "nan_count": 0,
          "min": "40.408863",
          "max": "40.408863",
          "histogram": [
           {
            "bin_start": 39.908863,
            "bin_end": 40.008863,
            "count": 0
           },
           {
            "bin_start": 40.008863,
            "bin_end": 40.108863,
            "count": 0
           },
           {
            "bin_start": 40.108863,
            "bin_end": 40.208862999999994,
            "count": 0
           },
           {
            "bin_start": 40.208862999999994,
            "bin_end": 40.308862999999995,
            "count": 0
           },
           {
            "bin_start": 40.308862999999995,
            "bin_end": 40.408863,
            "count": 0
           },
           {
            "bin_start": 40.408863,
            "bin_end": 40.508863,
            "count": 1
           },
           {
            "bin_start": 40.508863,
            "bin_end": 40.608863,
            "count": 0
           },
           {
            "bin_start": 40.608863,
            "bin_end": 40.708862999999994,
            "count": 0
           },
           {
            "bin_start": 40.708862999999994,
            "bin_end": 40.808862999999995,
            "count": 0
           },
           {
            "bin_start": 40.808862999999995,
            "bin_end": 40.908863,
            "count": 0
           }
          ]
         }
        },
        {
         "name": "opp_id",
         "dtype": "object",
         "stats": {
          "unique_count": 1,
          "nan_count": 0,
          "categories": [
           {
            "name": "VIR",
            "count": 1
           }
          ]
         }
        },
        {
         "name": "opp_fran",
         "dtype": "object",
         "stats": {
          "unique_count": 1,
          "nan_count": 0,
          "categories": [
           {
            "name": "Squires",
            "count": 1
           }
          ]
         }
        },
        {
         "name": "opp_pts",
         "dtype": "int64",
         "stats": {
          "unique_count": 1,
          "nan_count": 0,
          "min": "2",
          "max": "2",
          "histogram": [
           {
            "bin_start": 1.5,
            "bin_end": 1.6,
            "count": 0
           },
           {
            "bin_start": 1.6,
            "bin_end": 1.7,
            "count": 0
           },
           {
            "bin_start": 1.7,
            "bin_end": 1.8,
            "count": 0
           },
           {
            "bin_start": 1.8,
            "bin_end": 1.9,
            "count": 0
           },
           {
            "bin_start": 1.9,
            "bin_end": 2,
            "count": 0
           },
           {
            "bin_start": 2,
            "bin_end": 2.1,
            "count": 1
           },
           {
            "bin_start": 2.1,
            "bin_end": 2.2,
            "count": 0
           },
           {
            "bin_start": 2.2,
            "bin_end": 2.3,
            "count": 0
           },
           {
            "bin_start": 2.3,
            "bin_end": 2.4,
            "count": 0
           },
           {
            "bin_start": 2.4,
            "bin_end": 2.5,
            "count": 0
           }
          ]
         }
        },
        {
         "name": "opp_elo_i",
         "dtype": "float64",
         "stats": {
          "unique_count": 1,
          "nan_count": 0,
          "min": "1484.1907",
          "max": "1484.1907",
          "histogram": [
           {
            "bin_start": 1483.6907,
            "bin_end": 1483.7907,
            "count": 0
           },
           {
            "bin_start": 1483.7907,
            "bin_end": 1483.8907000000002,
            "count": 0
           },
           {
            "bin_start": 1483.8907000000002,
            "bin_end": 1483.9907,
            "count": 0
           },
           {
            "bin_start": 1483.9907,
            "bin_end": 1484.0907000000002,
            "count": 0
           },
           {
            "bin_start": 1484.0907000000002,
            "bin_end": 1484.1907,
            "count": 0
           },
           {
            "bin_start": 1484.1907,
            "bin_end": 1484.2907,
            "count": 1
           },
           {
            "bin_start": 1484.2907,
            "bin_end": 1484.3907000000002,
            "count": 0
           },
           {
            "bin_start": 1484.3907000000002,
            "bin_end": 1484.4907,
            "count": 0
           },
           {
            "bin_start": 1484.4907,
            "bin_end": 1484.5907000000002,
            "count": 0
           },
           {
            "bin_start": 1484.5907000000002,
            "bin_end": 1484.6907,
            "count": 0
           }
          ]
         }
        },
        {
         "name": "opp_elo_n",
         "dtype": "float64",
         "stats": {
          "unique_count": 1,
          "nan_count": 0,
          "min": "1487.083",
          "max": "1487.083",
          "histogram": [
           {
            "bin_start": 1486.583,
            "bin_end": 1486.683,
            "count": 0
           },
           {
            "bin_start": 1486.683,
            "bin_end": 1486.7830000000001,
            "count": 0
           },
           {
            "bin_start": 1486.7830000000001,
            "bin_end": 1486.883,
            "count": 0
           },
           {
            "bin_start": 1486.883,
            "bin_end": 1486.9830000000002,
            "count": 0
           },
           {
            "bin_start": 1486.9830000000002,
            "bin_end": 1487.083,
            "count": 0
           },
           {
            "bin_start": 1487.083,
            "bin_end": 1487.183,
            "count": 1
           },
           {
            "bin_start": 1487.183,
            "bin_end": 1487.2830000000001,
            "count": 0
           },
           {
            "bin_start": 1487.2830000000001,
            "bin_end": 1487.383,
            "count": 0
           },
           {
            "bin_start": 1487.383,
            "bin_end": 1487.4830000000002,
            "count": 0
           },
           {
            "bin_start": 1487.4830000000002,
            "bin_end": 1487.583,
            "count": 0
           }
          ]
         }
        },
        {
         "name": "game_location",
         "dtype": "object",
         "stats": {
          "unique_count": 1,
          "nan_count": 0,
          "categories": [
           {
            "name": "A",
            "count": 1
           }
          ]
         }
        },
        {
         "name": "game_result",
         "dtype": "object",
         "stats": {
          "unique_count": 1,
          "nan_count": 0,
          "categories": [
           {
            "name": "L",
            "count": 1
           }
          ]
         }
        },
        {
         "name": "forecast",
         "dtype": "float64",
         "stats": {
          "unique_count": 1,
          "nan_count": 0,
          "min": "0.32894754",
          "max": "0.32894754",
          "histogram": [
           {
            "bin_start": -0.17105246000000002,
            "bin_end": -0.07105246000000001,
            "count": 0
           },
           {
            "bin_start": -0.07105246000000001,
            "bin_end": 0.028947539999999994,
            "count": 0
           },
           {
            "bin_start": 0.028947539999999994,
            "bin_end": 0.12894754000000003,
            "count": 0
           },
           {
            "bin_start": 0.12894754000000003,
            "bin_end": 0.22894754,
            "count": 0
           },
           {
            "bin_start": 0.22894754,
            "bin_end": 0.32894754,
            "count": 0
           },
           {
            "bin_start": 0.32894754,
            "bin_end": 0.42894754000000007,
            "count": 1
           },
           {
            "bin_start": 0.42894754000000007,
            "bin_end": 0.5289475400000001,
            "count": 0
           },
           {
            "bin_start": 0.5289475400000001,
            "bin_end": 0.62894754,
            "count": 0
           },
           {
            "bin_start": 0.62894754,
            "bin_end": 0.7289475400000001,
            "count": 0
           },
           {
            "bin_start": 0.7289475400000001,
            "bin_end": 0.8289475399999999,
            "count": 0
           }
          ]
         }
        },
        {
         "name": "notes",
         "dtype": "object",
         "stats": {
          "unique_count": 1,
          "nan_count": 0,
          "categories": [
           {
            "name": "at Richmond VA; forfeit to VIR",
            "count": 1
           }
          ]
         }
        },
        {
         "name": "date_played",
         "dtype": "datetime64[ns]",
         "stats": {
          "unique_count": 1,
          "nan_count": 0,
          "min": "1972-10-26 00:00:00",
          "max": "1972-10-26 00:00:00",
          "histogram": null
         }
        },
        {
         "name": "_deepnote_index_column",
         "dtype": "int64"
        }
       ],
       "rows": [
        {
         "gameorder": 13343,
         "game_id": "197210260VIR",
         "lg_id": "ABA",
         "_iscopy": 1,
         "year_id": 1973,
         "date_game": "10/26/1972",
         "seasongame": 7,
         "is_playoffs": 0,
         "team_id": "DNR",
         "fran_id": "Nuggets",
         "pts": 0,
         "elo_i": 1460.3387,
         "elo_n": 1457.4464,
         "win_equiv": 40.408863,
         "opp_id": "VIR",
         "opp_fran": "Squires",
         "opp_pts": 2,
         "opp_elo_i": 1484.1907,
         "opp_elo_n": 1487.083,
         "game_location": "A",
         "game_result": "L",
         "forecast": 0.32894754,
         "notes": "at Richmond VA; forfeit to VIR",
         "date_played": "1972-10-26T00:00:00.000000",
         "_deepnote_index_column": 26684
        }
       ]
      },
      "text/plain": "       gameorder       game_id lg_id  _iscopy  year_id   date_game  \\\n26684      13343  197210260VIR   ABA        1     1973  10/26/1972   \n\n       seasongame  is_playoffs team_id  fran_id  ...  opp_id  opp_fran  \\\n26684           7            0     DNR  Nuggets  ...     VIR   Squires   \n\n       opp_pts  opp_elo_i opp_elo_n game_location  game_result  forecast  \\\n26684        2  1484.1907  1487.083             A            L  0.328948   \n\n                                notes date_played  \n26684  at Richmond VA; forfeit to VIR  1972-10-26  \n\n[1 rows x 24 columns]",
      "text/html": "<div>\n<style scoped>\n    .dataframe tbody tr th:only-of-type {\n        vertical-align: middle;\n    }\n\n    .dataframe tbody tr th {\n        vertical-align: top;\n    }\n\n    .dataframe thead th {\n        text-align: right;\n    }\n</style>\n<table border=\"1\" class=\"dataframe\">\n  <thead>\n    <tr style=\"text-align: right;\">\n      <th></th>\n      <th>gameorder</th>\n      <th>game_id</th>\n      <th>lg_id</th>\n      <th>_iscopy</th>\n      <th>year_id</th>\n      <th>date_game</th>\n      <th>seasongame</th>\n      <th>is_playoffs</th>\n      <th>team_id</th>\n      <th>fran_id</th>\n      <th>...</th>\n      <th>opp_id</th>\n      <th>opp_fran</th>\n      <th>opp_pts</th>\n      <th>opp_elo_i</th>\n      <th>opp_elo_n</th>\n      <th>game_location</th>\n      <th>game_result</th>\n      <th>forecast</th>\n      <th>notes</th>\n      <th>date_played</th>\n    </tr>\n  </thead>\n  <tbody>\n    <tr>\n      <th>26684</th>\n      <td>13343</td>\n      <td>197210260VIR</td>\n      <td>ABA</td>\n      <td>1</td>\n      <td>1973</td>\n      <td>10/26/1972</td>\n      <td>7</td>\n      <td>0</td>\n      <td>DNR</td>\n      <td>Nuggets</td>\n      <td>...</td>\n      <td>VIR</td>\n      <td>Squires</td>\n      <td>2</td>\n      <td>1484.1907</td>\n      <td>1487.083</td>\n      <td>A</td>\n      <td>L</td>\n      <td>0.328948</td>\n      <td>at Richmond VA; forfeit to VIR</td>\n      <td>1972-10-26</td>\n    </tr>\n  </tbody>\n</table>\n<p>1 rows × 24 columns</p>\n</div>"
     },
     "metadata": {}
    }
   ],
   "execution_count": 56
  },
  {
   "cell_type": "markdown",
   "source": "### Inconsistent Values",
   "metadata": {
    "cell_id": "da23f52214a4436b80131e689a8ecec6",
    "tags": [],
    "is_collapsed": false,
    "formattedRanges": [],
    "deepnote_cell_type": "text-cell-h3"
   }
  },
  {
   "cell_type": "markdown",
   "source": "Sometimes a value would be entirely realistic in and of itself, but it doesn’t fit with the values in the other columns. You can define some query criteria that are mutually exclusive and verify that these don’t occur together.In the NBA dataset, the values of the fields&nbsp;pts,&nbsp;opp_pts&nbsp;and&nbsp;game_result&nbsp;should be consistent with each other. You can check this using the&nbsp;.empty&nbsp;attribute",
   "metadata": {
    "cell_id": "7180926f2c374944942c413f310eb07b",
    "tags": [],
    "is_collapsed": false,
    "formattedRanges": [],
    "deepnote_cell_type": "text-cell-p"
   }
  },
  {
   "cell_type": "code",
   "source": "nba[(nba[\"pts\"] > nba[\"opp_pts\"]) & (nba[\"game_result\"] != 'W')].empty",
   "metadata": {
    "cell_id": "c074ca7d29f74352bd087ab9e06fa593",
    "tags": [],
    "deepnote_to_be_reexecuted": false,
    "source_hash": "ee0da321",
    "execution_start": 1656253959183,
    "execution_millis": 2,
    "deepnote_cell_type": "code",
    "deepnote_cell_height": 118,
    "deepnote_output_heights": [
     21
    ]
   },
   "outputs": [
    {
     "output_type": "execute_result",
     "execution_count": 57,
     "data": {
      "text/plain": "True"
     },
     "metadata": {}
    }
   ],
   "execution_count": 57
  },
  {
   "cell_type": "code",
   "source": "nba[(nba[\"pts\"] < nba[\"opp_pts\"]) & (nba[\"game_result\"] != 'L')].empty",
   "metadata": {
    "cell_id": "3996eb7c90bd4d69a2333b03d0060156",
    "tags": [],
    "deepnote_to_be_reexecuted": false,
    "source_hash": "9963c074",
    "execution_start": 1656254002165,
    "execution_millis": 23,
    "deepnote_cell_type": "code",
    "deepnote_cell_height": 118,
    "deepnote_output_heights": [
     21
    ]
   },
   "outputs": [
    {
     "output_type": "execute_result",
     "execution_count": 58,
     "data": {
      "text/plain": "True"
     },
     "metadata": {}
    }
   ],
   "execution_count": 58
  },
  {
   "cell_type": "markdown",
   "source": "# Combining Multiple Datasets",
   "metadata": {
    "cell_id": "1ee406a0d7dc44efa807b36dd2ba80db",
    "tags": [],
    "is_collapsed": false,
    "formattedRanges": [],
    "deepnote_cell_type": "text-cell-h1"
   }
  },
  {
   "cell_type": "markdown",
   "source": "# Visualizing Your Pandas DataFrame",
   "metadata": {
    "cell_id": "2ac99cb100134b92a99aeebfee203547",
    "tags": [],
    "is_collapsed": false,
    "formattedRanges": [],
    "deepnote_cell_type": "text-cell-h1"
   }
  },
  {
   "cell_type": "code",
   "source": "%matplotlib inline \n# include this line to show plots directly in Notebook",
   "metadata": {
    "cell_id": "78e418a595494928a7b2cab054c4ddc2",
    "tags": [],
    "deepnote_to_be_reexecuted": false,
    "source_hash": "dfdb140e",
    "execution_start": 1656254271632,
    "execution_millis": 52,
    "deepnote_cell_type": "code",
    "deepnote_cell_height": 99
   },
   "outputs": [],
   "execution_count": 62
  },
  {
   "cell_type": "code",
   "source": "#Visualize how many pts Knicks scored throughout time\n\nnba[nba[\"fran_id\"] == \"Knicks\"].groupby(\"year_id\")[\"pts\"].sum().plot()\nnba[nba[\"fran_id\"] == \"Lakers\"].groupby(\"year_id\")[\"pts\"].sum().plot()\nnba[nba[\"fran_id\"] == \"Kings\"].groupby(\"year_id\")[\"pts\"].sum().plot()",
   "metadata": {
    "cell_id": "c4924bfc9f624e658404b9f6d0b0116a",
    "tags": [],
    "deepnote_to_be_reexecuted": false,
    "source_hash": "22f1aa03",
    "execution_start": 1656254739199,
    "execution_millis": 362,
    "deepnote_cell_type": "code",
    "deepnote_cell_height": 486,
    "deepnote_output_heights": [
     21,
     265
    ]
   },
   "outputs": [
    {
     "output_type": "execute_result",
     "execution_count": 72,
     "data": {
      "text/plain": "<AxesSubplot:xlabel='year_id'>"
     },
     "metadata": {}
    },
    {
     "data": {
      "text/plain": "<Figure size 432x288 with 1 Axes>",
      "image/png": "[encoded data removed]"
     },
     "metadata": {
      "needs_background": "light",
      "image/png": {
       "width": 387,
       "height": 263
      }
     },
     "output_type": "display_data"
    }
   ],
   "execution_count": 72
  },
  {
   "cell_type": "code",
   "source": "nba[nba[\"fran_id\"] == \"Lakers\"].groupby(\"year_id\")[\"pts\"].sum().plot()",
   "metadata": {
    "cell_id": "8b4c41e3fd5c4f4ea1922e664808e82d",
    "tags": [],
    "deepnote_to_be_reexecuted": false,
    "source_hash": "6f62efa1",
    "execution_start": 1656254656293,
    "execution_millis": 346,
    "deepnote_cell_type": "code",
    "deepnote_cell_height": 414,
    "deepnote_output_heights": [
     21,
     265
    ]
   },
   "outputs": [
    {
     "output_type": "execute_result",
     "execution_count": 69,
     "data": {
      "text/plain": "<AxesSubplot:xlabel='year_id'>"
     },
     "metadata": {}
    },
    {
     "data": {
      "text/plain": "<Figure size 432x288 with 1 Axes>",
      "image/png": "[encoded data removed]"
     },
     "metadata": {
      "needs_background": "light",
      "image/png": {
       "width": 387,
       "height": 263
      }
     },
     "output_type": "display_data"
    }
   ],
   "execution_count": 69
  },
  {
   "cell_type": "code",
   "source": "nba[\"fran_id\"].value_counts().head(10).plot(kind=\"bar\")",
   "metadata": {
    "cell_id": "294486e412944d9f92becf7157c41d63",
    "tags": [],
    "deepnote_to_be_reexecuted": false,
    "source_hash": "d9bd8e16",
    "execution_start": 1656254797288,
    "execution_millis": 433,
    "deepnote_cell_type": "code",
    "deepnote_cell_height": 431,
    "deepnote_output_heights": [
     21,
     282
    ]
   },
   "outputs": [
    {
     "output_type": "execute_result",
     "execution_count": 73,
     "data": {
      "text/plain": "<AxesSubplot:>"
     },
     "metadata": {}
    },
    {
     "data": {
      "text/plain": "<Figure size 432x288 with 1 Axes>",
      "image/png": "[encoded data removed]"
     },
     "metadata": {
      "needs_background": "light",
      "image/png": {
       "width": 381,
       "height": 280
      }
     },
     "output_type": "display_data"
    }
   ],
   "execution_count": 73
  },
  {
   "cell_type": "code",
   "source": "nba[\n    (nba[\"fran_id\"] == \"Heat\") &\n    (nba[\"year_id\"] == 2013)\n][\"game_result\"].value_counts().plot(kind=\"pie\")",
   "metadata": {
    "cell_id": "f13e864be1cd489ba32a4cd12a605edf",
    "tags": [],
    "deepnote_to_be_reexecuted": false,
    "source_hash": "1dc37762",
    "execution_start": 1656255091092,
    "execution_millis": 177,
    "deepnote_cell_type": "code",
    "deepnote_cell_height": 436,
    "deepnote_output_heights": [
     21,
     233
    ]
   },
   "outputs": [
    {
     "output_type": "execute_result",
     "execution_count": 76,
     "data": {
      "text/plain": "<AxesSubplot:ylabel='game_result'>"
     },
     "metadata": {}
    },
    {
     "data": {
      "text/plain": "<Figure size 432x288 with 1 Axes>",
      "image/png": "[encoded data removed]"
     },
     "metadata": {
      "image/png": {
       "width": 250,
       "height": 231
      }
     },
     "output_type": "display_data"
    }
   ],
   "execution_count": 76
  },
  {
   "cell_type": "markdown",
   "source": "<a style='text-decoration:none;line-height:16px;display:flex;color:#5B5B62;padding:10px;justify-content:end;' href='https://deepnote.com?utm_source=created-in-deepnote-cell&projectId=04aaffa0-2f0a-4554-8384-5ddb5940d49a' target=\"_blank\">\n<img alt='Created in deepnote.com' style='display:inline;max-height:16px;margin:0px;margin-right:7.5px;' src='data:image/svg+xml;base64,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' > </img>\nCreated in <span style='font-weight:600;margin-left:4px;'>Deepnote</span></a>",
   "metadata": {
    "tags": [],
    "created_in_deepnote_cell": true,
    "deepnote_cell_type": "markdown"
   }
  }
 ],
 "nbformat": 4,
 "nbformat_minor": 2,
 "metadata": {
  "orig_nbformat": 2,
  "deepnote": {},
  "deepnote_notebook_id": "fcd5ce2f-a821-4d63-a376-ac2a6d82e29f",
  "deepnote_app_layout": "dashboard",
  "deepnote_execution_queue": []
 }
}